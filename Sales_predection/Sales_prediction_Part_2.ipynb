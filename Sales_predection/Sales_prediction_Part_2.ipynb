{
  "cells": [
    {
      "cell_type": "code",
      "execution_count": 1,
      "metadata": {
        "id": "C8iHQMggFtyl"
      },
      "outputs": [],
      "source": [
        "# Importing libraries.\n",
        "import matplotlib.pyplot as plt\n",
        "import seaborn as sns\n",
        "import pandas as pd\n",
        "import numpy as np\n",
        "\n",
        "from sklearn.preprocessing import StandardScaler, OneHotEncoder\n",
        "from sklearn.impute import SimpleImputer\n",
        "from sklearn.linear_model import LinearRegression\n",
        "from sklearn.compose import make_column_transformer, make_column_selector\n",
        "from sklearn.pipeline import make_pipeline\n",
        "from sklearn.metrics import mean_absolute_error, mean_squared_error, r2_score\n",
        "from sklearn.ensemble import RandomForestRegressor\n",
        "from sklearn.model_selection import train_test_split\n",
        "from sklearn import set_config\n",
        "set_config(display='diagram')"
      ]
    },
    {
      "cell_type": "markdown",
      "metadata": {
        "id": "5C8vXG1aNeR1"
      },
      "source": [
        "## Section 2: Data Loading"
      ]
    },
    {
      "cell_type": "markdown",
      "metadata": {
        "id": "oIk2Z9sCQ_k-"
      },
      "source": [
        "###2.1.- Mounting data."
      ]
    },
    {
      "cell_type": "code",
      "execution_count": 2,
      "metadata": {
        "colab": {
          "base_uri": "https://localhost:8080/"
        },
        "id": "uRtxp5qjOJUn",
        "outputId": "26c81ad4-61ce-4ad6-968b-ec6133595629"
      },
      "outputs": [
        {
          "name": "stdout",
          "output_type": "stream",
          "text": [
            "Mounted at /content/drive\n"
          ]
        }
      ],
      "source": [
        "from google.colab import drive\n",
        "drive.mount('/content/drive')"
      ]
    },
    {
      "cell_type": "markdown",
      "metadata": {
        "id": "nJm9o_UHRFkf"
      },
      "source": [
        "###2.2.- Loading data."
      ]
    },
    {
      "cell_type": "code",
      "execution_count": 3,
      "metadata": {
        "colab": {
          "base_uri": "https://localhost:8080/",
          "height": 593
        },
        "id": "j9HSEO8c2255",
        "outputId": "8006a9b6-e44e-445f-b5ed-2ec325564153"
      },
      "outputs": [
        {
          "data": {
            "text/html": [
              "\n",
              "  <div id=\"df-a02cad98-304c-45b0-80ea-c2e732529391\">\n",
              "    <div class=\"colab-df-container\">\n",
              "      <div>\n",
              "<style scoped>\n",
              "    .dataframe tbody tr th:only-of-type {\n",
              "        vertical-align: middle;\n",
              "    }\n",
              "\n",
              "    .dataframe tbody tr th {\n",
              "        vertical-align: top;\n",
              "    }\n",
              "\n",
              "    .dataframe thead th {\n",
              "        text-align: right;\n",
              "    }\n",
              "</style>\n",
              "<table border=\"1\" class=\"dataframe\">\n",
              "  <thead>\n",
              "    <tr style=\"text-align: right;\">\n",
              "      <th></th>\n",
              "      <th>Item_Identifier</th>\n",
              "      <th>Item_Weight</th>\n",
              "      <th>Item_Fat_Content</th>\n",
              "      <th>Item_Visibility</th>\n",
              "      <th>Item_Type</th>\n",
              "      <th>Item_MRP</th>\n",
              "      <th>Outlet_Identifier</th>\n",
              "      <th>Outlet_Establishment_Year</th>\n",
              "      <th>Outlet_Size</th>\n",
              "      <th>Outlet_Location_Type</th>\n",
              "      <th>Outlet_Type</th>\n",
              "      <th>Item_Outlet_Sales</th>\n",
              "    </tr>\n",
              "  </thead>\n",
              "  <tbody>\n",
              "    <tr>\n",
              "      <th>0</th>\n",
              "      <td>FDA15</td>\n",
              "      <td>9.300</td>\n",
              "      <td>Low Fat</td>\n",
              "      <td>0.016047</td>\n",
              "      <td>Dairy</td>\n",
              "      <td>249.8092</td>\n",
              "      <td>OUT049</td>\n",
              "      <td>1999</td>\n",
              "      <td>Medium</td>\n",
              "      <td>Tier 1</td>\n",
              "      <td>Supermarket Type1</td>\n",
              "      <td>3735.1380</td>\n",
              "    </tr>\n",
              "    <tr>\n",
              "      <th>1</th>\n",
              "      <td>DRC01</td>\n",
              "      <td>5.920</td>\n",
              "      <td>Regular</td>\n",
              "      <td>0.019278</td>\n",
              "      <td>Soft Drinks</td>\n",
              "      <td>48.2692</td>\n",
              "      <td>OUT018</td>\n",
              "      <td>2009</td>\n",
              "      <td>Medium</td>\n",
              "      <td>Tier 3</td>\n",
              "      <td>Supermarket Type2</td>\n",
              "      <td>443.4228</td>\n",
              "    </tr>\n",
              "    <tr>\n",
              "      <th>2</th>\n",
              "      <td>FDN15</td>\n",
              "      <td>17.500</td>\n",
              "      <td>Low Fat</td>\n",
              "      <td>0.016760</td>\n",
              "      <td>Meat</td>\n",
              "      <td>141.6180</td>\n",
              "      <td>OUT049</td>\n",
              "      <td>1999</td>\n",
              "      <td>Medium</td>\n",
              "      <td>Tier 1</td>\n",
              "      <td>Supermarket Type1</td>\n",
              "      <td>2097.2700</td>\n",
              "    </tr>\n",
              "    <tr>\n",
              "      <th>3</th>\n",
              "      <td>FDX07</td>\n",
              "      <td>19.200</td>\n",
              "      <td>Regular</td>\n",
              "      <td>0.000000</td>\n",
              "      <td>Fruits and Vegetables</td>\n",
              "      <td>182.0950</td>\n",
              "      <td>OUT010</td>\n",
              "      <td>1998</td>\n",
              "      <td>NaN</td>\n",
              "      <td>Tier 3</td>\n",
              "      <td>Grocery Store</td>\n",
              "      <td>732.3800</td>\n",
              "    </tr>\n",
              "    <tr>\n",
              "      <th>4</th>\n",
              "      <td>NCD19</td>\n",
              "      <td>8.930</td>\n",
              "      <td>Low Fat</td>\n",
              "      <td>0.000000</td>\n",
              "      <td>Household</td>\n",
              "      <td>53.8614</td>\n",
              "      <td>OUT013</td>\n",
              "      <td>1987</td>\n",
              "      <td>High</td>\n",
              "      <td>Tier 3</td>\n",
              "      <td>Supermarket Type1</td>\n",
              "      <td>994.7052</td>\n",
              "    </tr>\n",
              "    <tr>\n",
              "      <th>5</th>\n",
              "      <td>FDP36</td>\n",
              "      <td>10.395</td>\n",
              "      <td>Regular</td>\n",
              "      <td>0.000000</td>\n",
              "      <td>Baking Goods</td>\n",
              "      <td>51.4008</td>\n",
              "      <td>OUT018</td>\n",
              "      <td>2009</td>\n",
              "      <td>Medium</td>\n",
              "      <td>Tier 3</td>\n",
              "      <td>Supermarket Type2</td>\n",
              "      <td>556.6088</td>\n",
              "    </tr>\n",
              "    <tr>\n",
              "      <th>6</th>\n",
              "      <td>FDO10</td>\n",
              "      <td>13.650</td>\n",
              "      <td>Regular</td>\n",
              "      <td>0.012741</td>\n",
              "      <td>Snack Foods</td>\n",
              "      <td>57.6588</td>\n",
              "      <td>OUT013</td>\n",
              "      <td>1987</td>\n",
              "      <td>High</td>\n",
              "      <td>Tier 3</td>\n",
              "      <td>Supermarket Type1</td>\n",
              "      <td>343.5528</td>\n",
              "    </tr>\n",
              "    <tr>\n",
              "      <th>7</th>\n",
              "      <td>FDP10</td>\n",
              "      <td>NaN</td>\n",
              "      <td>Low Fat</td>\n",
              "      <td>0.127470</td>\n",
              "      <td>Snack Foods</td>\n",
              "      <td>107.7622</td>\n",
              "      <td>OUT027</td>\n",
              "      <td>1985</td>\n",
              "      <td>Medium</td>\n",
              "      <td>Tier 3</td>\n",
              "      <td>Supermarket Type3</td>\n",
              "      <td>4022.7636</td>\n",
              "    </tr>\n",
              "    <tr>\n",
              "      <th>8</th>\n",
              "      <td>FDH17</td>\n",
              "      <td>16.200</td>\n",
              "      <td>Regular</td>\n",
              "      <td>0.016687</td>\n",
              "      <td>Frozen Foods</td>\n",
              "      <td>96.9726</td>\n",
              "      <td>OUT045</td>\n",
              "      <td>2002</td>\n",
              "      <td>NaN</td>\n",
              "      <td>Tier 2</td>\n",
              "      <td>Supermarket Type1</td>\n",
              "      <td>1076.5986</td>\n",
              "    </tr>\n",
              "    <tr>\n",
              "      <th>9</th>\n",
              "      <td>FDU28</td>\n",
              "      <td>19.200</td>\n",
              "      <td>Regular</td>\n",
              "      <td>0.094450</td>\n",
              "      <td>Frozen Foods</td>\n",
              "      <td>187.8214</td>\n",
              "      <td>OUT017</td>\n",
              "      <td>2007</td>\n",
              "      <td>NaN</td>\n",
              "      <td>Tier 2</td>\n",
              "      <td>Supermarket Type1</td>\n",
              "      <td>4710.5350</td>\n",
              "    </tr>\n",
              "  </tbody>\n",
              "</table>\n",
              "</div>\n",
              "      <button class=\"colab-df-convert\" onclick=\"convertToInteractive('df-a02cad98-304c-45b0-80ea-c2e732529391')\"\n",
              "              title=\"Convert this dataframe to an interactive table.\"\n",
              "              style=\"display:none;\">\n",
              "        \n",
              "  <svg xmlns=\"http://www.w3.org/2000/svg\" height=\"24px\"viewBox=\"0 0 24 24\"\n",
              "       width=\"24px\">\n",
              "    <path d=\"M0 0h24v24H0V0z\" fill=\"none\"/>\n",
              "    <path d=\"M18.56 5.44l.94 2.06.94-2.06 2.06-.94-2.06-.94-.94-2.06-.94 2.06-2.06.94zm-11 1L8.5 8.5l.94-2.06 2.06-.94-2.06-.94L8.5 2.5l-.94 2.06-2.06.94zm10 10l.94 2.06.94-2.06 2.06-.94-2.06-.94-.94-2.06-.94 2.06-2.06.94z\"/><path d=\"M17.41 7.96l-1.37-1.37c-.4-.4-.92-.59-1.43-.59-.52 0-1.04.2-1.43.59L10.3 9.45l-7.72 7.72c-.78.78-.78 2.05 0 2.83L4 21.41c.39.39.9.59 1.41.59.51 0 1.02-.2 1.41-.59l7.78-7.78 2.81-2.81c.8-.78.8-2.07 0-2.86zM5.41 20L4 18.59l7.72-7.72 1.47 1.35L5.41 20z\"/>\n",
              "  </svg>\n",
              "      </button>\n",
              "      \n",
              "  <style>\n",
              "    .colab-df-container {\n",
              "      display:flex;\n",
              "      flex-wrap:wrap;\n",
              "      gap: 12px;\n",
              "    }\n",
              "\n",
              "    .colab-df-convert {\n",
              "      background-color: #E8F0FE;\n",
              "      border: none;\n",
              "      border-radius: 50%;\n",
              "      cursor: pointer;\n",
              "      display: none;\n",
              "      fill: #1967D2;\n",
              "      height: 32px;\n",
              "      padding: 0 0 0 0;\n",
              "      width: 32px;\n",
              "    }\n",
              "\n",
              "    .colab-df-convert:hover {\n",
              "      background-color: #E2EBFA;\n",
              "      box-shadow: 0px 1px 2px rgba(60, 64, 67, 0.3), 0px 1px 3px 1px rgba(60, 64, 67, 0.15);\n",
              "      fill: #174EA6;\n",
              "    }\n",
              "\n",
              "    [theme=dark] .colab-df-convert {\n",
              "      background-color: #3B4455;\n",
              "      fill: #D2E3FC;\n",
              "    }\n",
              "\n",
              "    [theme=dark] .colab-df-convert:hover {\n",
              "      background-color: #434B5C;\n",
              "      box-shadow: 0px 1px 3px 1px rgba(0, 0, 0, 0.15);\n",
              "      filter: drop-shadow(0px 1px 2px rgba(0, 0, 0, 0.3));\n",
              "      fill: #FFFFFF;\n",
              "    }\n",
              "  </style>\n",
              "\n",
              "      <script>\n",
              "        const buttonEl =\n",
              "          document.querySelector('#df-a02cad98-304c-45b0-80ea-c2e732529391 button.colab-df-convert');\n",
              "        buttonEl.style.display =\n",
              "          google.colab.kernel.accessAllowed ? 'block' : 'none';\n",
              "\n",
              "        async function convertToInteractive(key) {\n",
              "          const element = document.querySelector('#df-a02cad98-304c-45b0-80ea-c2e732529391');\n",
              "          const dataTable =\n",
              "            await google.colab.kernel.invokeFunction('convertToInteractive',\n",
              "                                                     [key], {});\n",
              "          if (!dataTable) return;\n",
              "\n",
              "          const docLinkHtml = 'Like what you see? Visit the ' +\n",
              "            '<a target=\"_blank\" href=https://colab.research.google.com/notebooks/data_table.ipynb>data table notebook</a>'\n",
              "            + ' to learn more about interactive tables.';\n",
              "          element.innerHTML = '';\n",
              "          dataTable['output_type'] = 'display_data';\n",
              "          await google.colab.output.renderOutput(dataTable, element);\n",
              "          const docLink = document.createElement('div');\n",
              "          docLink.innerHTML = docLinkHtml;\n",
              "          element.appendChild(docLink);\n",
              "        }\n",
              "      </script>\n",
              "    </div>\n",
              "  </div>\n",
              "  "
            ],
            "text/plain": [
              "  Item_Identifier  Item_Weight Item_Fat_Content  Item_Visibility  \\\n",
              "0           FDA15        9.300          Low Fat         0.016047   \n",
              "1           DRC01        5.920          Regular         0.019278   \n",
              "2           FDN15       17.500          Low Fat         0.016760   \n",
              "3           FDX07       19.200          Regular         0.000000   \n",
              "4           NCD19        8.930          Low Fat         0.000000   \n",
              "5           FDP36       10.395          Regular         0.000000   \n",
              "6           FDO10       13.650          Regular         0.012741   \n",
              "7           FDP10          NaN          Low Fat         0.127470   \n",
              "8           FDH17       16.200          Regular         0.016687   \n",
              "9           FDU28       19.200          Regular         0.094450   \n",
              "\n",
              "               Item_Type  Item_MRP Outlet_Identifier  \\\n",
              "0                  Dairy  249.8092            OUT049   \n",
              "1            Soft Drinks   48.2692            OUT018   \n",
              "2                   Meat  141.6180            OUT049   \n",
              "3  Fruits and Vegetables  182.0950            OUT010   \n",
              "4              Household   53.8614            OUT013   \n",
              "5           Baking Goods   51.4008            OUT018   \n",
              "6            Snack Foods   57.6588            OUT013   \n",
              "7            Snack Foods  107.7622            OUT027   \n",
              "8           Frozen Foods   96.9726            OUT045   \n",
              "9           Frozen Foods  187.8214            OUT017   \n",
              "\n",
              "   Outlet_Establishment_Year Outlet_Size Outlet_Location_Type  \\\n",
              "0                       1999      Medium               Tier 1   \n",
              "1                       2009      Medium               Tier 3   \n",
              "2                       1999      Medium               Tier 1   \n",
              "3                       1998         NaN               Tier 3   \n",
              "4                       1987        High               Tier 3   \n",
              "5                       2009      Medium               Tier 3   \n",
              "6                       1987        High               Tier 3   \n",
              "7                       1985      Medium               Tier 3   \n",
              "8                       2002         NaN               Tier 2   \n",
              "9                       2007         NaN               Tier 2   \n",
              "\n",
              "         Outlet_Type  Item_Outlet_Sales  \n",
              "0  Supermarket Type1          3735.1380  \n",
              "1  Supermarket Type2           443.4228  \n",
              "2  Supermarket Type1          2097.2700  \n",
              "3      Grocery Store           732.3800  \n",
              "4  Supermarket Type1           994.7052  \n",
              "5  Supermarket Type2           556.6088  \n",
              "6  Supermarket Type1           343.5528  \n",
              "7  Supermarket Type3          4022.7636  \n",
              "8  Supermarket Type1          1076.5986  \n",
              "9  Supermarket Type1          4710.5350  "
            ]
          },
          "execution_count": 3,
          "metadata": {},
          "output_type": "execute_result"
        }
      ],
      "source": [
        "data_path = '/content/drive/MyDrive/Data Science/Colab Notebooks/Data/Data Science Fundamentals/sales_predictions.csv'\n",
        "df = pd.read_csv(data_path)\n",
        "df.head(10)"
      ]
    },
    {
      "cell_type": "markdown",
      "metadata": {
        "id": "NwWCgtKiNpJA"
      },
      "source": [
        "## Section 3: Data Dictionary"
      ]
    },
    {
      "cell_type": "markdown",
      "metadata": {
        "id": "Ow_tfWYUpdyz"
      },
      "source": [
        "![1.png](data:image/png;base64,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)"
      ]
    },
    {
      "cell_type": "markdown",
      "metadata": {
        "id": "HzBKsZ3dNta6"
      },
      "source": [
        "##Section 4: Data Understanding"
      ]
    },
    {
      "cell_type": "markdown",
      "metadata": {
        "id": "GTCpzZT-Qt0Z"
      },
      "source": [
        "###4.1.- Primary look."
      ]
    },
    {
      "cell_type": "code",
      "execution_count": 4,
      "metadata": {
        "colab": {
          "base_uri": "https://localhost:8080/"
        },
        "id": "9xNWl-UQPfpD",
        "outputId": "adde38e1-87e5-4997-8712-677e01ecdc55"
      },
      "outputs": [
        {
          "name": "stdout",
          "output_type": "stream",
          "text": [
            "<class 'pandas.core.frame.DataFrame'>\n",
            "RangeIndex: 8523 entries, 0 to 8522\n",
            "Data columns (total 12 columns):\n",
            " #   Column                     Non-Null Count  Dtype  \n",
            "---  ------                     --------------  -----  \n",
            " 0   Item_Identifier            8523 non-null   object \n",
            " 1   Item_Weight                7060 non-null   float64\n",
            " 2   Item_Fat_Content           8523 non-null   object \n",
            " 3   Item_Visibility            8523 non-null   float64\n",
            " 4   Item_Type                  8523 non-null   object \n",
            " 5   Item_MRP                   8523 non-null   float64\n",
            " 6   Outlet_Identifier          8523 non-null   object \n",
            " 7   Outlet_Establishment_Year  8523 non-null   int64  \n",
            " 8   Outlet_Size                6113 non-null   object \n",
            " 9   Outlet_Location_Type       8523 non-null   object \n",
            " 10  Outlet_Type                8523 non-null   object \n",
            " 11  Item_Outlet_Sales          8523 non-null   float64\n",
            "dtypes: float64(4), int64(1), object(7)\n",
            "memory usage: 799.2+ KB\n"
          ]
        }
      ],
      "source": [
        "# Let's see the general information of our dataset.\n",
        "df.info()"
      ]
    },
    {
      "cell_type": "code",
      "execution_count": 5,
      "metadata": {
        "colab": {
          "base_uri": "https://localhost:8080/"
        },
        "id": "z4tjaA86h4YQ",
        "outputId": "f9731ad0-a8e0-473e-f66d-7c667c88f3f4"
      },
      "outputs": [
        {
          "data": {
            "text/plain": [
              "(8523, 12)"
            ]
          },
          "execution_count": 5,
          "metadata": {},
          "output_type": "execute_result"
        }
      ],
      "source": [
        "# Let's display the size of our dataframe.\n",
        "df.shape"
      ]
    },
    {
      "cell_type": "code",
      "execution_count": 6,
      "metadata": {
        "colab": {
          "base_uri": "https://localhost:8080/",
          "height": 471
        },
        "id": "4k4WheeY4RBi",
        "outputId": "4f671b55-a75c-4b43-d5d5-8949bc7219ac"
      },
      "outputs": [
        {
          "data": {
            "text/html": [
              "\n",
              "  <div id=\"df-3f17e62b-8d11-4f4b-a4b5-51628b4b5d82\">\n",
              "    <div class=\"colab-df-container\">\n",
              "      <div>\n",
              "<style scoped>\n",
              "    .dataframe tbody tr th:only-of-type {\n",
              "        vertical-align: middle;\n",
              "    }\n",
              "\n",
              "    .dataframe tbody tr th {\n",
              "        vertical-align: top;\n",
              "    }\n",
              "\n",
              "    .dataframe thead th {\n",
              "        text-align: right;\n",
              "    }\n",
              "</style>\n",
              "<table border=\"1\" class=\"dataframe\">\n",
              "  <thead>\n",
              "    <tr style=\"text-align: right;\">\n",
              "      <th></th>\n",
              "      <th>Item_Identifier</th>\n",
              "      <th>Item_Weight</th>\n",
              "      <th>Item_Fat_Content</th>\n",
              "      <th>Item_Visibility</th>\n",
              "      <th>Item_Type</th>\n",
              "      <th>Item_MRP</th>\n",
              "      <th>Outlet_Identifier</th>\n",
              "      <th>Outlet_Establishment_Year</th>\n",
              "      <th>Outlet_Size</th>\n",
              "      <th>Outlet_Location_Type</th>\n",
              "      <th>Outlet_Type</th>\n",
              "      <th>Item_Outlet_Sales</th>\n",
              "    </tr>\n",
              "  </thead>\n",
              "  <tbody>\n",
              "    <tr>\n",
              "      <th>count</th>\n",
              "      <td>8523</td>\n",
              "      <td>7060.00</td>\n",
              "      <td>8523</td>\n",
              "      <td>8523.00</td>\n",
              "      <td>8523</td>\n",
              "      <td>8523.00</td>\n",
              "      <td>8523</td>\n",
              "      <td>8523.00</td>\n",
              "      <td>6113</td>\n",
              "      <td>8523</td>\n",
              "      <td>8523</td>\n",
              "      <td>8523.00</td>\n",
              "    </tr>\n",
              "    <tr>\n",
              "      <th>unique</th>\n",
              "      <td>1559</td>\n",
              "      <td>NaN</td>\n",
              "      <td>5</td>\n",
              "      <td>NaN</td>\n",
              "      <td>16</td>\n",
              "      <td>NaN</td>\n",
              "      <td>10</td>\n",
              "      <td>NaN</td>\n",
              "      <td>3</td>\n",
              "      <td>3</td>\n",
              "      <td>4</td>\n",
              "      <td>NaN</td>\n",
              "    </tr>\n",
              "    <tr>\n",
              "      <th>top</th>\n",
              "      <td>FDW13</td>\n",
              "      <td>NaN</td>\n",
              "      <td>Low Fat</td>\n",
              "      <td>NaN</td>\n",
              "      <td>Fruits and Vegetables</td>\n",
              "      <td>NaN</td>\n",
              "      <td>OUT027</td>\n",
              "      <td>NaN</td>\n",
              "      <td>Medium</td>\n",
              "      <td>Tier 3</td>\n",
              "      <td>Supermarket Type1</td>\n",
              "      <td>NaN</td>\n",
              "    </tr>\n",
              "    <tr>\n",
              "      <th>freq</th>\n",
              "      <td>10</td>\n",
              "      <td>NaN</td>\n",
              "      <td>5089</td>\n",
              "      <td>NaN</td>\n",
              "      <td>1232</td>\n",
              "      <td>NaN</td>\n",
              "      <td>935</td>\n",
              "      <td>NaN</td>\n",
              "      <td>2793</td>\n",
              "      <td>3350</td>\n",
              "      <td>5577</td>\n",
              "      <td>NaN</td>\n",
              "    </tr>\n",
              "    <tr>\n",
              "      <th>mean</th>\n",
              "      <td>NaN</td>\n",
              "      <td>12.86</td>\n",
              "      <td>NaN</td>\n",
              "      <td>0.07</td>\n",
              "      <td>NaN</td>\n",
              "      <td>140.99</td>\n",
              "      <td>NaN</td>\n",
              "      <td>1997.83</td>\n",
              "      <td>NaN</td>\n",
              "      <td>NaN</td>\n",
              "      <td>NaN</td>\n",
              "      <td>2181.29</td>\n",
              "    </tr>\n",
              "    <tr>\n",
              "      <th>std</th>\n",
              "      <td>NaN</td>\n",
              "      <td>4.64</td>\n",
              "      <td>NaN</td>\n",
              "      <td>0.05</td>\n",
              "      <td>NaN</td>\n",
              "      <td>62.28</td>\n",
              "      <td>NaN</td>\n",
              "      <td>8.37</td>\n",
              "      <td>NaN</td>\n",
              "      <td>NaN</td>\n",
              "      <td>NaN</td>\n",
              "      <td>1706.50</td>\n",
              "    </tr>\n",
              "    <tr>\n",
              "      <th>min</th>\n",
              "      <td>NaN</td>\n",
              "      <td>4.56</td>\n",
              "      <td>NaN</td>\n",
              "      <td>0.00</td>\n",
              "      <td>NaN</td>\n",
              "      <td>31.29</td>\n",
              "      <td>NaN</td>\n",
              "      <td>1985.00</td>\n",
              "      <td>NaN</td>\n",
              "      <td>NaN</td>\n",
              "      <td>NaN</td>\n",
              "      <td>33.29</td>\n",
              "    </tr>\n",
              "    <tr>\n",
              "      <th>25%</th>\n",
              "      <td>NaN</td>\n",
              "      <td>8.77</td>\n",
              "      <td>NaN</td>\n",
              "      <td>0.03</td>\n",
              "      <td>NaN</td>\n",
              "      <td>93.83</td>\n",
              "      <td>NaN</td>\n",
              "      <td>1987.00</td>\n",
              "      <td>NaN</td>\n",
              "      <td>NaN</td>\n",
              "      <td>NaN</td>\n",
              "      <td>834.25</td>\n",
              "    </tr>\n",
              "    <tr>\n",
              "      <th>50%</th>\n",
              "      <td>NaN</td>\n",
              "      <td>12.60</td>\n",
              "      <td>NaN</td>\n",
              "      <td>0.05</td>\n",
              "      <td>NaN</td>\n",
              "      <td>143.01</td>\n",
              "      <td>NaN</td>\n",
              "      <td>1999.00</td>\n",
              "      <td>NaN</td>\n",
              "      <td>NaN</td>\n",
              "      <td>NaN</td>\n",
              "      <td>1794.33</td>\n",
              "    </tr>\n",
              "    <tr>\n",
              "      <th>75%</th>\n",
              "      <td>NaN</td>\n",
              "      <td>16.85</td>\n",
              "      <td>NaN</td>\n",
              "      <td>0.09</td>\n",
              "      <td>NaN</td>\n",
              "      <td>185.64</td>\n",
              "      <td>NaN</td>\n",
              "      <td>2004.00</td>\n",
              "      <td>NaN</td>\n",
              "      <td>NaN</td>\n",
              "      <td>NaN</td>\n",
              "      <td>3101.30</td>\n",
              "    </tr>\n",
              "    <tr>\n",
              "      <th>max</th>\n",
              "      <td>NaN</td>\n",
              "      <td>21.35</td>\n",
              "      <td>NaN</td>\n",
              "      <td>0.33</td>\n",
              "      <td>NaN</td>\n",
              "      <td>266.89</td>\n",
              "      <td>NaN</td>\n",
              "      <td>2009.00</td>\n",
              "      <td>NaN</td>\n",
              "      <td>NaN</td>\n",
              "      <td>NaN</td>\n",
              "      <td>13086.96</td>\n",
              "    </tr>\n",
              "  </tbody>\n",
              "</table>\n",
              "</div>\n",
              "      <button class=\"colab-df-convert\" onclick=\"convertToInteractive('df-3f17e62b-8d11-4f4b-a4b5-51628b4b5d82')\"\n",
              "              title=\"Convert this dataframe to an interactive table.\"\n",
              "              style=\"display:none;\">\n",
              "        \n",
              "  <svg xmlns=\"http://www.w3.org/2000/svg\" height=\"24px\"viewBox=\"0 0 24 24\"\n",
              "       width=\"24px\">\n",
              "    <path d=\"M0 0h24v24H0V0z\" fill=\"none\"/>\n",
              "    <path d=\"M18.56 5.44l.94 2.06.94-2.06 2.06-.94-2.06-.94-.94-2.06-.94 2.06-2.06.94zm-11 1L8.5 8.5l.94-2.06 2.06-.94-2.06-.94L8.5 2.5l-.94 2.06-2.06.94zm10 10l.94 2.06.94-2.06 2.06-.94-2.06-.94-.94-2.06-.94 2.06-2.06.94z\"/><path d=\"M17.41 7.96l-1.37-1.37c-.4-.4-.92-.59-1.43-.59-.52 0-1.04.2-1.43.59L10.3 9.45l-7.72 7.72c-.78.78-.78 2.05 0 2.83L4 21.41c.39.39.9.59 1.41.59.51 0 1.02-.2 1.41-.59l7.78-7.78 2.81-2.81c.8-.78.8-2.07 0-2.86zM5.41 20L4 18.59l7.72-7.72 1.47 1.35L5.41 20z\"/>\n",
              "  </svg>\n",
              "      </button>\n",
              "      \n",
              "  <style>\n",
              "    .colab-df-container {\n",
              "      display:flex;\n",
              "      flex-wrap:wrap;\n",
              "      gap: 12px;\n",
              "    }\n",
              "\n",
              "    .colab-df-convert {\n",
              "      background-color: #E8F0FE;\n",
              "      border: none;\n",
              "      border-radius: 50%;\n",
              "      cursor: pointer;\n",
              "      display: none;\n",
              "      fill: #1967D2;\n",
              "      height: 32px;\n",
              "      padding: 0 0 0 0;\n",
              "      width: 32px;\n",
              "    }\n",
              "\n",
              "    .colab-df-convert:hover {\n",
              "      background-color: #E2EBFA;\n",
              "      box-shadow: 0px 1px 2px rgba(60, 64, 67, 0.3), 0px 1px 3px 1px rgba(60, 64, 67, 0.15);\n",
              "      fill: #174EA6;\n",
              "    }\n",
              "\n",
              "    [theme=dark] .colab-df-convert {\n",
              "      background-color: #3B4455;\n",
              "      fill: #D2E3FC;\n",
              "    }\n",
              "\n",
              "    [theme=dark] .colab-df-convert:hover {\n",
              "      background-color: #434B5C;\n",
              "      box-shadow: 0px 1px 3px 1px rgba(0, 0, 0, 0.15);\n",
              "      filter: drop-shadow(0px 1px 2px rgba(0, 0, 0, 0.3));\n",
              "      fill: #FFFFFF;\n",
              "    }\n",
              "  </style>\n",
              "\n",
              "      <script>\n",
              "        const buttonEl =\n",
              "          document.querySelector('#df-3f17e62b-8d11-4f4b-a4b5-51628b4b5d82 button.colab-df-convert');\n",
              "        buttonEl.style.display =\n",
              "          google.colab.kernel.accessAllowed ? 'block' : 'none';\n",
              "\n",
              "        async function convertToInteractive(key) {\n",
              "          const element = document.querySelector('#df-3f17e62b-8d11-4f4b-a4b5-51628b4b5d82');\n",
              "          const dataTable =\n",
              "            await google.colab.kernel.invokeFunction('convertToInteractive',\n",
              "                                                     [key], {});\n",
              "          if (!dataTable) return;\n",
              "\n",
              "          const docLinkHtml = 'Like what you see? Visit the ' +\n",
              "            '<a target=\"_blank\" href=https://colab.research.google.com/notebooks/data_table.ipynb>data table notebook</a>'\n",
              "            + ' to learn more about interactive tables.';\n",
              "          element.innerHTML = '';\n",
              "          dataTable['output_type'] = 'display_data';\n",
              "          await google.colab.output.renderOutput(dataTable, element);\n",
              "          const docLink = document.createElement('div');\n",
              "          docLink.innerHTML = docLinkHtml;\n",
              "          element.appendChild(docLink);\n",
              "        }\n",
              "      </script>\n",
              "    </div>\n",
              "  </div>\n",
              "  "
            ],
            "text/plain": [
              "       Item_Identifier  Item_Weight Item_Fat_Content  Item_Visibility  \\\n",
              "count             8523      7060.00             8523          8523.00   \n",
              "unique            1559          NaN                5              NaN   \n",
              "top              FDW13          NaN          Low Fat              NaN   \n",
              "freq                10          NaN             5089              NaN   \n",
              "mean               NaN        12.86              NaN             0.07   \n",
              "std                NaN         4.64              NaN             0.05   \n",
              "min                NaN         4.56              NaN             0.00   \n",
              "25%                NaN         8.77              NaN             0.03   \n",
              "50%                NaN        12.60              NaN             0.05   \n",
              "75%                NaN        16.85              NaN             0.09   \n",
              "max                NaN        21.35              NaN             0.33   \n",
              "\n",
              "                    Item_Type  Item_MRP Outlet_Identifier  \\\n",
              "count                    8523   8523.00              8523   \n",
              "unique                     16       NaN                10   \n",
              "top     Fruits and Vegetables       NaN            OUT027   \n",
              "freq                     1232       NaN               935   \n",
              "mean                      NaN    140.99               NaN   \n",
              "std                       NaN     62.28               NaN   \n",
              "min                       NaN     31.29               NaN   \n",
              "25%                       NaN     93.83               NaN   \n",
              "50%                       NaN    143.01               NaN   \n",
              "75%                       NaN    185.64               NaN   \n",
              "max                       NaN    266.89               NaN   \n",
              "\n",
              "        Outlet_Establishment_Year Outlet_Size Outlet_Location_Type  \\\n",
              "count                     8523.00        6113                 8523   \n",
              "unique                        NaN           3                    3   \n",
              "top                           NaN      Medium               Tier 3   \n",
              "freq                          NaN        2793                 3350   \n",
              "mean                      1997.83         NaN                  NaN   \n",
              "std                          8.37         NaN                  NaN   \n",
              "min                       1985.00         NaN                  NaN   \n",
              "25%                       1987.00         NaN                  NaN   \n",
              "50%                       1999.00         NaN                  NaN   \n",
              "75%                       2004.00         NaN                  NaN   \n",
              "max                       2009.00         NaN                  NaN   \n",
              "\n",
              "              Outlet_Type  Item_Outlet_Sales  \n",
              "count                8523            8523.00  \n",
              "unique                  4                NaN  \n",
              "top     Supermarket Type1                NaN  \n",
              "freq                 5577                NaN  \n",
              "mean                  NaN            2181.29  \n",
              "std                   NaN            1706.50  \n",
              "min                   NaN              33.29  \n",
              "25%                   NaN             834.25  \n",
              "50%                   NaN            1794.33  \n",
              "75%                   NaN            3101.30  \n",
              "max                   NaN           13086.96  "
            ]
          },
          "execution_count": 6,
          "metadata": {},
          "output_type": "execute_result"
        }
      ],
      "source": [
        "# Let's display a full statistical summary.\n",
        "df.describe(include='all').round(2)"
      ]
    },
    {
      "cell_type": "markdown",
      "metadata": {
        "id": "g-mezFiwaI7F"
      },
      "source": [
        "*Notes:*\n",
        "1. Looks like we have missing data on 'Item_Weight' and 'Outlet_Size'.\n",
        "2. Until now, we don't identify any discrepancy with dtypes."
      ]
    },
    {
      "cell_type": "markdown",
      "metadata": {
        "id": "QvJLZjE7eplz"
      },
      "source": [
        "###4.2.- Identify duplicate values."
      ]
    },
    {
      "cell_type": "code",
      "execution_count": 7,
      "metadata": {
        "colab": {
          "base_uri": "https://localhost:8080/"
        },
        "id": "C8s6eMeOl63-",
        "outputId": "633ead8d-3000-4bcd-93ca-2302b41c4a36"
      },
      "outputs": [
        {
          "data": {
            "text/plain": [
              "0"
            ]
          },
          "execution_count": 7,
          "metadata": {},
          "output_type": "execute_result"
        }
      ],
      "source": [
        "# Let's see how many duplicate rows we have in our data.\n",
        "df.duplicated().sum()"
      ]
    },
    {
      "cell_type": "markdown",
      "metadata": {
        "id": "StPzZJLPbGEb"
      },
      "source": [
        "###4.3.- Identify missing data."
      ]
    },
    {
      "cell_type": "code",
      "execution_count": 8,
      "metadata": {
        "colab": {
          "base_uri": "https://localhost:8080/"
        },
        "id": "TsSvOdCQerqX",
        "outputId": "23f98689-22b1-43e8-bb77-211fb0934179"
      },
      "outputs": [
        {
          "data": {
            "text/plain": [
              "Item_Identifier                 0\n",
              "Item_Weight                  1463\n",
              "Item_Fat_Content                0\n",
              "Item_Visibility                 0\n",
              "Item_Type                       0\n",
              "Item_MRP                        0\n",
              "Outlet_Identifier               0\n",
              "Outlet_Establishment_Year       0\n",
              "Outlet_Size                  2410\n",
              "Outlet_Location_Type            0\n",
              "Outlet_Type                     0\n",
              "Item_Outlet_Sales               0\n",
              "dtype: int64"
            ]
          },
          "execution_count": 8,
          "metadata": {},
          "output_type": "execute_result"
        }
      ],
      "source": [
        "# Let's see how many values are missing.\n",
        "df.isna().sum()"
      ]
    },
    {
      "cell_type": "code",
      "execution_count": 9,
      "metadata": {
        "colab": {
          "base_uri": "https://localhost:8080/"
        },
        "id": "m-phPPNcpHIL",
        "outputId": "755d1f50-0c4c-4833-ef5a-2f70a7ff9ee0"
      },
      "outputs": [
        {
          "name": "stdout",
          "output_type": "stream",
          "text": [
            "The missing data from 'Item_Weight' represents 17.17 %.\n",
            "The 28.28% of the data is missing from column Outlet_Size.\n"
          ]
        }
      ],
      "source": [
        "# Calculating the impact of missing data.\n",
        "\n",
        "# Item Weight\n",
        "miss_weight_data = round((1463 / 8523 * 100),2)\n",
        "\n",
        "print(f\"The missing data from 'Item_Weight' represents\", miss_weight_data, \"%.\")\n",
        "\n",
        "# Item Size\n",
        "miss_size_data = round((2410 / 8523 * 100),2)\n",
        "print(f\"The {miss_size_data}% of the data is missing from column Outlet_Size.\")"
      ]
    },
    {
      "cell_type": "markdown",
      "metadata": {
        "id": "o4At9WFhcllx"
      },
      "source": [
        "*Notes:*\n",
        "- Our job is to predict how the sales will be in 2023, so the weight of the product is not a variable that will influence the sales. For that reason, we decided to drop the rows with this issue.\n",
        "- Missing data will be handled in **Section 5**."
      ]
    },
    {
      "cell_type": "markdown",
      "metadata": {
        "id": "m2iOmu0Te9n7"
      },
      "source": [
        "###4.4.- Identify inconsistencies in categorial values."
      ]
    },
    {
      "cell_type": "code",
      "execution_count": 10,
      "metadata": {
        "colab": {
          "base_uri": "https://localhost:8080/"
        },
        "id": "8qNVp2hmfSJd",
        "outputId": "2a42dd77-9230-44e8-826c-1f639b380b2b"
      },
      "outputs": [
        {
          "data": {
            "text/plain": [
              "Index(['Item_Identifier', 'Item_Fat_Content', 'Item_Type', 'Outlet_Identifier',\n",
              "       'Outlet_Size', 'Outlet_Location_Type', 'Outlet_Type'],\n",
              "      dtype='object')"
            ]
          },
          "execution_count": 10,
          "metadata": {},
          "output_type": "execute_result"
        }
      ],
      "source": [
        "# Now, let's have a quick look about any inconsistent category in our dataframe.\n",
        "dtypes = df.dtypes\n",
        "obj_columns = dtypes[dtypes == 'object'].index\n",
        "obj_columns"
      ]
    },
    {
      "cell_type": "code",
      "execution_count": 11,
      "metadata": {
        "colab": {
          "base_uri": "https://localhost:8080/"
        },
        "id": "BiyY7XNkfeT0",
        "outputId": "6d0e959b-6e13-48e7-f52a-34887c5356a6"
      },
      "outputs": [
        {
          "name": "stdout",
          "output_type": "stream",
          "text": [
            "\u001b[1m - Column - \u001b[0;0m Item_Identifier\n",
            "FDW13    10\n",
            "FDG33    10\n",
            "NCY18     9\n",
            "FDD38     9\n",
            "DRE49     9\n",
            "         ..\n",
            "FDY43     1\n",
            "FDQ60     1\n",
            "FDO33     1\n",
            "DRF48     1\n",
            "FDC23     1\n",
            "Name: Item_Identifier, Length: 1559, dtype: int64\n",
            "\n",
            "\n",
            "\n",
            "\u001b[1m - Column - \u001b[0;0m Item_Fat_Content\n",
            "Low Fat    5089\n",
            "Regular    2889\n",
            "LF          316\n",
            "reg         117\n",
            "low fat     112\n",
            "Name: Item_Fat_Content, dtype: int64\n",
            "\n",
            "\n",
            "\n",
            "\u001b[1m - Column - \u001b[0;0m Item_Type\n",
            "Fruits and Vegetables    1232\n",
            "Snack Foods              1200\n",
            "Household                 910\n",
            "Frozen Foods              856\n",
            "Dairy                     682\n",
            "Canned                    649\n",
            "Baking Goods              648\n",
            "Health and Hygiene        520\n",
            "Soft Drinks               445\n",
            "Meat                      425\n",
            "Breads                    251\n",
            "Hard Drinks               214\n",
            "Others                    169\n",
            "Starchy Foods             148\n",
            "Breakfast                 110\n",
            "Seafood                    64\n",
            "Name: Item_Type, dtype: int64\n",
            "\n",
            "\n",
            "\n",
            "\u001b[1m - Column - \u001b[0;0m Outlet_Identifier\n",
            "OUT027    935\n",
            "OUT013    932\n",
            "OUT049    930\n",
            "OUT046    930\n",
            "OUT035    930\n",
            "OUT045    929\n",
            "OUT018    928\n",
            "OUT017    926\n",
            "OUT010    555\n",
            "OUT019    528\n",
            "Name: Outlet_Identifier, dtype: int64\n",
            "\n",
            "\n",
            "\n",
            "\u001b[1m - Column - \u001b[0;0m Outlet_Size\n",
            "Medium    2793\n",
            "NaN       2410\n",
            "Small     2388\n",
            "High       932\n",
            "Name: Outlet_Size, dtype: int64\n",
            "\n",
            "\n",
            "\n",
            "\u001b[1m - Column - \u001b[0;0m Outlet_Location_Type\n",
            "Tier 3    3350\n",
            "Tier 2    2785\n",
            "Tier 1    2388\n",
            "Name: Outlet_Location_Type, dtype: int64\n",
            "\n",
            "\n",
            "\n",
            "\u001b[1m - Column - \u001b[0;0m Outlet_Type\n",
            "Supermarket Type1    5577\n",
            "Grocery Store        1083\n",
            "Supermarket Type3     935\n",
            "Supermarket Type2     928\n",
            "Name: Outlet_Type, dtype: int64\n",
            "\n",
            "\n",
            "\n"
          ]
        }
      ],
      "source": [
        "# Now we can use a 'for loop' mixed with value_counts() method to bring all the columns and detect inconsistencies in one block.\n",
        "for col in obj_columns:\n",
        "  print(f'\\033[1m - Column - \\033[0;0m {col}')\n",
        "  print(df[col].value_counts(dropna=False))\n",
        "  print('\\n\\n')"
      ]
    },
    {
      "cell_type": "markdown",
      "metadata": {
        "id": "OVV97SoihfF-"
      },
      "source": [
        "*Notes:*\n",
        "- Colum 'Item_Fat_Content' has 3 categories for low fat (Low Fat, LF, anf low fat).\n",
        "- This issue will be addressed in **Section 5**."
      ]
    },
    {
      "cell_type": "markdown",
      "metadata": {
        "id": "aNBPinDofkvK"
      },
      "source": [
        "###4.5.- Identify outliers."
      ]
    },
    {
      "cell_type": "code",
      "execution_count": 12,
      "metadata": {
        "colab": {
          "base_uri": "https://localhost:8080/",
          "height": 297
        },
        "id": "OZtVWyITgAqE",
        "outputId": "ad4c2512-d627-4710-d16b-5cc72b6b6f3e"
      },
      "outputs": [
        {
          "data": {
            "text/html": [
              "\n",
              "  <div id=\"df-05af7fd4-1482-4bdd-b881-d4511d2547a6\">\n",
              "    <div class=\"colab-df-container\">\n",
              "      <div>\n",
              "<style scoped>\n",
              "    .dataframe tbody tr th:only-of-type {\n",
              "        vertical-align: middle;\n",
              "    }\n",
              "\n",
              "    .dataframe tbody tr th {\n",
              "        vertical-align: top;\n",
              "    }\n",
              "\n",
              "    .dataframe thead th {\n",
              "        text-align: right;\n",
              "    }\n",
              "</style>\n",
              "<table border=\"1\" class=\"dataframe\">\n",
              "  <thead>\n",
              "    <tr style=\"text-align: right;\">\n",
              "      <th></th>\n",
              "      <th>Item_Weight</th>\n",
              "      <th>Item_Visibility</th>\n",
              "      <th>Item_MRP</th>\n",
              "      <th>Outlet_Establishment_Year</th>\n",
              "      <th>Item_Outlet_Sales</th>\n",
              "    </tr>\n",
              "  </thead>\n",
              "  <tbody>\n",
              "    <tr>\n",
              "      <th>count</th>\n",
              "      <td>7060.00</td>\n",
              "      <td>8523.00</td>\n",
              "      <td>8523.00</td>\n",
              "      <td>8523.00</td>\n",
              "      <td>8523.00</td>\n",
              "    </tr>\n",
              "    <tr>\n",
              "      <th>mean</th>\n",
              "      <td>12.86</td>\n",
              "      <td>0.07</td>\n",
              "      <td>140.99</td>\n",
              "      <td>1997.83</td>\n",
              "      <td>2181.29</td>\n",
              "    </tr>\n",
              "    <tr>\n",
              "      <th>std</th>\n",
              "      <td>4.64</td>\n",
              "      <td>0.05</td>\n",
              "      <td>62.28</td>\n",
              "      <td>8.37</td>\n",
              "      <td>1706.50</td>\n",
              "    </tr>\n",
              "    <tr>\n",
              "      <th>min</th>\n",
              "      <td>4.56</td>\n",
              "      <td>0.00</td>\n",
              "      <td>31.29</td>\n",
              "      <td>1985.00</td>\n",
              "      <td>33.29</td>\n",
              "    </tr>\n",
              "    <tr>\n",
              "      <th>25%</th>\n",
              "      <td>8.77</td>\n",
              "      <td>0.03</td>\n",
              "      <td>93.83</td>\n",
              "      <td>1987.00</td>\n",
              "      <td>834.25</td>\n",
              "    </tr>\n",
              "    <tr>\n",
              "      <th>50%</th>\n",
              "      <td>12.60</td>\n",
              "      <td>0.05</td>\n",
              "      <td>143.01</td>\n",
              "      <td>1999.00</td>\n",
              "      <td>1794.33</td>\n",
              "    </tr>\n",
              "    <tr>\n",
              "      <th>75%</th>\n",
              "      <td>16.85</td>\n",
              "      <td>0.09</td>\n",
              "      <td>185.64</td>\n",
              "      <td>2004.00</td>\n",
              "      <td>3101.30</td>\n",
              "    </tr>\n",
              "    <tr>\n",
              "      <th>max</th>\n",
              "      <td>21.35</td>\n",
              "      <td>0.33</td>\n",
              "      <td>266.89</td>\n",
              "      <td>2009.00</td>\n",
              "      <td>13086.96</td>\n",
              "    </tr>\n",
              "  </tbody>\n",
              "</table>\n",
              "</div>\n",
              "      <button class=\"colab-df-convert\" onclick=\"convertToInteractive('df-05af7fd4-1482-4bdd-b881-d4511d2547a6')\"\n",
              "              title=\"Convert this dataframe to an interactive table.\"\n",
              "              style=\"display:none;\">\n",
              "        \n",
              "  <svg xmlns=\"http://www.w3.org/2000/svg\" height=\"24px\"viewBox=\"0 0 24 24\"\n",
              "       width=\"24px\">\n",
              "    <path d=\"M0 0h24v24H0V0z\" fill=\"none\"/>\n",
              "    <path d=\"M18.56 5.44l.94 2.06.94-2.06 2.06-.94-2.06-.94-.94-2.06-.94 2.06-2.06.94zm-11 1L8.5 8.5l.94-2.06 2.06-.94-2.06-.94L8.5 2.5l-.94 2.06-2.06.94zm10 10l.94 2.06.94-2.06 2.06-.94-2.06-.94-.94-2.06-.94 2.06-2.06.94z\"/><path d=\"M17.41 7.96l-1.37-1.37c-.4-.4-.92-.59-1.43-.59-.52 0-1.04.2-1.43.59L10.3 9.45l-7.72 7.72c-.78.78-.78 2.05 0 2.83L4 21.41c.39.39.9.59 1.41.59.51 0 1.02-.2 1.41-.59l7.78-7.78 2.81-2.81c.8-.78.8-2.07 0-2.86zM5.41 20L4 18.59l7.72-7.72 1.47 1.35L5.41 20z\"/>\n",
              "  </svg>\n",
              "      </button>\n",
              "      \n",
              "  <style>\n",
              "    .colab-df-container {\n",
              "      display:flex;\n",
              "      flex-wrap:wrap;\n",
              "      gap: 12px;\n",
              "    }\n",
              "\n",
              "    .colab-df-convert {\n",
              "      background-color: #E8F0FE;\n",
              "      border: none;\n",
              "      border-radius: 50%;\n",
              "      cursor: pointer;\n",
              "      display: none;\n",
              "      fill: #1967D2;\n",
              "      height: 32px;\n",
              "      padding: 0 0 0 0;\n",
              "      width: 32px;\n",
              "    }\n",
              "\n",
              "    .colab-df-convert:hover {\n",
              "      background-color: #E2EBFA;\n",
              "      box-shadow: 0px 1px 2px rgba(60, 64, 67, 0.3), 0px 1px 3px 1px rgba(60, 64, 67, 0.15);\n",
              "      fill: #174EA6;\n",
              "    }\n",
              "\n",
              "    [theme=dark] .colab-df-convert {\n",
              "      background-color: #3B4455;\n",
              "      fill: #D2E3FC;\n",
              "    }\n",
              "\n",
              "    [theme=dark] .colab-df-convert:hover {\n",
              "      background-color: #434B5C;\n",
              "      box-shadow: 0px 1px 3px 1px rgba(0, 0, 0, 0.15);\n",
              "      filter: drop-shadow(0px 1px 2px rgba(0, 0, 0, 0.3));\n",
              "      fill: #FFFFFF;\n",
              "    }\n",
              "  </style>\n",
              "\n",
              "      <script>\n",
              "        const buttonEl =\n",
              "          document.querySelector('#df-05af7fd4-1482-4bdd-b881-d4511d2547a6 button.colab-df-convert');\n",
              "        buttonEl.style.display =\n",
              "          google.colab.kernel.accessAllowed ? 'block' : 'none';\n",
              "\n",
              "        async function convertToInteractive(key) {\n",
              "          const element = document.querySelector('#df-05af7fd4-1482-4bdd-b881-d4511d2547a6');\n",
              "          const dataTable =\n",
              "            await google.colab.kernel.invokeFunction('convertToInteractive',\n",
              "                                                     [key], {});\n",
              "          if (!dataTable) return;\n",
              "\n",
              "          const docLinkHtml = 'Like what you see? Visit the ' +\n",
              "            '<a target=\"_blank\" href=https://colab.research.google.com/notebooks/data_table.ipynb>data table notebook</a>'\n",
              "            + ' to learn more about interactive tables.';\n",
              "          element.innerHTML = '';\n",
              "          dataTable['output_type'] = 'display_data';\n",
              "          await google.colab.output.renderOutput(dataTable, element);\n",
              "          const docLink = document.createElement('div');\n",
              "          docLink.innerHTML = docLinkHtml;\n",
              "          element.appendChild(docLink);\n",
              "        }\n",
              "      </script>\n",
              "    </div>\n",
              "  </div>\n",
              "  "
            ],
            "text/plain": [
              "       Item_Weight  Item_Visibility  Item_MRP  Outlet_Establishment_Year  \\\n",
              "count      7060.00          8523.00   8523.00                    8523.00   \n",
              "mean         12.86             0.07    140.99                    1997.83   \n",
              "std           4.64             0.05     62.28                       8.37   \n",
              "min           4.56             0.00     31.29                    1985.00   \n",
              "25%           8.77             0.03     93.83                    1987.00   \n",
              "50%          12.60             0.05    143.01                    1999.00   \n",
              "75%          16.85             0.09    185.64                    2004.00   \n",
              "max          21.35             0.33    266.89                    2009.00   \n",
              "\n",
              "       Item_Outlet_Sales  \n",
              "count            8523.00  \n",
              "mean             2181.29  \n",
              "std              1706.50  \n",
              "min                33.29  \n",
              "25%               834.25  \n",
              "50%              1794.33  \n",
              "75%              3101.30  \n",
              "max             13086.96  "
            ]
          },
          "execution_count": 12,
          "metadata": {},
          "output_type": "execute_result"
        }
      ],
      "source": [
        "# Let's generate statistical summary.\n",
        "df.describe().round(2)"
      ]
    },
    {
      "cell_type": "markdown",
      "metadata": {
        "id": "SMbKLIEXuOaD"
      },
      "source": [
        "*Notes:*\n",
        "- It doesn't look that there is not outliers in our data. Let's confirm that with boxplots.\n",
        "- Because each variable has a different scale, it's recommended to graph each one separate."
      ]
    },
    {
      "cell_type": "code",
      "execution_count": 13,
      "metadata": {
        "colab": {
          "base_uri": "https://localhost:8080/",
          "height": 266
        },
        "id": "QXRVt72Gsi_w",
        "outputId": "c39c9db3-4e95-4191-b87d-fb0003da8250"
      },
      "outputs": [
        {
          "data": {
            "image/png": "[encoded data removed]",
            "text/plain": [
              "<Figure size 432x288 with 1 Axes>"
            ]
          },
          "metadata": {
            "needs_background": "light"
          },
          "output_type": "display_data"
        }
      ],
      "source": [
        "# Boxplot for 'Item_Weight' using Seaborn.\n",
        "sns.boxplot(data=df.loc[:, ['Item_Weight']]);"
      ]
    },
    {
      "cell_type": "code",
      "execution_count": 14,
      "metadata": {
        "colab": {
          "base_uri": "https://localhost:8080/",
          "height": 266
        },
        "id": "XDMbEcdgupHd",
        "outputId": "9a025b77-3149-4da8-fd9c-10d5f84ad007"
      },
      "outputs": [
        {
          "data": {
            "image/png": "[encoded data removed]",
            "text/plain": [
              "<Figure size 432x288 with 1 Axes>"
            ]
          },
          "metadata": {
            "needs_background": "light"
          },
          "output_type": "display_data"
        }
      ],
      "source": [
        "# Boxplot for 'Item_Visibility' using Seaborn.\n",
        "sns.boxplot(data=df.loc[:, ['Item_Visibility']]);"
      ]
    },
    {
      "cell_type": "code",
      "execution_count": 15,
      "metadata": {
        "colab": {
          "base_uri": "https://localhost:8080/",
          "height": 266
        },
        "id": "QGVvDU67uqKc",
        "outputId": "b445a259-0185-47af-d3a9-80623ea376c2"
      },
      "outputs": [
        {
          "data": {
            "image/png": "[encoded data removed]",
            "text/plain": [
              "<Figure size 432x288 with 1 Axes>"
            ]
          },
          "metadata": {
            "needs_background": "light"
          },
          "output_type": "display_data"
        }
      ],
      "source": [
        "# Boxplot for 'Item_MRP' using Seaborn.\n",
        "sns.boxplot(data=df.loc[:, ['Item_MRP']]);"
      ]
    },
    {
      "cell_type": "code",
      "execution_count": 16,
      "metadata": {
        "colab": {
          "base_uri": "https://localhost:8080/",
          "height": 269
        },
        "id": "LKEB37XDuqbk",
        "outputId": "50cb0d3a-4dc4-4d2d-fa75-f06a97092339"
      },
      "outputs": [
        {
          "data": {
            "image/png": "[encoded data removed]",
            "text/plain": [
              "<Figure size 432x288 with 1 Axes>"
            ]
          },
          "metadata": {
            "needs_background": "light"
          },
          "output_type": "display_data"
        }
      ],
      "source": [
        "# Boxplot for 'Outlet_Establishment_Year' using Seaborn.\n",
        "sns.boxplot(data=df.loc[:, ['Outlet_Establishment_Year']]);"
      ]
    },
    {
      "cell_type": "code",
      "execution_count": 17,
      "metadata": {
        "colab": {
          "base_uri": "https://localhost:8080/",
          "height": 266
        },
        "id": "WsjxA5CCuqpN",
        "outputId": "2562865a-e37b-47f2-cb47-7fc6e5e60001"
      },
      "outputs": [
        {
          "data": {
            "image/png": "[encoded data removed]",
            "text/plain": [
              "<Figure size 432x288 with 1 Axes>"
            ]
          },
          "metadata": {
            "needs_background": "light"
          },
          "output_type": "display_data"
        }
      ],
      "source": [
        "# Boxplot for'Item_Outlet_Sales' using Seaborn.\n",
        "sns.boxplot(data=df.loc[:, ['Item_Outlet_Sales']]);"
      ]
    },
    {
      "cell_type": "markdown",
      "metadata": {
        "id": "CWXGbs20sWnL"
      },
      "source": [
        "*Notes:*\n",
        "- As the plots shows, we identified outliers on 'Item_Visibility' and 'Item_Outlet_Sales' variables.\n",
        " - About 'Item_Visibility', a high percentage of visibility is a factor that the Management should determine if it affects the profit. From our perspective, high value does not affect sales in a negative way.\n",
        " - For 'Item_Outlet_Sales', more sales it's better.\n",
        "- Both columns will remain the same in our dataframe."
      ]
    },
    {
      "cell_type": "markdown",
      "metadata": {
        "id": "Sw8SQb6lc6MU"
      },
      "source": [
        "##Section 5: Data preparation for Machine Learning"
      ]
    },
    {
      "cell_type": "markdown",
      "metadata": {
        "id": "xDI6cLzOdrjf"
      },
      "source": [
        "In context (as was reported on last stack - Data Science Fundamentals):\n",
        "\n",
        "- We have three variables that we consider that would affect the sales volume (Variables Type A):\n",
        " - Item_Visibility.\n",
        " - Item_Type.\n",
        " - Item_MRP.\n",
        "- We identified three variables that could affect the sales behavior (Variables Type B):\n",
        " - Outlet_Size.\n",
        " - Outlet_Location_Type.\n",
        " - Outlet_Type.\n",
        "\n",
        "- We are going to work with the variables described above to compare their relationship with Item_Outlet_Sales."
      ]
    },
    {
      "cell_type": "markdown",
      "metadata": {
        "id": "eGvF5lVEAlv1"
      },
      "source": [
        "For our Machine Learning model:\n",
        "- Target (y):\n",
        " - Item_Outlet_Sales.\n",
        "- Features (X):\n",
        " - Numerical:\n",
        "   - Item_Visibility.\n",
        "   - Item_MRP.\n",
        " - Categorical:\n",
        "   - Item_Type.\n",
        "   - Outlet_Size.\n",
        "   - Outlet_Location_Type.\n",
        "   - Outlet_Type."
      ]
    },
    {
      "cell_type": "markdown",
      "metadata": {
        "id": "QMRnJMivFT72"
      },
      "source": [
        "*Notes:*\n",
        "- Since we don't have missing data on Target ('Item_Outlet_Sales') we are going to split the data, then the cleaning using imputer transformers with ColumnTransformer.\n",
        "- Before moving forward, let's calculate the correlation between features in order to plot a Heatmap."
      ]
    },
    {
      "cell_type": "code",
      "execution_count": 18,
      "metadata": {
        "colab": {
          "base_uri": "https://localhost:8080/",
          "height": 204
        },
        "id": "8Vq0W09CxArs",
        "outputId": "bfb6929e-14c1-41f3-bfdb-4015ded3680f"
      },
      "outputs": [
        {
          "data": {
            "text/html": [
              "\n",
              "  <div id=\"df-5e92f649-fad3-4f7b-b6e6-484636294fc8\">\n",
              "    <div class=\"colab-df-container\">\n",
              "      <div>\n",
              "<style scoped>\n",
              "    .dataframe tbody tr th:only-of-type {\n",
              "        vertical-align: middle;\n",
              "    }\n",
              "\n",
              "    .dataframe tbody tr th {\n",
              "        vertical-align: top;\n",
              "    }\n",
              "\n",
              "    .dataframe thead th {\n",
              "        text-align: right;\n",
              "    }\n",
              "</style>\n",
              "<table border=\"1\" class=\"dataframe\">\n",
              "  <thead>\n",
              "    <tr style=\"text-align: right;\">\n",
              "      <th></th>\n",
              "      <th>Item_Weight</th>\n",
              "      <th>Item_Visibility</th>\n",
              "      <th>Item_MRP</th>\n",
              "      <th>Outlet_Establishment_Year</th>\n",
              "      <th>Item_Outlet_Sales</th>\n",
              "    </tr>\n",
              "  </thead>\n",
              "  <tbody>\n",
              "    <tr>\n",
              "      <th>Item_Weight</th>\n",
              "      <td>1.000000</td>\n",
              "      <td>-0.014048</td>\n",
              "      <td>0.027141</td>\n",
              "      <td>-0.011588</td>\n",
              "      <td>0.014123</td>\n",
              "    </tr>\n",
              "    <tr>\n",
              "      <th>Item_Visibility</th>\n",
              "      <td>-0.014048</td>\n",
              "      <td>1.000000</td>\n",
              "      <td>-0.001315</td>\n",
              "      <td>-0.074834</td>\n",
              "      <td>-0.128625</td>\n",
              "    </tr>\n",
              "    <tr>\n",
              "      <th>Item_MRP</th>\n",
              "      <td>0.027141</td>\n",
              "      <td>-0.001315</td>\n",
              "      <td>1.000000</td>\n",
              "      <td>0.005020</td>\n",
              "      <td>0.567574</td>\n",
              "    </tr>\n",
              "    <tr>\n",
              "      <th>Outlet_Establishment_Year</th>\n",
              "      <td>-0.011588</td>\n",
              "      <td>-0.074834</td>\n",
              "      <td>0.005020</td>\n",
              "      <td>1.000000</td>\n",
              "      <td>-0.049135</td>\n",
              "    </tr>\n",
              "    <tr>\n",
              "      <th>Item_Outlet_Sales</th>\n",
              "      <td>0.014123</td>\n",
              "      <td>-0.128625</td>\n",
              "      <td>0.567574</td>\n",
              "      <td>-0.049135</td>\n",
              "      <td>1.000000</td>\n",
              "    </tr>\n",
              "  </tbody>\n",
              "</table>\n",
              "</div>\n",
              "      <button class=\"colab-df-convert\" onclick=\"convertToInteractive('df-5e92f649-fad3-4f7b-b6e6-484636294fc8')\"\n",
              "              title=\"Convert this dataframe to an interactive table.\"\n",
              "              style=\"display:none;\">\n",
              "        \n",
              "  <svg xmlns=\"http://www.w3.org/2000/svg\" height=\"24px\"viewBox=\"0 0 24 24\"\n",
              "       width=\"24px\">\n",
              "    <path d=\"M0 0h24v24H0V0z\" fill=\"none\"/>\n",
              "    <path d=\"M18.56 5.44l.94 2.06.94-2.06 2.06-.94-2.06-.94-.94-2.06-.94 2.06-2.06.94zm-11 1L8.5 8.5l.94-2.06 2.06-.94-2.06-.94L8.5 2.5l-.94 2.06-2.06.94zm10 10l.94 2.06.94-2.06 2.06-.94-2.06-.94-.94-2.06-.94 2.06-2.06.94z\"/><path d=\"M17.41 7.96l-1.37-1.37c-.4-.4-.92-.59-1.43-.59-.52 0-1.04.2-1.43.59L10.3 9.45l-7.72 7.72c-.78.78-.78 2.05 0 2.83L4 21.41c.39.39.9.59 1.41.59.51 0 1.02-.2 1.41-.59l7.78-7.78 2.81-2.81c.8-.78.8-2.07 0-2.86zM5.41 20L4 18.59l7.72-7.72 1.47 1.35L5.41 20z\"/>\n",
              "  </svg>\n",
              "      </button>\n",
              "      \n",
              "  <style>\n",
              "    .colab-df-container {\n",
              "      display:flex;\n",
              "      flex-wrap:wrap;\n",
              "      gap: 12px;\n",
              "    }\n",
              "\n",
              "    .colab-df-convert {\n",
              "      background-color: #E8F0FE;\n",
              "      border: none;\n",
              "      border-radius: 50%;\n",
              "      cursor: pointer;\n",
              "      display: none;\n",
              "      fill: #1967D2;\n",
              "      height: 32px;\n",
              "      padding: 0 0 0 0;\n",
              "      width: 32px;\n",
              "    }\n",
              "\n",
              "    .colab-df-convert:hover {\n",
              "      background-color: #E2EBFA;\n",
              "      box-shadow: 0px 1px 2px rgba(60, 64, 67, 0.3), 0px 1px 3px 1px rgba(60, 64, 67, 0.15);\n",
              "      fill: #174EA6;\n",
              "    }\n",
              "\n",
              "    [theme=dark] .colab-df-convert {\n",
              "      background-color: #3B4455;\n",
              "      fill: #D2E3FC;\n",
              "    }\n",
              "\n",
              "    [theme=dark] .colab-df-convert:hover {\n",
              "      background-color: #434B5C;\n",
              "      box-shadow: 0px 1px 3px 1px rgba(0, 0, 0, 0.15);\n",
              "      filter: drop-shadow(0px 1px 2px rgba(0, 0, 0, 0.3));\n",
              "      fill: #FFFFFF;\n",
              "    }\n",
              "  </style>\n",
              "\n",
              "      <script>\n",
              "        const buttonEl =\n",
              "          document.querySelector('#df-5e92f649-fad3-4f7b-b6e6-484636294fc8 button.colab-df-convert');\n",
              "        buttonEl.style.display =\n",
              "          google.colab.kernel.accessAllowed ? 'block' : 'none';\n",
              "\n",
              "        async function convertToInteractive(key) {\n",
              "          const element = document.querySelector('#df-5e92f649-fad3-4f7b-b6e6-484636294fc8');\n",
              "          const dataTable =\n",
              "            await google.colab.kernel.invokeFunction('convertToInteractive',\n",
              "                                                     [key], {});\n",
              "          if (!dataTable) return;\n",
              "\n",
              "          const docLinkHtml = 'Like what you see? Visit the ' +\n",
              "            '<a target=\"_blank\" href=https://colab.research.google.com/notebooks/data_table.ipynb>data table notebook</a>'\n",
              "            + ' to learn more about interactive tables.';\n",
              "          element.innerHTML = '';\n",
              "          dataTable['output_type'] = 'display_data';\n",
              "          await google.colab.output.renderOutput(dataTable, element);\n",
              "          const docLink = document.createElement('div');\n",
              "          docLink.innerHTML = docLinkHtml;\n",
              "          element.appendChild(docLink);\n",
              "        }\n",
              "      </script>\n",
              "    </div>\n",
              "  </div>\n",
              "  "
            ],
            "text/plain": [
              "                           Item_Weight  Item_Visibility  Item_MRP  \\\n",
              "Item_Weight                   1.000000        -0.014048  0.027141   \n",
              "Item_Visibility              -0.014048         1.000000 -0.001315   \n",
              "Item_MRP                      0.027141        -0.001315  1.000000   \n",
              "Outlet_Establishment_Year    -0.011588        -0.074834  0.005020   \n",
              "Item_Outlet_Sales             0.014123        -0.128625  0.567574   \n",
              "\n",
              "                           Outlet_Establishment_Year  Item_Outlet_Sales  \n",
              "Item_Weight                                -0.011588           0.014123  \n",
              "Item_Visibility                            -0.074834          -0.128625  \n",
              "Item_MRP                                    0.005020           0.567574  \n",
              "Outlet_Establishment_Year                   1.000000          -0.049135  \n",
              "Item_Outlet_Sales                          -0.049135           1.000000  "
            ]
          },
          "execution_count": 18,
          "metadata": {},
          "output_type": "execute_result"
        }
      ],
      "source": [
        "# Calculating the correlation.\n",
        "corr = df.corr()\n",
        "df.corr()"
      ]
    },
    {
      "cell_type": "code",
      "execution_count": 19,
      "metadata": {
        "colab": {
          "base_uri": "https://localhost:8080/",
          "height": 719
        },
        "id": "4VsQo4KsxOie",
        "outputId": "debf1a39-bec8-4e1e-b1b4-1a3534039978"
      },
      "outputs": [
        {
          "data": {
            "image/png": "[encoded data removed]",
            "text/plain": [
              "<Figure size 720x720 with 2 Axes>"
            ]
          },
          "metadata": {
            "needs_background": "light"
          },
          "output_type": "display_data"
        }
      ],
      "source": [
        "# Let's plot our heatmap.\n",
        "plt.figure(figsize=(10,10))\n",
        "sns.heatmap(corr, cmap='Oranges', annot=True, fmt='.2f');"
      ]
    },
    {
      "cell_type": "markdown",
      "metadata": {
        "id": "MVEQtcqf0VPv"
      },
      "source": [
        "*Notes:*\n",
        "- As was displayed, we identified a moderate correlation between our target and 'Item MRP'.\n",
        "- This insight could cause noise in our regression models (Section 6 and 7), especially for the weak correlation between the target and 'Item Visibility'. "
      ]
    },
    {
      "cell_type": "markdown",
      "metadata": {
        "id": "5Z7P0rYL8Tc5"
      },
      "source": [
        "###5.1.- Train & Test split data"
      ]
    },
    {
      "cell_type": "code",
      "execution_count": 20,
      "metadata": {
        "colab": {
          "base_uri": "https://localhost:8080/"
        },
        "id": "PBPwohF-FI3x",
        "outputId": "84866a7e-5dc4-41c2-9b76-42420cd776f6"
      },
      "outputs": [
        {
          "data": {
            "text/plain": [
              "0    3735.1380\n",
              "1     443.4228\n",
              "2    2097.2700\n",
              "3     732.3800\n",
              "4     994.7052\n",
              "Name: Item_Outlet_Sales, dtype: float64"
            ]
          },
          "execution_count": 20,
          "metadata": {},
          "output_type": "execute_result"
        }
      ],
      "source": [
        "# Define Target (y).\n",
        "y = df['Item_Outlet_Sales']\n",
        "y.head()\n"
      ]
    },
    {
      "cell_type": "code",
      "execution_count": 21,
      "metadata": {
        "colab": {
          "base_uri": "https://localhost:8080/",
          "height": 204
        },
        "id": "dUGIrXARF8qH",
        "outputId": "c68bfb60-dda8-4dec-f959-0702d9837602"
      },
      "outputs": [
        {
          "data": {
            "text/html": [
              "\n",
              "  <div id=\"df-e48040fc-4fe1-4e71-9c30-295e08fddbad\">\n",
              "    <div class=\"colab-df-container\">\n",
              "      <div>\n",
              "<style scoped>\n",
              "    .dataframe tbody tr th:only-of-type {\n",
              "        vertical-align: middle;\n",
              "    }\n",
              "\n",
              "    .dataframe tbody tr th {\n",
              "        vertical-align: top;\n",
              "    }\n",
              "\n",
              "    .dataframe thead th {\n",
              "        text-align: right;\n",
              "    }\n",
              "</style>\n",
              "<table border=\"1\" class=\"dataframe\">\n",
              "  <thead>\n",
              "    <tr style=\"text-align: right;\">\n",
              "      <th></th>\n",
              "      <th>Item_Visibility</th>\n",
              "      <th>Item_Type</th>\n",
              "      <th>Item_MRP</th>\n",
              "      <th>Outlet_Size</th>\n",
              "      <th>Outlet_Location_Type</th>\n",
              "      <th>Outlet_Type</th>\n",
              "    </tr>\n",
              "  </thead>\n",
              "  <tbody>\n",
              "    <tr>\n",
              "      <th>0</th>\n",
              "      <td>0.016047</td>\n",
              "      <td>Dairy</td>\n",
              "      <td>249.8092</td>\n",
              "      <td>Medium</td>\n",
              "      <td>Tier 1</td>\n",
              "      <td>Supermarket Type1</td>\n",
              "    </tr>\n",
              "    <tr>\n",
              "      <th>1</th>\n",
              "      <td>0.019278</td>\n",
              "      <td>Soft Drinks</td>\n",
              "      <td>48.2692</td>\n",
              "      <td>Medium</td>\n",
              "      <td>Tier 3</td>\n",
              "      <td>Supermarket Type2</td>\n",
              "    </tr>\n",
              "    <tr>\n",
              "      <th>2</th>\n",
              "      <td>0.016760</td>\n",
              "      <td>Meat</td>\n",
              "      <td>141.6180</td>\n",
              "      <td>Medium</td>\n",
              "      <td>Tier 1</td>\n",
              "      <td>Supermarket Type1</td>\n",
              "    </tr>\n",
              "    <tr>\n",
              "      <th>3</th>\n",
              "      <td>0.000000</td>\n",
              "      <td>Fruits and Vegetables</td>\n",
              "      <td>182.0950</td>\n",
              "      <td>NaN</td>\n",
              "      <td>Tier 3</td>\n",
              "      <td>Grocery Store</td>\n",
              "    </tr>\n",
              "    <tr>\n",
              "      <th>4</th>\n",
              "      <td>0.000000</td>\n",
              "      <td>Household</td>\n",
              "      <td>53.8614</td>\n",
              "      <td>High</td>\n",
              "      <td>Tier 3</td>\n",
              "      <td>Supermarket Type1</td>\n",
              "    </tr>\n",
              "  </tbody>\n",
              "</table>\n",
              "</div>\n",
              "      <button class=\"colab-df-convert\" onclick=\"convertToInteractive('df-e48040fc-4fe1-4e71-9c30-295e08fddbad')\"\n",
              "              title=\"Convert this dataframe to an interactive table.\"\n",
              "              style=\"display:none;\">\n",
              "        \n",
              "  <svg xmlns=\"http://www.w3.org/2000/svg\" height=\"24px\"viewBox=\"0 0 24 24\"\n",
              "       width=\"24px\">\n",
              "    <path d=\"M0 0h24v24H0V0z\" fill=\"none\"/>\n",
              "    <path d=\"M18.56 5.44l.94 2.06.94-2.06 2.06-.94-2.06-.94-.94-2.06-.94 2.06-2.06.94zm-11 1L8.5 8.5l.94-2.06 2.06-.94-2.06-.94L8.5 2.5l-.94 2.06-2.06.94zm10 10l.94 2.06.94-2.06 2.06-.94-2.06-.94-.94-2.06-.94 2.06-2.06.94z\"/><path d=\"M17.41 7.96l-1.37-1.37c-.4-.4-.92-.59-1.43-.59-.52 0-1.04.2-1.43.59L10.3 9.45l-7.72 7.72c-.78.78-.78 2.05 0 2.83L4 21.41c.39.39.9.59 1.41.59.51 0 1.02-.2 1.41-.59l7.78-7.78 2.81-2.81c.8-.78.8-2.07 0-2.86zM5.41 20L4 18.59l7.72-7.72 1.47 1.35L5.41 20z\"/>\n",
              "  </svg>\n",
              "      </button>\n",
              "      \n",
              "  <style>\n",
              "    .colab-df-container {\n",
              "      display:flex;\n",
              "      flex-wrap:wrap;\n",
              "      gap: 12px;\n",
              "    }\n",
              "\n",
              "    .colab-df-convert {\n",
              "      background-color: #E8F0FE;\n",
              "      border: none;\n",
              "      border-radius: 50%;\n",
              "      cursor: pointer;\n",
              "      display: none;\n",
              "      fill: #1967D2;\n",
              "      height: 32px;\n",
              "      padding: 0 0 0 0;\n",
              "      width: 32px;\n",
              "    }\n",
              "\n",
              "    .colab-df-convert:hover {\n",
              "      background-color: #E2EBFA;\n",
              "      box-shadow: 0px 1px 2px rgba(60, 64, 67, 0.3), 0px 1px 3px 1px rgba(60, 64, 67, 0.15);\n",
              "      fill: #174EA6;\n",
              "    }\n",
              "\n",
              "    [theme=dark] .colab-df-convert {\n",
              "      background-color: #3B4455;\n",
              "      fill: #D2E3FC;\n",
              "    }\n",
              "\n",
              "    [theme=dark] .colab-df-convert:hover {\n",
              "      background-color: #434B5C;\n",
              "      box-shadow: 0px 1px 3px 1px rgba(0, 0, 0, 0.15);\n",
              "      filter: drop-shadow(0px 1px 2px rgba(0, 0, 0, 0.3));\n",
              "      fill: #FFFFFF;\n",
              "    }\n",
              "  </style>\n",
              "\n",
              "      <script>\n",
              "        const buttonEl =\n",
              "          document.querySelector('#df-e48040fc-4fe1-4e71-9c30-295e08fddbad button.colab-df-convert');\n",
              "        buttonEl.style.display =\n",
              "          google.colab.kernel.accessAllowed ? 'block' : 'none';\n",
              "\n",
              "        async function convertToInteractive(key) {\n",
              "          const element = document.querySelector('#df-e48040fc-4fe1-4e71-9c30-295e08fddbad');\n",
              "          const dataTable =\n",
              "            await google.colab.kernel.invokeFunction('convertToInteractive',\n",
              "                                                     [key], {});\n",
              "          if (!dataTable) return;\n",
              "\n",
              "          const docLinkHtml = 'Like what you see? Visit the ' +\n",
              "            '<a target=\"_blank\" href=https://colab.research.google.com/notebooks/data_table.ipynb>data table notebook</a>'\n",
              "            + ' to learn more about interactive tables.';\n",
              "          element.innerHTML = '';\n",
              "          dataTable['output_type'] = 'display_data';\n",
              "          await google.colab.output.renderOutput(dataTable, element);\n",
              "          const docLink = document.createElement('div');\n",
              "          docLink.innerHTML = docLinkHtml;\n",
              "          element.appendChild(docLink);\n",
              "        }\n",
              "      </script>\n",
              "    </div>\n",
              "  </div>\n",
              "  "
            ],
            "text/plain": [
              "   Item_Visibility              Item_Type  Item_MRP Outlet_Size  \\\n",
              "0         0.016047                  Dairy  249.8092      Medium   \n",
              "1         0.019278            Soft Drinks   48.2692      Medium   \n",
              "2         0.016760                   Meat  141.6180      Medium   \n",
              "3         0.000000  Fruits and Vegetables  182.0950         NaN   \n",
              "4         0.000000              Household   53.8614        High   \n",
              "\n",
              "  Outlet_Location_Type        Outlet_Type  \n",
              "0               Tier 1  Supermarket Type1  \n",
              "1               Tier 3  Supermarket Type2  \n",
              "2               Tier 1  Supermarket Type1  \n",
              "3               Tier 3      Grocery Store  \n",
              "4               Tier 3  Supermarket Type1  "
            ]
          },
          "execution_count": 21,
          "metadata": {},
          "output_type": "execute_result"
        }
      ],
      "source": [
        "# Define Features (X).\n",
        "X = df.drop(columns=['Item_Identifier', 'Item_Weight',\n",
        "                        'Item_Fat_Content', 'Outlet_Identifier',\n",
        "                        'Outlet_Establishment_Year',\n",
        "                        'Item_Outlet_Sales'], axis=1)\n",
        "X.head()"
      ]
    },
    {
      "cell_type": "code",
      "execution_count": 22,
      "metadata": {
        "id": "ZhWVnIQW8izb"
      },
      "outputs": [],
      "source": [
        "# Train & Test split.\n",
        "X_train, X_test, y_train, y_test = train_test_split(X, y, random_state=42)"
      ]
    },
    {
      "cell_type": "code",
      "execution_count": 23,
      "metadata": {
        "id": "G8Ce06LgJb90"
      },
      "outputs": [],
      "source": [
        "# Instantiate the selectors.\n",
        "num_selector = make_column_selector(dtype_include='number')\n",
        "cat_selector = make_column_selector(dtype_include='object')"
      ]
    },
    {
      "cell_type": "code",
      "execution_count": 24,
      "metadata": {
        "id": "Xy1YxEW5KQ7D"
      },
      "outputs": [],
      "source": [
        "# Instantiate the transformers.\n",
        "mean_imputer = SimpleImputer(strategy='mean')\n",
        "freq_imputer = SimpleImputer(strategy='most_frequent')"
      ]
    },
    {
      "cell_type": "code",
      "execution_count": 25,
      "metadata": {
        "id": "kh9rMFguKmA3"
      },
      "outputs": [],
      "source": [
        "# Instantiate One Hot Encoder.\n",
        "ohe = OneHotEncoder(handle_unknown='ignore', sparse=False)"
      ]
    },
    {
      "cell_type": "code",
      "execution_count": 26,
      "metadata": {
        "id": "iZmgVpr4K6F5"
      },
      "outputs": [],
      "source": [
        "# Instantiate Scaler.\n",
        "scaler = StandardScaler()"
      ]
    },
    {
      "cell_type": "markdown",
      "metadata": {
        "id": "lWTsxE8d8lYP"
      },
      "source": [
        "###5.2.- Pipelines and Column Transformer"
      ]
    },
    {
      "cell_type": "code",
      "execution_count": 27,
      "metadata": {
        "colab": {
          "base_uri": "https://localhost:8080/",
          "height": 124
        },
        "id": "_nFyE46784J1",
        "outputId": "1ebdf0db-da02-4c4c-eb99-df2635eee4d2"
      },
      "outputs": [
        {
          "data": {
            "text/html": [
              "<style>#sk-83a5ad31-8c63-4727-a707-e082d6f3a3ed {color: black;background-color: white;}#sk-83a5ad31-8c63-4727-a707-e082d6f3a3ed pre{padding: 0;}#sk-83a5ad31-8c63-4727-a707-e082d6f3a3ed div.sk-toggleable {background-color: white;}#sk-83a5ad31-8c63-4727-a707-e082d6f3a3ed label.sk-toggleable__label {cursor: pointer;display: block;width: 100%;margin-bottom: 0;padding: 0.3em;box-sizing: border-box;text-align: center;}#sk-83a5ad31-8c63-4727-a707-e082d6f3a3ed label.sk-toggleable__label-arrow:before {content: \"▸\";float: left;margin-right: 0.25em;color: #696969;}#sk-83a5ad31-8c63-4727-a707-e082d6f3a3ed label.sk-toggleable__label-arrow:hover:before {color: black;}#sk-83a5ad31-8c63-4727-a707-e082d6f3a3ed div.sk-estimator:hover label.sk-toggleable__label-arrow:before {color: black;}#sk-83a5ad31-8c63-4727-a707-e082d6f3a3ed div.sk-toggleable__content {max-height: 0;max-width: 0;overflow: hidden;text-align: left;background-color: #f0f8ff;}#sk-83a5ad31-8c63-4727-a707-e082d6f3a3ed div.sk-toggleable__content pre {margin: 0.2em;color: black;border-radius: 0.25em;background-color: #f0f8ff;}#sk-83a5ad31-8c63-4727-a707-e082d6f3a3ed input.sk-toggleable__control:checked~div.sk-toggleable__content {max-height: 200px;max-width: 100%;overflow: auto;}#sk-83a5ad31-8c63-4727-a707-e082d6f3a3ed input.sk-toggleable__control:checked~label.sk-toggleable__label-arrow:before {content: \"▾\";}#sk-83a5ad31-8c63-4727-a707-e082d6f3a3ed div.sk-estimator input.sk-toggleable__control:checked~label.sk-toggleable__label {background-color: #d4ebff;}#sk-83a5ad31-8c63-4727-a707-e082d6f3a3ed div.sk-label input.sk-toggleable__control:checked~label.sk-toggleable__label {background-color: #d4ebff;}#sk-83a5ad31-8c63-4727-a707-e082d6f3a3ed input.sk-hidden--visually {border: 0;clip: rect(1px 1px 1px 1px);clip: rect(1px, 1px, 1px, 1px);height: 1px;margin: -1px;overflow: hidden;padding: 0;position: absolute;width: 1px;}#sk-83a5ad31-8c63-4727-a707-e082d6f3a3ed div.sk-estimator {font-family: monospace;background-color: #f0f8ff;border: 1px dotted black;border-radius: 0.25em;box-sizing: border-box;margin-bottom: 0.5em;}#sk-83a5ad31-8c63-4727-a707-e082d6f3a3ed div.sk-estimator:hover {background-color: #d4ebff;}#sk-83a5ad31-8c63-4727-a707-e082d6f3a3ed div.sk-parallel-item::after {content: \"\";width: 100%;border-bottom: 1px solid gray;flex-grow: 1;}#sk-83a5ad31-8c63-4727-a707-e082d6f3a3ed div.sk-label:hover label.sk-toggleable__label {background-color: #d4ebff;}#sk-83a5ad31-8c63-4727-a707-e082d6f3a3ed div.sk-serial::before {content: \"\";position: absolute;border-left: 1px solid gray;box-sizing: border-box;top: 2em;bottom: 0;left: 50%;}#sk-83a5ad31-8c63-4727-a707-e082d6f3a3ed div.sk-serial {display: flex;flex-direction: column;align-items: center;background-color: white;padding-right: 0.2em;padding-left: 0.2em;}#sk-83a5ad31-8c63-4727-a707-e082d6f3a3ed div.sk-item {z-index: 1;}#sk-83a5ad31-8c63-4727-a707-e082d6f3a3ed div.sk-parallel {display: flex;align-items: stretch;justify-content: center;background-color: white;}#sk-83a5ad31-8c63-4727-a707-e082d6f3a3ed div.sk-parallel::before {content: \"\";position: absolute;border-left: 1px solid gray;box-sizing: border-box;top: 2em;bottom: 0;left: 50%;}#sk-83a5ad31-8c63-4727-a707-e082d6f3a3ed div.sk-parallel-item {display: flex;flex-direction: column;position: relative;background-color: white;}#sk-83a5ad31-8c63-4727-a707-e082d6f3a3ed div.sk-parallel-item:first-child::after {align-self: flex-end;width: 50%;}#sk-83a5ad31-8c63-4727-a707-e082d6f3a3ed div.sk-parallel-item:last-child::after {align-self: flex-start;width: 50%;}#sk-83a5ad31-8c63-4727-a707-e082d6f3a3ed div.sk-parallel-item:only-child::after {width: 0;}#sk-83a5ad31-8c63-4727-a707-e082d6f3a3ed div.sk-dashed-wrapped {border: 1px dashed gray;margin: 0 0.4em 0.5em 0.4em;box-sizing: border-box;padding-bottom: 0.4em;background-color: white;position: relative;}#sk-83a5ad31-8c63-4727-a707-e082d6f3a3ed div.sk-label label {font-family: monospace;font-weight: bold;background-color: white;display: inline-block;line-height: 1.2em;}#sk-83a5ad31-8c63-4727-a707-e082d6f3a3ed div.sk-label-container {position: relative;z-index: 2;text-align: center;}#sk-83a5ad31-8c63-4727-a707-e082d6f3a3ed div.sk-container {/* jupyter's `normalize.less` sets `[hidden] { display: none; }` but bootstrap.min.css set `[hidden] { display: none !important; }` so we also need the `!important` here to be able to override the default hidden behavior on the sphinx rendered scikit-learn.org. See: https://github.com/scikit-learn/scikit-learn/issues/21755 */display: inline-block !important;position: relative;}#sk-83a5ad31-8c63-4727-a707-e082d6f3a3ed div.sk-text-repr-fallback {display: none;}</style><div id=\"sk-83a5ad31-8c63-4727-a707-e082d6f3a3ed\" class=\"sk-top-container\"><div class=\"sk-text-repr-fallback\"><pre>Pipeline(steps=[(&#x27;simpleimputer&#x27;, SimpleImputer()),\n",
              "                (&#x27;standardscaler&#x27;, StandardScaler())])</pre><b>Please rerun this cell to show the HTML repr or trust the notebook.</b></div><div class=\"sk-container\" hidden><div class=\"sk-item sk-dashed-wrapped\"><div class=\"sk-label-container\"><div class=\"sk-label sk-toggleable\"><input class=\"sk-toggleable__control sk-hidden--visually\" id=\"ca191a55-cb12-4faf-8f49-3b4ce8640fd9\" type=\"checkbox\" ><label for=\"ca191a55-cb12-4faf-8f49-3b4ce8640fd9\" class=\"sk-toggleable__label sk-toggleable__label-arrow\">Pipeline</label><div class=\"sk-toggleable__content\"><pre>Pipeline(steps=[(&#x27;simpleimputer&#x27;, SimpleImputer()),\n",
              "                (&#x27;standardscaler&#x27;, StandardScaler())])</pre></div></div></div><div class=\"sk-serial\"><div class=\"sk-item\"><div class=\"sk-estimator sk-toggleable\"><input class=\"sk-toggleable__control sk-hidden--visually\" id=\"d77e1f8e-d50a-4c94-805e-835229fb1f80\" type=\"checkbox\" ><label for=\"d77e1f8e-d50a-4c94-805e-835229fb1f80\" class=\"sk-toggleable__label sk-toggleable__label-arrow\">SimpleImputer</label><div class=\"sk-toggleable__content\"><pre>SimpleImputer()</pre></div></div></div><div class=\"sk-item\"><div class=\"sk-estimator sk-toggleable\"><input class=\"sk-toggleable__control sk-hidden--visually\" id=\"92563416-9111-4d37-a99e-6ca07378026c\" type=\"checkbox\" ><label for=\"92563416-9111-4d37-a99e-6ca07378026c\" class=\"sk-toggleable__label sk-toggleable__label-arrow\">StandardScaler</label><div class=\"sk-toggleable__content\"><pre>StandardScaler()</pre></div></div></div></div></div></div></div>"
            ],
            "text/plain": [
              "Pipeline(steps=[('simpleimputer', SimpleImputer()),\n",
              "                ('standardscaler', StandardScaler())])"
            ]
          },
          "execution_count": 27,
          "metadata": {},
          "output_type": "execute_result"
        }
      ],
      "source": [
        "# Instantiate numeric pipeline.\n",
        "num_pipeline = make_pipeline(mean_imputer, scaler)\n",
        "num_pipeline"
      ]
    },
    {
      "cell_type": "code",
      "execution_count": 28,
      "metadata": {
        "colab": {
          "base_uri": "https://localhost:8080/",
          "height": 124
        },
        "id": "NeqIVqBxLP7R",
        "outputId": "386c7166-9f94-4a92-e03f-ec34d3384fc4"
      },
      "outputs": [
        {
          "data": {
            "text/html": [
              "<style>#sk-58ca68fc-3e8f-4138-9703-fdd0e8eebfce {color: black;background-color: white;}#sk-58ca68fc-3e8f-4138-9703-fdd0e8eebfce pre{padding: 0;}#sk-58ca68fc-3e8f-4138-9703-fdd0e8eebfce div.sk-toggleable {background-color: white;}#sk-58ca68fc-3e8f-4138-9703-fdd0e8eebfce label.sk-toggleable__label {cursor: pointer;display: block;width: 100%;margin-bottom: 0;padding: 0.3em;box-sizing: border-box;text-align: center;}#sk-58ca68fc-3e8f-4138-9703-fdd0e8eebfce label.sk-toggleable__label-arrow:before {content: \"▸\";float: left;margin-right: 0.25em;color: #696969;}#sk-58ca68fc-3e8f-4138-9703-fdd0e8eebfce label.sk-toggleable__label-arrow:hover:before {color: black;}#sk-58ca68fc-3e8f-4138-9703-fdd0e8eebfce div.sk-estimator:hover label.sk-toggleable__label-arrow:before {color: black;}#sk-58ca68fc-3e8f-4138-9703-fdd0e8eebfce div.sk-toggleable__content {max-height: 0;max-width: 0;overflow: hidden;text-align: left;background-color: #f0f8ff;}#sk-58ca68fc-3e8f-4138-9703-fdd0e8eebfce div.sk-toggleable__content pre {margin: 0.2em;color: black;border-radius: 0.25em;background-color: #f0f8ff;}#sk-58ca68fc-3e8f-4138-9703-fdd0e8eebfce input.sk-toggleable__control:checked~div.sk-toggleable__content {max-height: 200px;max-width: 100%;overflow: auto;}#sk-58ca68fc-3e8f-4138-9703-fdd0e8eebfce input.sk-toggleable__control:checked~label.sk-toggleable__label-arrow:before {content: \"▾\";}#sk-58ca68fc-3e8f-4138-9703-fdd0e8eebfce div.sk-estimator input.sk-toggleable__control:checked~label.sk-toggleable__label {background-color: #d4ebff;}#sk-58ca68fc-3e8f-4138-9703-fdd0e8eebfce div.sk-label input.sk-toggleable__control:checked~label.sk-toggleable__label {background-color: #d4ebff;}#sk-58ca68fc-3e8f-4138-9703-fdd0e8eebfce input.sk-hidden--visually {border: 0;clip: rect(1px 1px 1px 1px);clip: rect(1px, 1px, 1px, 1px);height: 1px;margin: -1px;overflow: hidden;padding: 0;position: absolute;width: 1px;}#sk-58ca68fc-3e8f-4138-9703-fdd0e8eebfce div.sk-estimator {font-family: monospace;background-color: #f0f8ff;border: 1px dotted black;border-radius: 0.25em;box-sizing: border-box;margin-bottom: 0.5em;}#sk-58ca68fc-3e8f-4138-9703-fdd0e8eebfce div.sk-estimator:hover {background-color: #d4ebff;}#sk-58ca68fc-3e8f-4138-9703-fdd0e8eebfce div.sk-parallel-item::after {content: \"\";width: 100%;border-bottom: 1px solid gray;flex-grow: 1;}#sk-58ca68fc-3e8f-4138-9703-fdd0e8eebfce div.sk-label:hover label.sk-toggleable__label {background-color: #d4ebff;}#sk-58ca68fc-3e8f-4138-9703-fdd0e8eebfce div.sk-serial::before {content: \"\";position: absolute;border-left: 1px solid gray;box-sizing: border-box;top: 2em;bottom: 0;left: 50%;}#sk-58ca68fc-3e8f-4138-9703-fdd0e8eebfce div.sk-serial {display: flex;flex-direction: column;align-items: center;background-color: white;padding-right: 0.2em;padding-left: 0.2em;}#sk-58ca68fc-3e8f-4138-9703-fdd0e8eebfce div.sk-item {z-index: 1;}#sk-58ca68fc-3e8f-4138-9703-fdd0e8eebfce div.sk-parallel {display: flex;align-items: stretch;justify-content: center;background-color: white;}#sk-58ca68fc-3e8f-4138-9703-fdd0e8eebfce div.sk-parallel::before {content: \"\";position: absolute;border-left: 1px solid gray;box-sizing: border-box;top: 2em;bottom: 0;left: 50%;}#sk-58ca68fc-3e8f-4138-9703-fdd0e8eebfce div.sk-parallel-item {display: flex;flex-direction: column;position: relative;background-color: white;}#sk-58ca68fc-3e8f-4138-9703-fdd0e8eebfce div.sk-parallel-item:first-child::after {align-self: flex-end;width: 50%;}#sk-58ca68fc-3e8f-4138-9703-fdd0e8eebfce div.sk-parallel-item:last-child::after {align-self: flex-start;width: 50%;}#sk-58ca68fc-3e8f-4138-9703-fdd0e8eebfce div.sk-parallel-item:only-child::after {width: 0;}#sk-58ca68fc-3e8f-4138-9703-fdd0e8eebfce div.sk-dashed-wrapped {border: 1px dashed gray;margin: 0 0.4em 0.5em 0.4em;box-sizing: border-box;padding-bottom: 0.4em;background-color: white;position: relative;}#sk-58ca68fc-3e8f-4138-9703-fdd0e8eebfce div.sk-label label {font-family: monospace;font-weight: bold;background-color: white;display: inline-block;line-height: 1.2em;}#sk-58ca68fc-3e8f-4138-9703-fdd0e8eebfce div.sk-label-container {position: relative;z-index: 2;text-align: center;}#sk-58ca68fc-3e8f-4138-9703-fdd0e8eebfce div.sk-container {/* jupyter's `normalize.less` sets `[hidden] { display: none; }` but bootstrap.min.css set `[hidden] { display: none !important; }` so we also need the `!important` here to be able to override the default hidden behavior on the sphinx rendered scikit-learn.org. See: https://github.com/scikit-learn/scikit-learn/issues/21755 */display: inline-block !important;position: relative;}#sk-58ca68fc-3e8f-4138-9703-fdd0e8eebfce div.sk-text-repr-fallback {display: none;}</style><div id=\"sk-58ca68fc-3e8f-4138-9703-fdd0e8eebfce\" class=\"sk-top-container\"><div class=\"sk-text-repr-fallback\"><pre>Pipeline(steps=[(&#x27;simpleimputer&#x27;, SimpleImputer(strategy=&#x27;most_frequent&#x27;)),\n",
              "                (&#x27;onehotencoder&#x27;,\n",
              "                 OneHotEncoder(handle_unknown=&#x27;ignore&#x27;, sparse=False))])</pre><b>Please rerun this cell to show the HTML repr or trust the notebook.</b></div><div class=\"sk-container\" hidden><div class=\"sk-item sk-dashed-wrapped\"><div class=\"sk-label-container\"><div class=\"sk-label sk-toggleable\"><input class=\"sk-toggleable__control sk-hidden--visually\" id=\"3cc0ab4e-3aec-410d-b55a-05dc3aa08873\" type=\"checkbox\" ><label for=\"3cc0ab4e-3aec-410d-b55a-05dc3aa08873\" class=\"sk-toggleable__label sk-toggleable__label-arrow\">Pipeline</label><div class=\"sk-toggleable__content\"><pre>Pipeline(steps=[(&#x27;simpleimputer&#x27;, SimpleImputer(strategy=&#x27;most_frequent&#x27;)),\n",
              "                (&#x27;onehotencoder&#x27;,\n",
              "                 OneHotEncoder(handle_unknown=&#x27;ignore&#x27;, sparse=False))])</pre></div></div></div><div class=\"sk-serial\"><div class=\"sk-item\"><div class=\"sk-estimator sk-toggleable\"><input class=\"sk-toggleable__control sk-hidden--visually\" id=\"37cc28b4-7025-4e3c-bb2d-fbc40f792212\" type=\"checkbox\" ><label for=\"37cc28b4-7025-4e3c-bb2d-fbc40f792212\" class=\"sk-toggleable__label sk-toggleable__label-arrow\">SimpleImputer</label><div class=\"sk-toggleable__content\"><pre>SimpleImputer(strategy=&#x27;most_frequent&#x27;)</pre></div></div></div><div class=\"sk-item\"><div class=\"sk-estimator sk-toggleable\"><input class=\"sk-toggleable__control sk-hidden--visually\" id=\"8e1b89f0-4afd-4b69-8d2f-8dea7628b7ef\" type=\"checkbox\" ><label for=\"8e1b89f0-4afd-4b69-8d2f-8dea7628b7ef\" class=\"sk-toggleable__label sk-toggleable__label-arrow\">OneHotEncoder</label><div class=\"sk-toggleable__content\"><pre>OneHotEncoder(handle_unknown=&#x27;ignore&#x27;, sparse=False)</pre></div></div></div></div></div></div></div>"
            ],
            "text/plain": [
              "Pipeline(steps=[('simpleimputer', SimpleImputer(strategy='most_frequent')),\n",
              "                ('onehotencoder',\n",
              "                 OneHotEncoder(handle_unknown='ignore', sparse=False))])"
            ]
          },
          "execution_count": 28,
          "metadata": {},
          "output_type": "execute_result"
        }
      ],
      "source": [
        "# Instantiate categorical pipeline.\n",
        "cat_pipeline = make_pipeline(freq_imputer, ohe)\n",
        "cat_pipeline"
      ]
    },
    {
      "cell_type": "code",
      "execution_count": 29,
      "metadata": {
        "id": "Mi0pzXB7Lxhc"
      },
      "outputs": [],
      "source": [
        "# Tuples for Column Transformer.\n",
        "num_tuple = (num_pipeline, num_selector)\n",
        "cat_tuple = (cat_pipeline, cat_selector)"
      ]
    },
    {
      "cell_type": "code",
      "execution_count": 30,
      "metadata": {
        "colab": {
          "base_uri": "https://localhost:8080/",
          "height": 149
        },
        "id": "XoSY55zTMAi0",
        "outputId": "526fe9f9-5b1b-4f59-a4cc-7d487a2bf9ec"
      },
      "outputs": [
        {
          "data": {
            "text/html": [
              "<style>#sk-ead9add8-8d84-4174-bf3f-ae745866abf6 {color: black;background-color: white;}#sk-ead9add8-8d84-4174-bf3f-ae745866abf6 pre{padding: 0;}#sk-ead9add8-8d84-4174-bf3f-ae745866abf6 div.sk-toggleable {background-color: white;}#sk-ead9add8-8d84-4174-bf3f-ae745866abf6 label.sk-toggleable__label {cursor: pointer;display: block;width: 100%;margin-bottom: 0;padding: 0.3em;box-sizing: border-box;text-align: center;}#sk-ead9add8-8d84-4174-bf3f-ae745866abf6 label.sk-toggleable__label-arrow:before {content: \"▸\";float: left;margin-right: 0.25em;color: #696969;}#sk-ead9add8-8d84-4174-bf3f-ae745866abf6 label.sk-toggleable__label-arrow:hover:before {color: black;}#sk-ead9add8-8d84-4174-bf3f-ae745866abf6 div.sk-estimator:hover label.sk-toggleable__label-arrow:before {color: black;}#sk-ead9add8-8d84-4174-bf3f-ae745866abf6 div.sk-toggleable__content {max-height: 0;max-width: 0;overflow: hidden;text-align: left;background-color: #f0f8ff;}#sk-ead9add8-8d84-4174-bf3f-ae745866abf6 div.sk-toggleable__content pre {margin: 0.2em;color: black;border-radius: 0.25em;background-color: #f0f8ff;}#sk-ead9add8-8d84-4174-bf3f-ae745866abf6 input.sk-toggleable__control:checked~div.sk-toggleable__content {max-height: 200px;max-width: 100%;overflow: auto;}#sk-ead9add8-8d84-4174-bf3f-ae745866abf6 input.sk-toggleable__control:checked~label.sk-toggleable__label-arrow:before {content: \"▾\";}#sk-ead9add8-8d84-4174-bf3f-ae745866abf6 div.sk-estimator input.sk-toggleable__control:checked~label.sk-toggleable__label {background-color: #d4ebff;}#sk-ead9add8-8d84-4174-bf3f-ae745866abf6 div.sk-label input.sk-toggleable__control:checked~label.sk-toggleable__label {background-color: #d4ebff;}#sk-ead9add8-8d84-4174-bf3f-ae745866abf6 input.sk-hidden--visually {border: 0;clip: rect(1px 1px 1px 1px);clip: rect(1px, 1px, 1px, 1px);height: 1px;margin: -1px;overflow: hidden;padding: 0;position: absolute;width: 1px;}#sk-ead9add8-8d84-4174-bf3f-ae745866abf6 div.sk-estimator {font-family: monospace;background-color: #f0f8ff;border: 1px dotted black;border-radius: 0.25em;box-sizing: border-box;margin-bottom: 0.5em;}#sk-ead9add8-8d84-4174-bf3f-ae745866abf6 div.sk-estimator:hover {background-color: #d4ebff;}#sk-ead9add8-8d84-4174-bf3f-ae745866abf6 div.sk-parallel-item::after {content: \"\";width: 100%;border-bottom: 1px solid gray;flex-grow: 1;}#sk-ead9add8-8d84-4174-bf3f-ae745866abf6 div.sk-label:hover label.sk-toggleable__label {background-color: #d4ebff;}#sk-ead9add8-8d84-4174-bf3f-ae745866abf6 div.sk-serial::before {content: \"\";position: absolute;border-left: 1px solid gray;box-sizing: border-box;top: 2em;bottom: 0;left: 50%;}#sk-ead9add8-8d84-4174-bf3f-ae745866abf6 div.sk-serial {display: flex;flex-direction: column;align-items: center;background-color: white;padding-right: 0.2em;padding-left: 0.2em;}#sk-ead9add8-8d84-4174-bf3f-ae745866abf6 div.sk-item {z-index: 1;}#sk-ead9add8-8d84-4174-bf3f-ae745866abf6 div.sk-parallel {display: flex;align-items: stretch;justify-content: center;background-color: white;}#sk-ead9add8-8d84-4174-bf3f-ae745866abf6 div.sk-parallel::before {content: \"\";position: absolute;border-left: 1px solid gray;box-sizing: border-box;top: 2em;bottom: 0;left: 50%;}#sk-ead9add8-8d84-4174-bf3f-ae745866abf6 div.sk-parallel-item {display: flex;flex-direction: column;position: relative;background-color: white;}#sk-ead9add8-8d84-4174-bf3f-ae745866abf6 div.sk-parallel-item:first-child::after {align-self: flex-end;width: 50%;}#sk-ead9add8-8d84-4174-bf3f-ae745866abf6 div.sk-parallel-item:last-child::after {align-self: flex-start;width: 50%;}#sk-ead9add8-8d84-4174-bf3f-ae745866abf6 div.sk-parallel-item:only-child::after {width: 0;}#sk-ead9add8-8d84-4174-bf3f-ae745866abf6 div.sk-dashed-wrapped {border: 1px dashed gray;margin: 0 0.4em 0.5em 0.4em;box-sizing: border-box;padding-bottom: 0.4em;background-color: white;position: relative;}#sk-ead9add8-8d84-4174-bf3f-ae745866abf6 div.sk-label label {font-family: monospace;font-weight: bold;background-color: white;display: inline-block;line-height: 1.2em;}#sk-ead9add8-8d84-4174-bf3f-ae745866abf6 div.sk-label-container {position: relative;z-index: 2;text-align: center;}#sk-ead9add8-8d84-4174-bf3f-ae745866abf6 div.sk-container {/* jupyter's `normalize.less` sets `[hidden] { display: none; }` but bootstrap.min.css set `[hidden] { display: none !important; }` so we also need the `!important` here to be able to override the default hidden behavior on the sphinx rendered scikit-learn.org. See: https://github.com/scikit-learn/scikit-learn/issues/21755 */display: inline-block !important;position: relative;}#sk-ead9add8-8d84-4174-bf3f-ae745866abf6 div.sk-text-repr-fallback {display: none;}</style><div id=\"sk-ead9add8-8d84-4174-bf3f-ae745866abf6\" class=\"sk-top-container\"><div class=\"sk-text-repr-fallback\"><pre>ColumnTransformer(transformers=[(&#x27;pipeline-1&#x27;,\n",
              "                                 Pipeline(steps=[(&#x27;simpleimputer&#x27;,\n",
              "                                                  SimpleImputer()),\n",
              "                                                 (&#x27;standardscaler&#x27;,\n",
              "                                                  StandardScaler())]),\n",
              "                                 &lt;sklearn.compose._column_transformer.make_column_selector object at 0x7f24315f4eb0&gt;),\n",
              "                                (&#x27;pipeline-2&#x27;,\n",
              "                                 Pipeline(steps=[(&#x27;simpleimputer&#x27;,\n",
              "                                                  SimpleImputer(strategy=&#x27;most_frequent&#x27;)),\n",
              "                                                 (&#x27;onehotencoder&#x27;,\n",
              "                                                  OneHotEncoder(handle_unknown=&#x27;ignore&#x27;,\n",
              "                                                                sparse=False))]),\n",
              "                                 &lt;sklearn.compose._column_transformer.make_column_selector object at 0x7f243153d0d0&gt;)])</pre><b>Please rerun this cell to show the HTML repr or trust the notebook.</b></div><div class=\"sk-container\" hidden><div class=\"sk-item sk-dashed-wrapped\"><div class=\"sk-label-container\"><div class=\"sk-label sk-toggleable\"><input class=\"sk-toggleable__control sk-hidden--visually\" id=\"0d864918-4993-4241-ba6f-d8d8f2ef81f2\" type=\"checkbox\" ><label for=\"0d864918-4993-4241-ba6f-d8d8f2ef81f2\" class=\"sk-toggleable__label sk-toggleable__label-arrow\">ColumnTransformer</label><div class=\"sk-toggleable__content\"><pre>ColumnTransformer(transformers=[(&#x27;pipeline-1&#x27;,\n",
              "                                 Pipeline(steps=[(&#x27;simpleimputer&#x27;,\n",
              "                                                  SimpleImputer()),\n",
              "                                                 (&#x27;standardscaler&#x27;,\n",
              "                                                  StandardScaler())]),\n",
              "                                 &lt;sklearn.compose._column_transformer.make_column_selector object at 0x7f24315f4eb0&gt;),\n",
              "                                (&#x27;pipeline-2&#x27;,\n",
              "                                 Pipeline(steps=[(&#x27;simpleimputer&#x27;,\n",
              "                                                  SimpleImputer(strategy=&#x27;most_frequent&#x27;)),\n",
              "                                                 (&#x27;onehotencoder&#x27;,\n",
              "                                                  OneHotEncoder(handle_unknown=&#x27;ignore&#x27;,\n",
              "                                                                sparse=False))]),\n",
              "                                 &lt;sklearn.compose._column_transformer.make_column_selector object at 0x7f243153d0d0&gt;)])</pre></div></div></div><div class=\"sk-parallel\"><div class=\"sk-parallel-item\"><div class=\"sk-item\"><div class=\"sk-label-container\"><div class=\"sk-label sk-toggleable\"><input class=\"sk-toggleable__control sk-hidden--visually\" id=\"2e9ca086-ff3a-4c69-9871-85047e053378\" type=\"checkbox\" ><label for=\"2e9ca086-ff3a-4c69-9871-85047e053378\" class=\"sk-toggleable__label sk-toggleable__label-arrow\">pipeline-1</label><div class=\"sk-toggleable__content\"><pre>&lt;sklearn.compose._column_transformer.make_column_selector object at 0x7f24315f4eb0&gt;</pre></div></div></div><div class=\"sk-serial\"><div class=\"sk-item\"><div class=\"sk-serial\"><div class=\"sk-item\"><div class=\"sk-estimator sk-toggleable\"><input class=\"sk-toggleable__control sk-hidden--visually\" id=\"314a5ff1-ee85-4ea6-9d02-d5d2333b363a\" type=\"checkbox\" ><label for=\"314a5ff1-ee85-4ea6-9d02-d5d2333b363a\" class=\"sk-toggleable__label sk-toggleable__label-arrow\">SimpleImputer</label><div class=\"sk-toggleable__content\"><pre>SimpleImputer()</pre></div></div></div><div class=\"sk-item\"><div class=\"sk-estimator sk-toggleable\"><input class=\"sk-toggleable__control sk-hidden--visually\" id=\"b8d92b45-47b2-48fd-acf9-e9ff28ccdedd\" type=\"checkbox\" ><label for=\"b8d92b45-47b2-48fd-acf9-e9ff28ccdedd\" class=\"sk-toggleable__label sk-toggleable__label-arrow\">StandardScaler</label><div class=\"sk-toggleable__content\"><pre>StandardScaler()</pre></div></div></div></div></div></div></div></div><div class=\"sk-parallel-item\"><div class=\"sk-item\"><div class=\"sk-label-container\"><div class=\"sk-label sk-toggleable\"><input class=\"sk-toggleable__control sk-hidden--visually\" id=\"b7fa2c64-6a20-4329-b526-3fecf0562a9c\" type=\"checkbox\" ><label for=\"b7fa2c64-6a20-4329-b526-3fecf0562a9c\" class=\"sk-toggleable__label sk-toggleable__label-arrow\">pipeline-2</label><div class=\"sk-toggleable__content\"><pre>&lt;sklearn.compose._column_transformer.make_column_selector object at 0x7f243153d0d0&gt;</pre></div></div></div><div class=\"sk-serial\"><div class=\"sk-item\"><div class=\"sk-serial\"><div class=\"sk-item\"><div class=\"sk-estimator sk-toggleable\"><input class=\"sk-toggleable__control sk-hidden--visually\" id=\"6e5cc546-f27d-4b31-80b0-77f89ec1d1fb\" type=\"checkbox\" ><label for=\"6e5cc546-f27d-4b31-80b0-77f89ec1d1fb\" class=\"sk-toggleable__label sk-toggleable__label-arrow\">SimpleImputer</label><div class=\"sk-toggleable__content\"><pre>SimpleImputer(strategy=&#x27;most_frequent&#x27;)</pre></div></div></div><div class=\"sk-item\"><div class=\"sk-estimator sk-toggleable\"><input class=\"sk-toggleable__control sk-hidden--visually\" id=\"35d5e9de-c18a-46a7-bbfb-d555f241c57b\" type=\"checkbox\" ><label for=\"35d5e9de-c18a-46a7-bbfb-d555f241c57b\" class=\"sk-toggleable__label sk-toggleable__label-arrow\">OneHotEncoder</label><div class=\"sk-toggleable__content\"><pre>OneHotEncoder(handle_unknown=&#x27;ignore&#x27;, sparse=False)</pre></div></div></div></div></div></div></div></div></div></div></div></div>"
            ],
            "text/plain": [
              "ColumnTransformer(transformers=[('pipeline-1',\n",
              "                                 Pipeline(steps=[('simpleimputer',\n",
              "                                                  SimpleImputer()),\n",
              "                                                 ('standardscaler',\n",
              "                                                  StandardScaler())]),\n",
              "                                 <sklearn.compose._column_transformer.make_column_selector object at 0x7f24315f4eb0>),\n",
              "                                ('pipeline-2',\n",
              "                                 Pipeline(steps=[('simpleimputer',\n",
              "                                                  SimpleImputer(strategy='most_frequent')),\n",
              "                                                 ('onehotencoder',\n",
              "                                                  OneHotEncoder(handle_unknown='ignore',\n",
              "                                                                sparse=False))]),\n",
              "                                 <sklearn.compose._column_transformer.make_column_selector object at 0x7f243153d0d0>)])"
            ]
          },
          "execution_count": 30,
          "metadata": {},
          "output_type": "execute_result"
        }
      ],
      "source": [
        "# Instantiate Column Transformer.\n",
        "preprocessor = make_column_transformer(num_tuple, cat_tuple, remainder='drop')\n",
        "preprocessor"
      ]
    },
    {
      "cell_type": "code",
      "execution_count": 31,
      "metadata": {
        "colab": {
          "base_uri": "https://localhost:8080/",
          "height": 149
        },
        "id": "DPt1HzXyMZLL",
        "outputId": "887af256-d344-46a6-db75-5be50662d974"
      },
      "outputs": [
        {
          "data": {
            "text/html": [
              "<style>#sk-e48ac71f-dec5-4f7f-af3c-c826205782c0 {color: black;background-color: white;}#sk-e48ac71f-dec5-4f7f-af3c-c826205782c0 pre{padding: 0;}#sk-e48ac71f-dec5-4f7f-af3c-c826205782c0 div.sk-toggleable {background-color: white;}#sk-e48ac71f-dec5-4f7f-af3c-c826205782c0 label.sk-toggleable__label {cursor: pointer;display: block;width: 100%;margin-bottom: 0;padding: 0.3em;box-sizing: border-box;text-align: center;}#sk-e48ac71f-dec5-4f7f-af3c-c826205782c0 label.sk-toggleable__label-arrow:before {content: \"▸\";float: left;margin-right: 0.25em;color: #696969;}#sk-e48ac71f-dec5-4f7f-af3c-c826205782c0 label.sk-toggleable__label-arrow:hover:before {color: black;}#sk-e48ac71f-dec5-4f7f-af3c-c826205782c0 div.sk-estimator:hover label.sk-toggleable__label-arrow:before {color: black;}#sk-e48ac71f-dec5-4f7f-af3c-c826205782c0 div.sk-toggleable__content {max-height: 0;max-width: 0;overflow: hidden;text-align: left;background-color: #f0f8ff;}#sk-e48ac71f-dec5-4f7f-af3c-c826205782c0 div.sk-toggleable__content pre {margin: 0.2em;color: black;border-radius: 0.25em;background-color: #f0f8ff;}#sk-e48ac71f-dec5-4f7f-af3c-c826205782c0 input.sk-toggleable__control:checked~div.sk-toggleable__content {max-height: 200px;max-width: 100%;overflow: auto;}#sk-e48ac71f-dec5-4f7f-af3c-c826205782c0 input.sk-toggleable__control:checked~label.sk-toggleable__label-arrow:before {content: \"▾\";}#sk-e48ac71f-dec5-4f7f-af3c-c826205782c0 div.sk-estimator input.sk-toggleable__control:checked~label.sk-toggleable__label {background-color: #d4ebff;}#sk-e48ac71f-dec5-4f7f-af3c-c826205782c0 div.sk-label input.sk-toggleable__control:checked~label.sk-toggleable__label {background-color: #d4ebff;}#sk-e48ac71f-dec5-4f7f-af3c-c826205782c0 input.sk-hidden--visually {border: 0;clip: rect(1px 1px 1px 1px);clip: rect(1px, 1px, 1px, 1px);height: 1px;margin: -1px;overflow: hidden;padding: 0;position: absolute;width: 1px;}#sk-e48ac71f-dec5-4f7f-af3c-c826205782c0 div.sk-estimator {font-family: monospace;background-color: #f0f8ff;border: 1px dotted black;border-radius: 0.25em;box-sizing: border-box;margin-bottom: 0.5em;}#sk-e48ac71f-dec5-4f7f-af3c-c826205782c0 div.sk-estimator:hover {background-color: #d4ebff;}#sk-e48ac71f-dec5-4f7f-af3c-c826205782c0 div.sk-parallel-item::after {content: \"\";width: 100%;border-bottom: 1px solid gray;flex-grow: 1;}#sk-e48ac71f-dec5-4f7f-af3c-c826205782c0 div.sk-label:hover label.sk-toggleable__label {background-color: #d4ebff;}#sk-e48ac71f-dec5-4f7f-af3c-c826205782c0 div.sk-serial::before {content: \"\";position: absolute;border-left: 1px solid gray;box-sizing: border-box;top: 2em;bottom: 0;left: 50%;}#sk-e48ac71f-dec5-4f7f-af3c-c826205782c0 div.sk-serial {display: flex;flex-direction: column;align-items: center;background-color: white;padding-right: 0.2em;padding-left: 0.2em;}#sk-e48ac71f-dec5-4f7f-af3c-c826205782c0 div.sk-item {z-index: 1;}#sk-e48ac71f-dec5-4f7f-af3c-c826205782c0 div.sk-parallel {display: flex;align-items: stretch;justify-content: center;background-color: white;}#sk-e48ac71f-dec5-4f7f-af3c-c826205782c0 div.sk-parallel::before {content: \"\";position: absolute;border-left: 1px solid gray;box-sizing: border-box;top: 2em;bottom: 0;left: 50%;}#sk-e48ac71f-dec5-4f7f-af3c-c826205782c0 div.sk-parallel-item {display: flex;flex-direction: column;position: relative;background-color: white;}#sk-e48ac71f-dec5-4f7f-af3c-c826205782c0 div.sk-parallel-item:first-child::after {align-self: flex-end;width: 50%;}#sk-e48ac71f-dec5-4f7f-af3c-c826205782c0 div.sk-parallel-item:last-child::after {align-self: flex-start;width: 50%;}#sk-e48ac71f-dec5-4f7f-af3c-c826205782c0 div.sk-parallel-item:only-child::after {width: 0;}#sk-e48ac71f-dec5-4f7f-af3c-c826205782c0 div.sk-dashed-wrapped {border: 1px dashed gray;margin: 0 0.4em 0.5em 0.4em;box-sizing: border-box;padding-bottom: 0.4em;background-color: white;position: relative;}#sk-e48ac71f-dec5-4f7f-af3c-c826205782c0 div.sk-label label {font-family: monospace;font-weight: bold;background-color: white;display: inline-block;line-height: 1.2em;}#sk-e48ac71f-dec5-4f7f-af3c-c826205782c0 div.sk-label-container {position: relative;z-index: 2;text-align: center;}#sk-e48ac71f-dec5-4f7f-af3c-c826205782c0 div.sk-container {/* jupyter's `normalize.less` sets `[hidden] { display: none; }` but bootstrap.min.css set `[hidden] { display: none !important; }` so we also need the `!important` here to be able to override the default hidden behavior on the sphinx rendered scikit-learn.org. See: https://github.com/scikit-learn/scikit-learn/issues/21755 */display: inline-block !important;position: relative;}#sk-e48ac71f-dec5-4f7f-af3c-c826205782c0 div.sk-text-repr-fallback {display: none;}</style><div id=\"sk-e48ac71f-dec5-4f7f-af3c-c826205782c0\" class=\"sk-top-container\"><div class=\"sk-text-repr-fallback\"><pre>ColumnTransformer(transformers=[(&#x27;pipeline-1&#x27;,\n",
              "                                 Pipeline(steps=[(&#x27;simpleimputer&#x27;,\n",
              "                                                  SimpleImputer()),\n",
              "                                                 (&#x27;standardscaler&#x27;,\n",
              "                                                  StandardScaler())]),\n",
              "                                 &lt;sklearn.compose._column_transformer.make_column_selector object at 0x7f24315f4eb0&gt;),\n",
              "                                (&#x27;pipeline-2&#x27;,\n",
              "                                 Pipeline(steps=[(&#x27;simpleimputer&#x27;,\n",
              "                                                  SimpleImputer(strategy=&#x27;most_frequent&#x27;)),\n",
              "                                                 (&#x27;onehotencoder&#x27;,\n",
              "                                                  OneHotEncoder(handle_unknown=&#x27;ignore&#x27;,\n",
              "                                                                sparse=False))]),\n",
              "                                 &lt;sklearn.compose._column_transformer.make_column_selector object at 0x7f243153d0d0&gt;)])</pre><b>Please rerun this cell to show the HTML repr or trust the notebook.</b></div><div class=\"sk-container\" hidden><div class=\"sk-item sk-dashed-wrapped\"><div class=\"sk-label-container\"><div class=\"sk-label sk-toggleable\"><input class=\"sk-toggleable__control sk-hidden--visually\" id=\"5847fcfb-e300-4e94-90d1-a0f1d6dcb6d9\" type=\"checkbox\" ><label for=\"5847fcfb-e300-4e94-90d1-a0f1d6dcb6d9\" class=\"sk-toggleable__label sk-toggleable__label-arrow\">ColumnTransformer</label><div class=\"sk-toggleable__content\"><pre>ColumnTransformer(transformers=[(&#x27;pipeline-1&#x27;,\n",
              "                                 Pipeline(steps=[(&#x27;simpleimputer&#x27;,\n",
              "                                                  SimpleImputer()),\n",
              "                                                 (&#x27;standardscaler&#x27;,\n",
              "                                                  StandardScaler())]),\n",
              "                                 &lt;sklearn.compose._column_transformer.make_column_selector object at 0x7f24315f4eb0&gt;),\n",
              "                                (&#x27;pipeline-2&#x27;,\n",
              "                                 Pipeline(steps=[(&#x27;simpleimputer&#x27;,\n",
              "                                                  SimpleImputer(strategy=&#x27;most_frequent&#x27;)),\n",
              "                                                 (&#x27;onehotencoder&#x27;,\n",
              "                                                  OneHotEncoder(handle_unknown=&#x27;ignore&#x27;,\n",
              "                                                                sparse=False))]),\n",
              "                                 &lt;sklearn.compose._column_transformer.make_column_selector object at 0x7f243153d0d0&gt;)])</pre></div></div></div><div class=\"sk-parallel\"><div class=\"sk-parallel-item\"><div class=\"sk-item\"><div class=\"sk-label-container\"><div class=\"sk-label sk-toggleable\"><input class=\"sk-toggleable__control sk-hidden--visually\" id=\"c41d65d5-2520-4b2f-9b24-423ab6dc8730\" type=\"checkbox\" ><label for=\"c41d65d5-2520-4b2f-9b24-423ab6dc8730\" class=\"sk-toggleable__label sk-toggleable__label-arrow\">pipeline-1</label><div class=\"sk-toggleable__content\"><pre>&lt;sklearn.compose._column_transformer.make_column_selector object at 0x7f24315f4eb0&gt;</pre></div></div></div><div class=\"sk-serial\"><div class=\"sk-item\"><div class=\"sk-serial\"><div class=\"sk-item\"><div class=\"sk-estimator sk-toggleable\"><input class=\"sk-toggleable__control sk-hidden--visually\" id=\"ad252e10-9d7a-41f9-8281-693ff7c26d5a\" type=\"checkbox\" ><label for=\"ad252e10-9d7a-41f9-8281-693ff7c26d5a\" class=\"sk-toggleable__label sk-toggleable__label-arrow\">SimpleImputer</label><div class=\"sk-toggleable__content\"><pre>SimpleImputer()</pre></div></div></div><div class=\"sk-item\"><div class=\"sk-estimator sk-toggleable\"><input class=\"sk-toggleable__control sk-hidden--visually\" id=\"d8980bfb-d40e-4728-933b-e603ea72bfe8\" type=\"checkbox\" ><label for=\"d8980bfb-d40e-4728-933b-e603ea72bfe8\" class=\"sk-toggleable__label sk-toggleable__label-arrow\">StandardScaler</label><div class=\"sk-toggleable__content\"><pre>StandardScaler()</pre></div></div></div></div></div></div></div></div><div class=\"sk-parallel-item\"><div class=\"sk-item\"><div class=\"sk-label-container\"><div class=\"sk-label sk-toggleable\"><input class=\"sk-toggleable__control sk-hidden--visually\" id=\"a4246240-909a-470a-8686-e272deab8c88\" type=\"checkbox\" ><label for=\"a4246240-909a-470a-8686-e272deab8c88\" class=\"sk-toggleable__label sk-toggleable__label-arrow\">pipeline-2</label><div class=\"sk-toggleable__content\"><pre>&lt;sklearn.compose._column_transformer.make_column_selector object at 0x7f243153d0d0&gt;</pre></div></div></div><div class=\"sk-serial\"><div class=\"sk-item\"><div class=\"sk-serial\"><div class=\"sk-item\"><div class=\"sk-estimator sk-toggleable\"><input class=\"sk-toggleable__control sk-hidden--visually\" id=\"12e8e810-b839-4a3c-a1bf-08e3a9ea5c7d\" type=\"checkbox\" ><label for=\"12e8e810-b839-4a3c-a1bf-08e3a9ea5c7d\" class=\"sk-toggleable__label sk-toggleable__label-arrow\">SimpleImputer</label><div class=\"sk-toggleable__content\"><pre>SimpleImputer(strategy=&#x27;most_frequent&#x27;)</pre></div></div></div><div class=\"sk-item\"><div class=\"sk-estimator sk-toggleable\"><input class=\"sk-toggleable__control sk-hidden--visually\" id=\"3448a5a1-5871-4328-8f64-4f4333494d1c\" type=\"checkbox\" ><label for=\"3448a5a1-5871-4328-8f64-4f4333494d1c\" class=\"sk-toggleable__label sk-toggleable__label-arrow\">OneHotEncoder</label><div class=\"sk-toggleable__content\"><pre>OneHotEncoder(handle_unknown=&#x27;ignore&#x27;, sparse=False)</pre></div></div></div></div></div></div></div></div></div></div></div></div>"
            ],
            "text/plain": [
              "ColumnTransformer(transformers=[('pipeline-1',\n",
              "                                 Pipeline(steps=[('simpleimputer',\n",
              "                                                  SimpleImputer()),\n",
              "                                                 ('standardscaler',\n",
              "                                                  StandardScaler())]),\n",
              "                                 <sklearn.compose._column_transformer.make_column_selector object at 0x7f24315f4eb0>),\n",
              "                                ('pipeline-2',\n",
              "                                 Pipeline(steps=[('simpleimputer',\n",
              "                                                  SimpleImputer(strategy='most_frequent')),\n",
              "                                                 ('onehotencoder',\n",
              "                                                  OneHotEncoder(handle_unknown='ignore',\n",
              "                                                                sparse=False))]),\n",
              "                                 <sklearn.compose._column_transformer.make_column_selector object at 0x7f243153d0d0>)])"
            ]
          },
          "execution_count": 31,
          "metadata": {},
          "output_type": "execute_result"
        }
      ],
      "source": [
        "# Fit Column Transformer on train (X).\n",
        "preprocessor.fit(X_train)"
      ]
    },
    {
      "cell_type": "markdown",
      "metadata": {
        "id": "jgLWxIrk84Tc"
      },
      "source": [
        "###5.3.- Transform Train & Test data"
      ]
    },
    {
      "cell_type": "code",
      "execution_count": 32,
      "metadata": {
        "id": "L6j6ONFg9BaR"
      },
      "outputs": [],
      "source": [
        "# Transform train and test data.\n",
        "X_train_processed = preprocessor.transform(X_train)\n",
        "X_test_processed = preprocessor.transform(X_test)"
      ]
    },
    {
      "cell_type": "code",
      "execution_count": 33,
      "metadata": {
        "colab": {
          "base_uri": "https://localhost:8080/"
        },
        "id": "-4pYW7CKNHL_",
        "outputId": "f0226d09-c4be-4247-b0a9-5021d5c63da8"
      },
      "outputs": [
        {
          "name": "stdout",
          "output_type": "stream",
          "text": [
            "0 missing value in our training data.\n",
            "0 missing data in our test data. \n",
            "\n",
            "All data in our X_train_processed are float64\n",
            "All data in our X_test_processed are float64 \n",
            "\n",
            "The shape of our data is (6392, 28) \n",
            "\n",
            "Our Numpy Array is \n",
            "\n"
          ]
        },
        {
          "data": {
            "text/plain": [
              "array([[-0.71277507,  1.82810922,  0.        , ...,  0.        ,\n",
              "         1.        ,  0.        ],\n",
              "       [-1.29105225,  0.60336888,  0.        , ...,  0.        ,\n",
              "         1.        ,  0.        ],\n",
              "       [ 1.81331864,  0.24454056,  0.        , ...,  1.        ,\n",
              "         0.        ,  0.        ],\n",
              "       ...,\n",
              "       [-0.92052713,  1.52302674,  0.        , ...,  1.        ,\n",
              "         0.        ,  0.        ],\n",
              "       [-0.2277552 , -0.38377708,  0.        , ...,  1.        ,\n",
              "         0.        ,  0.        ],\n",
              "       [-0.95867683, -0.73836105,  0.        , ...,  1.        ,\n",
              "         0.        ,  0.        ]])"
            ]
          },
          "execution_count": 33,
          "metadata": {},
          "output_type": "execute_result"
        }
      ],
      "source": [
        "# Display the result.\n",
        "print(np.isnan(X_train_processed).sum().sum(), 'missing value in our training data.')\n",
        "print(np.isnan(X_test_processed).sum().sum(), 'missing data in our test data. \\n')\n",
        "print('All data in our X_train_processed are', X_train_processed.dtype)\n",
        "print('All data in our X_test_processed are', X_test_processed.dtype,'\\n')\n",
        "print('The shape of our data is', X_train_processed.shape, '\\n')\n",
        "print('Our Numpy Array is \\n')\n",
        "X_train_processed"
      ]
    },
    {
      "cell_type": "markdown",
      "metadata": {
        "id": "HtPy5JmVv87l"
      },
      "source": [
        "##Section 6: Linear Regression"
      ]
    },
    {
      "cell_type": "markdown",
      "metadata": {
        "id": "fWCDi95XwNS5"
      },
      "source": [
        "###6.1.- Build a linear regression model to predict sales.\n",
        "\n"
      ]
    },
    {
      "cell_type": "code",
      "execution_count": 34,
      "metadata": {
        "id": "fjKTEBLL3FwE"
      },
      "outputs": [],
      "source": [
        "# Instantiate our model.\n",
        "lin_reg = LinearRegression()"
      ]
    },
    {
      "cell_type": "code",
      "execution_count": 35,
      "metadata": {
        "colab": {
          "base_uri": "https://localhost:8080/",
          "height": 124
        },
        "id": "6yt6z6dx3jKv",
        "outputId": "3b939e94-270e-420c-8603-bc65f933e6e7"
      },
      "outputs": [
        {
          "data": {
            "text/html": [
              "<style>#sk-1d5d6356-7eea-438f-a1f5-a7098c600c27 {color: black;background-color: white;}#sk-1d5d6356-7eea-438f-a1f5-a7098c600c27 pre{padding: 0;}#sk-1d5d6356-7eea-438f-a1f5-a7098c600c27 div.sk-toggleable {background-color: white;}#sk-1d5d6356-7eea-438f-a1f5-a7098c600c27 label.sk-toggleable__label {cursor: pointer;display: block;width: 100%;margin-bottom: 0;padding: 0.3em;box-sizing: border-box;text-align: center;}#sk-1d5d6356-7eea-438f-a1f5-a7098c600c27 label.sk-toggleable__label-arrow:before {content: \"▸\";float: left;margin-right: 0.25em;color: #696969;}#sk-1d5d6356-7eea-438f-a1f5-a7098c600c27 label.sk-toggleable__label-arrow:hover:before {color: black;}#sk-1d5d6356-7eea-438f-a1f5-a7098c600c27 div.sk-estimator:hover label.sk-toggleable__label-arrow:before {color: black;}#sk-1d5d6356-7eea-438f-a1f5-a7098c600c27 div.sk-toggleable__content {max-height: 0;max-width: 0;overflow: hidden;text-align: left;background-color: #f0f8ff;}#sk-1d5d6356-7eea-438f-a1f5-a7098c600c27 div.sk-toggleable__content pre {margin: 0.2em;color: black;border-radius: 0.25em;background-color: #f0f8ff;}#sk-1d5d6356-7eea-438f-a1f5-a7098c600c27 input.sk-toggleable__control:checked~div.sk-toggleable__content {max-height: 200px;max-width: 100%;overflow: auto;}#sk-1d5d6356-7eea-438f-a1f5-a7098c600c27 input.sk-toggleable__control:checked~label.sk-toggleable__label-arrow:before {content: \"▾\";}#sk-1d5d6356-7eea-438f-a1f5-a7098c600c27 div.sk-estimator input.sk-toggleable__control:checked~label.sk-toggleable__label {background-color: #d4ebff;}#sk-1d5d6356-7eea-438f-a1f5-a7098c600c27 div.sk-label input.sk-toggleable__control:checked~label.sk-toggleable__label {background-color: #d4ebff;}#sk-1d5d6356-7eea-438f-a1f5-a7098c600c27 input.sk-hidden--visually {border: 0;clip: rect(1px 1px 1px 1px);clip: rect(1px, 1px, 1px, 1px);height: 1px;margin: -1px;overflow: hidden;padding: 0;position: absolute;width: 1px;}#sk-1d5d6356-7eea-438f-a1f5-a7098c600c27 div.sk-estimator {font-family: monospace;background-color: #f0f8ff;border: 1px dotted black;border-radius: 0.25em;box-sizing: border-box;margin-bottom: 0.5em;}#sk-1d5d6356-7eea-438f-a1f5-a7098c600c27 div.sk-estimator:hover {background-color: #d4ebff;}#sk-1d5d6356-7eea-438f-a1f5-a7098c600c27 div.sk-parallel-item::after {content: \"\";width: 100%;border-bottom: 1px solid gray;flex-grow: 1;}#sk-1d5d6356-7eea-438f-a1f5-a7098c600c27 div.sk-label:hover label.sk-toggleable__label {background-color: #d4ebff;}#sk-1d5d6356-7eea-438f-a1f5-a7098c600c27 div.sk-serial::before {content: \"\";position: absolute;border-left: 1px solid gray;box-sizing: border-box;top: 2em;bottom: 0;left: 50%;}#sk-1d5d6356-7eea-438f-a1f5-a7098c600c27 div.sk-serial {display: flex;flex-direction: column;align-items: center;background-color: white;padding-right: 0.2em;padding-left: 0.2em;}#sk-1d5d6356-7eea-438f-a1f5-a7098c600c27 div.sk-item {z-index: 1;}#sk-1d5d6356-7eea-438f-a1f5-a7098c600c27 div.sk-parallel {display: flex;align-items: stretch;justify-content: center;background-color: white;}#sk-1d5d6356-7eea-438f-a1f5-a7098c600c27 div.sk-parallel::before {content: \"\";position: absolute;border-left: 1px solid gray;box-sizing: border-box;top: 2em;bottom: 0;left: 50%;}#sk-1d5d6356-7eea-438f-a1f5-a7098c600c27 div.sk-parallel-item {display: flex;flex-direction: column;position: relative;background-color: white;}#sk-1d5d6356-7eea-438f-a1f5-a7098c600c27 div.sk-parallel-item:first-child::after {align-self: flex-end;width: 50%;}#sk-1d5d6356-7eea-438f-a1f5-a7098c600c27 div.sk-parallel-item:last-child::after {align-self: flex-start;width: 50%;}#sk-1d5d6356-7eea-438f-a1f5-a7098c600c27 div.sk-parallel-item:only-child::after {width: 0;}#sk-1d5d6356-7eea-438f-a1f5-a7098c600c27 div.sk-dashed-wrapped {border: 1px dashed gray;margin: 0 0.4em 0.5em 0.4em;box-sizing: border-box;padding-bottom: 0.4em;background-color: white;position: relative;}#sk-1d5d6356-7eea-438f-a1f5-a7098c600c27 div.sk-label label {font-family: monospace;font-weight: bold;background-color: white;display: inline-block;line-height: 1.2em;}#sk-1d5d6356-7eea-438f-a1f5-a7098c600c27 div.sk-label-container {position: relative;z-index: 2;text-align: center;}#sk-1d5d6356-7eea-438f-a1f5-a7098c600c27 div.sk-container {/* jupyter's `normalize.less` sets `[hidden] { display: none; }` but bootstrap.min.css set `[hidden] { display: none !important; }` so we also need the `!important` here to be able to override the default hidden behavior on the sphinx rendered scikit-learn.org. See: https://github.com/scikit-learn/scikit-learn/issues/21755 */display: inline-block !important;position: relative;}#sk-1d5d6356-7eea-438f-a1f5-a7098c600c27 div.sk-text-repr-fallback {display: none;}</style><div id=\"sk-1d5d6356-7eea-438f-a1f5-a7098c600c27\" class=\"sk-top-container\"><div class=\"sk-text-repr-fallback\"><pre>Pipeline(steps=[(&#x27;standardscaler&#x27;, StandardScaler()),\n",
              "                (&#x27;linearregression&#x27;, LinearRegression())])</pre><b>Please rerun this cell to show the HTML repr or trust the notebook.</b></div><div class=\"sk-container\" hidden><div class=\"sk-item sk-dashed-wrapped\"><div class=\"sk-label-container\"><div class=\"sk-label sk-toggleable\"><input class=\"sk-toggleable__control sk-hidden--visually\" id=\"191f4528-d114-44dd-9e70-a063725e1f10\" type=\"checkbox\" ><label for=\"191f4528-d114-44dd-9e70-a063725e1f10\" class=\"sk-toggleable__label sk-toggleable__label-arrow\">Pipeline</label><div class=\"sk-toggleable__content\"><pre>Pipeline(steps=[(&#x27;standardscaler&#x27;, StandardScaler()),\n",
              "                (&#x27;linearregression&#x27;, LinearRegression())])</pre></div></div></div><div class=\"sk-serial\"><div class=\"sk-item\"><div class=\"sk-estimator sk-toggleable\"><input class=\"sk-toggleable__control sk-hidden--visually\" id=\"87c4e0d9-ce21-45b7-892d-a3c953076dc0\" type=\"checkbox\" ><label for=\"87c4e0d9-ce21-45b7-892d-a3c953076dc0\" class=\"sk-toggleable__label sk-toggleable__label-arrow\">StandardScaler</label><div class=\"sk-toggleable__content\"><pre>StandardScaler()</pre></div></div></div><div class=\"sk-item\"><div class=\"sk-estimator sk-toggleable\"><input class=\"sk-toggleable__control sk-hidden--visually\" id=\"b2a4e997-1fd4-4749-86a8-5df999638260\" type=\"checkbox\" ><label for=\"b2a4e997-1fd4-4749-86a8-5df999638260\" class=\"sk-toggleable__label sk-toggleable__label-arrow\">LinearRegression</label><div class=\"sk-toggleable__content\"><pre>LinearRegression()</pre></div></div></div></div></div></div></div>"
            ],
            "text/plain": [
              "Pipeline(steps=[('standardscaler', StandardScaler()),\n",
              "                ('linearregression', LinearRegression())])"
            ]
          },
          "execution_count": 35,
          "metadata": {},
          "output_type": "execute_result"
        }
      ],
      "source": [
        "# Create pipeline\n",
        "lin_reg_pipe = make_pipeline(scaler, lin_reg)\n",
        "lin_reg_pipe"
      ]
    },
    {
      "cell_type": "code",
      "execution_count": 36,
      "metadata": {
        "colab": {
          "base_uri": "https://localhost:8080/",
          "height": 124
        },
        "id": "9HOBKGir3nZs",
        "outputId": "dae4890c-91be-497f-ff32-4f2c7d4fb08b"
      },
      "outputs": [
        {
          "data": {
            "text/html": [
              "<style>#sk-abc0f7db-0503-4f04-aa68-4709f6e436b8 {color: black;background-color: white;}#sk-abc0f7db-0503-4f04-aa68-4709f6e436b8 pre{padding: 0;}#sk-abc0f7db-0503-4f04-aa68-4709f6e436b8 div.sk-toggleable {background-color: white;}#sk-abc0f7db-0503-4f04-aa68-4709f6e436b8 label.sk-toggleable__label {cursor: pointer;display: block;width: 100%;margin-bottom: 0;padding: 0.3em;box-sizing: border-box;text-align: center;}#sk-abc0f7db-0503-4f04-aa68-4709f6e436b8 label.sk-toggleable__label-arrow:before {content: \"▸\";float: left;margin-right: 0.25em;color: #696969;}#sk-abc0f7db-0503-4f04-aa68-4709f6e436b8 label.sk-toggleable__label-arrow:hover:before {color: black;}#sk-abc0f7db-0503-4f04-aa68-4709f6e436b8 div.sk-estimator:hover label.sk-toggleable__label-arrow:before {color: black;}#sk-abc0f7db-0503-4f04-aa68-4709f6e436b8 div.sk-toggleable__content {max-height: 0;max-width: 0;overflow: hidden;text-align: left;background-color: #f0f8ff;}#sk-abc0f7db-0503-4f04-aa68-4709f6e436b8 div.sk-toggleable__content pre {margin: 0.2em;color: black;border-radius: 0.25em;background-color: #f0f8ff;}#sk-abc0f7db-0503-4f04-aa68-4709f6e436b8 input.sk-toggleable__control:checked~div.sk-toggleable__content {max-height: 200px;max-width: 100%;overflow: auto;}#sk-abc0f7db-0503-4f04-aa68-4709f6e436b8 input.sk-toggleable__control:checked~label.sk-toggleable__label-arrow:before {content: \"▾\";}#sk-abc0f7db-0503-4f04-aa68-4709f6e436b8 div.sk-estimator input.sk-toggleable__control:checked~label.sk-toggleable__label {background-color: #d4ebff;}#sk-abc0f7db-0503-4f04-aa68-4709f6e436b8 div.sk-label input.sk-toggleable__control:checked~label.sk-toggleable__label {background-color: #d4ebff;}#sk-abc0f7db-0503-4f04-aa68-4709f6e436b8 input.sk-hidden--visually {border: 0;clip: rect(1px 1px 1px 1px);clip: rect(1px, 1px, 1px, 1px);height: 1px;margin: -1px;overflow: hidden;padding: 0;position: absolute;width: 1px;}#sk-abc0f7db-0503-4f04-aa68-4709f6e436b8 div.sk-estimator {font-family: monospace;background-color: #f0f8ff;border: 1px dotted black;border-radius: 0.25em;box-sizing: border-box;margin-bottom: 0.5em;}#sk-abc0f7db-0503-4f04-aa68-4709f6e436b8 div.sk-estimator:hover {background-color: #d4ebff;}#sk-abc0f7db-0503-4f04-aa68-4709f6e436b8 div.sk-parallel-item::after {content: \"\";width: 100%;border-bottom: 1px solid gray;flex-grow: 1;}#sk-abc0f7db-0503-4f04-aa68-4709f6e436b8 div.sk-label:hover label.sk-toggleable__label {background-color: #d4ebff;}#sk-abc0f7db-0503-4f04-aa68-4709f6e436b8 div.sk-serial::before {content: \"\";position: absolute;border-left: 1px solid gray;box-sizing: border-box;top: 2em;bottom: 0;left: 50%;}#sk-abc0f7db-0503-4f04-aa68-4709f6e436b8 div.sk-serial {display: flex;flex-direction: column;align-items: center;background-color: white;padding-right: 0.2em;padding-left: 0.2em;}#sk-abc0f7db-0503-4f04-aa68-4709f6e436b8 div.sk-item {z-index: 1;}#sk-abc0f7db-0503-4f04-aa68-4709f6e436b8 div.sk-parallel {display: flex;align-items: stretch;justify-content: center;background-color: white;}#sk-abc0f7db-0503-4f04-aa68-4709f6e436b8 div.sk-parallel::before {content: \"\";position: absolute;border-left: 1px solid gray;box-sizing: border-box;top: 2em;bottom: 0;left: 50%;}#sk-abc0f7db-0503-4f04-aa68-4709f6e436b8 div.sk-parallel-item {display: flex;flex-direction: column;position: relative;background-color: white;}#sk-abc0f7db-0503-4f04-aa68-4709f6e436b8 div.sk-parallel-item:first-child::after {align-self: flex-end;width: 50%;}#sk-abc0f7db-0503-4f04-aa68-4709f6e436b8 div.sk-parallel-item:last-child::after {align-self: flex-start;width: 50%;}#sk-abc0f7db-0503-4f04-aa68-4709f6e436b8 div.sk-parallel-item:only-child::after {width: 0;}#sk-abc0f7db-0503-4f04-aa68-4709f6e436b8 div.sk-dashed-wrapped {border: 1px dashed gray;margin: 0 0.4em 0.5em 0.4em;box-sizing: border-box;padding-bottom: 0.4em;background-color: white;position: relative;}#sk-abc0f7db-0503-4f04-aa68-4709f6e436b8 div.sk-label label {font-family: monospace;font-weight: bold;background-color: white;display: inline-block;line-height: 1.2em;}#sk-abc0f7db-0503-4f04-aa68-4709f6e436b8 div.sk-label-container {position: relative;z-index: 2;text-align: center;}#sk-abc0f7db-0503-4f04-aa68-4709f6e436b8 div.sk-container {/* jupyter's `normalize.less` sets `[hidden] { display: none; }` but bootstrap.min.css set `[hidden] { display: none !important; }` so we also need the `!important` here to be able to override the default hidden behavior on the sphinx rendered scikit-learn.org. See: https://github.com/scikit-learn/scikit-learn/issues/21755 */display: inline-block !important;position: relative;}#sk-abc0f7db-0503-4f04-aa68-4709f6e436b8 div.sk-text-repr-fallback {display: none;}</style><div id=\"sk-abc0f7db-0503-4f04-aa68-4709f6e436b8\" class=\"sk-top-container\"><div class=\"sk-text-repr-fallback\"><pre>Pipeline(steps=[(&#x27;standardscaler&#x27;, StandardScaler()),\n",
              "                (&#x27;linearregression&#x27;, LinearRegression())])</pre><b>Please rerun this cell to show the HTML repr or trust the notebook.</b></div><div class=\"sk-container\" hidden><div class=\"sk-item sk-dashed-wrapped\"><div class=\"sk-label-container\"><div class=\"sk-label sk-toggleable\"><input class=\"sk-toggleable__control sk-hidden--visually\" id=\"83ac1524-5109-4823-a246-3d876eecc1f7\" type=\"checkbox\" ><label for=\"83ac1524-5109-4823-a246-3d876eecc1f7\" class=\"sk-toggleable__label sk-toggleable__label-arrow\">Pipeline</label><div class=\"sk-toggleable__content\"><pre>Pipeline(steps=[(&#x27;standardscaler&#x27;, StandardScaler()),\n",
              "                (&#x27;linearregression&#x27;, LinearRegression())])</pre></div></div></div><div class=\"sk-serial\"><div class=\"sk-item\"><div class=\"sk-estimator sk-toggleable\"><input class=\"sk-toggleable__control sk-hidden--visually\" id=\"6bff936f-951a-46bf-ac49-5e45c07515ae\" type=\"checkbox\" ><label for=\"6bff936f-951a-46bf-ac49-5e45c07515ae\" class=\"sk-toggleable__label sk-toggleable__label-arrow\">StandardScaler</label><div class=\"sk-toggleable__content\"><pre>StandardScaler()</pre></div></div></div><div class=\"sk-item\"><div class=\"sk-estimator sk-toggleable\"><input class=\"sk-toggleable__control sk-hidden--visually\" id=\"bfe67ab5-12e2-4f92-8020-e498ba6d4fcf\" type=\"checkbox\" ><label for=\"bfe67ab5-12e2-4f92-8020-e498ba6d4fcf\" class=\"sk-toggleable__label sk-toggleable__label-arrow\">LinearRegression</label><div class=\"sk-toggleable__content\"><pre>LinearRegression()</pre></div></div></div></div></div></div></div>"
            ],
            "text/plain": [
              "Pipeline(steps=[('standardscaler', StandardScaler()),\n",
              "                ('linearregression', LinearRegression())])"
            ]
          },
          "execution_count": 36,
          "metadata": {},
          "output_type": "execute_result"
        }
      ],
      "source": [
        "# Fit pipeline\n",
        "lin_reg_pipe.fit(X_train_processed, y_train)"
      ]
    },
    {
      "cell_type": "code",
      "execution_count": 37,
      "metadata": {
        "id": "DtK60Mu43n49"
      },
      "outputs": [],
      "source": [
        "# Create model predictions\n",
        "train_pred = lin_reg_pipe.predict(X_train_processed)\n",
        "test_pred = lin_reg_pipe.predict(X_test_processed)"
      ]
    },
    {
      "cell_type": "markdown",
      "metadata": {
        "id": "2O4Ji3QR4SYp"
      },
      "source": [
        "###6.2.- Evaluate our linear regression model"
      ]
    },
    {
      "cell_type": "code",
      "execution_count": 38,
      "metadata": {
        "colab": {
          "base_uri": "https://localhost:8080/"
        },
        "id": "DtWm62CX4ZXq",
        "outputId": "37e1afff-89ed-488a-a7b1-00a5c8e886a6"
      },
      "outputs": [
        {
          "name": "stdout",
          "output_type": "stream",
          "text": [
            "Model Training R^2: 0.5603\n",
            "Model Test R^2: 0.5662\n",
            "\n",
            "Yes, we identified the difference between both models.\n"
          ]
        }
      ],
      "source": [
        "# Calculating R^2 using Scikit-Learn.\n",
        "train_r2 = r2_score(y_train, train_pred).round(4)\n",
        "test_r2 = r2_score(y_test, test_pred).round(4)\n",
        "\n",
        "print(f'Model Training R^2: {train_r2}')\n",
        "print(f'Model Test R^2: {test_r2}')\n",
        "print('\\nYes, we identified the difference between both models.')"
      ]
    },
    {
      "cell_type": "code",
      "execution_count": 39,
      "metadata": {
        "colab": {
          "base_uri": "https://localhost:8080/"
        },
        "id": "f7vWuitd5IUz",
        "outputId": "83057b34-aedf-450f-d629-fa9251f76579"
      },
      "outputs": [
        {
          "name": "stdout",
          "output_type": "stream",
          "text": [
            "Model Training MSE: 1301143.2426\n",
            "Model Test MSE: 1196805.6205\n"
          ]
        }
      ],
      "source": [
        "# Calculating MSE using Scikit-Learn.\n",
        "train_MSE = mean_squared_error(y_train, train_pred).round(4)\n",
        "test_MSE = mean_squared_error(y_test, test_pred).round(4)\n",
        "\n",
        "print(f'Model Training MSE: {train_MSE}')\n",
        "print(f'Model Test MSE: {test_MSE}')"
      ]
    },
    {
      "cell_type": "code",
      "execution_count": 40,
      "metadata": {
        "colab": {
          "base_uri": "https://localhost:8080/"
        },
        "id": "nvaBI6na4dYC",
        "outputId": "50194f88-07ad-450a-d680-1618a620f3e4"
      },
      "outputs": [
        {
          "name": "stdout",
          "output_type": "stream",
          "text": [
            "Model Training RMSE: 1140.6767\n",
            "Model Test RMSE: 1093.9861\n"
          ]
        }
      ],
      "source": [
        "# Calculating RMSE using Scikit-Learn.\n",
        "train_RMSE = np.sqrt(train_MSE).round(4)\n",
        "test_RMSE = np.sqrt(test_MSE).round(4)\n",
        "\n",
        "print(f'Model Training RMSE: {train_RMSE}')\n",
        "print(f'Model Test RMSE: {test_RMSE}')"
      ]
    },
    {
      "cell_type": "markdown",
      "metadata": {
        "id": "9bh6AwDA5QrI"
      },
      "source": [
        "*Notes:*\n",
        "- Having a R^2 values around 0.56 means that ~56% of the variance in the outcome variable is explained by our model.\n",
        "- Having a RMSE in our training model higher than test model is an indication of overfitting. It's not a big difference between both, but it's important to keep this in mind."
      ]
    },
    {
      "cell_type": "markdown",
      "metadata": {
        "id": "WKIEPkt1wNtT"
      },
      "source": [
        "##Section 7: Regression Tree\n",
        "- For this regression we have choosen Random Forests model."
      ]
    },
    {
      "cell_type": "markdown",
      "metadata": {
        "id": "GELEEXkl8xC_"
      },
      "source": [
        "###7.1.- Build a Random Forests model to predict sales.\n",
        "\n"
      ]
    },
    {
      "cell_type": "code",
      "execution_count": 41,
      "metadata": {
        "id": "MRygTep69GQS"
      },
      "outputs": [],
      "source": [
        "# Instantiate our model.\n",
        "rf = RandomForestRegressor(random_state = 42)"
      ]
    },
    {
      "cell_type": "code",
      "execution_count": 42,
      "metadata": {
        "colab": {
          "base_uri": "https://localhost:8080/",
          "height": 74
        },
        "id": "GpzvQIC4-U5m",
        "outputId": "976ff28b-03e6-4208-ae49-83ad8e8daf71"
      },
      "outputs": [
        {
          "data": {
            "text/html": [
              "<style>#sk-88893421-56c8-4d9a-9266-ccfe3c284370 {color: black;background-color: white;}#sk-88893421-56c8-4d9a-9266-ccfe3c284370 pre{padding: 0;}#sk-88893421-56c8-4d9a-9266-ccfe3c284370 div.sk-toggleable {background-color: white;}#sk-88893421-56c8-4d9a-9266-ccfe3c284370 label.sk-toggleable__label {cursor: pointer;display: block;width: 100%;margin-bottom: 0;padding: 0.3em;box-sizing: border-box;text-align: center;}#sk-88893421-56c8-4d9a-9266-ccfe3c284370 label.sk-toggleable__label-arrow:before {content: \"▸\";float: left;margin-right: 0.25em;color: #696969;}#sk-88893421-56c8-4d9a-9266-ccfe3c284370 label.sk-toggleable__label-arrow:hover:before {color: black;}#sk-88893421-56c8-4d9a-9266-ccfe3c284370 div.sk-estimator:hover label.sk-toggleable__label-arrow:before {color: black;}#sk-88893421-56c8-4d9a-9266-ccfe3c284370 div.sk-toggleable__content {max-height: 0;max-width: 0;overflow: hidden;text-align: left;background-color: #f0f8ff;}#sk-88893421-56c8-4d9a-9266-ccfe3c284370 div.sk-toggleable__content pre {margin: 0.2em;color: black;border-radius: 0.25em;background-color: #f0f8ff;}#sk-88893421-56c8-4d9a-9266-ccfe3c284370 input.sk-toggleable__control:checked~div.sk-toggleable__content {max-height: 200px;max-width: 100%;overflow: auto;}#sk-88893421-56c8-4d9a-9266-ccfe3c284370 input.sk-toggleable__control:checked~label.sk-toggleable__label-arrow:before {content: \"▾\";}#sk-88893421-56c8-4d9a-9266-ccfe3c284370 div.sk-estimator input.sk-toggleable__control:checked~label.sk-toggleable__label {background-color: #d4ebff;}#sk-88893421-56c8-4d9a-9266-ccfe3c284370 div.sk-label input.sk-toggleable__control:checked~label.sk-toggleable__label {background-color: #d4ebff;}#sk-88893421-56c8-4d9a-9266-ccfe3c284370 input.sk-hidden--visually {border: 0;clip: rect(1px 1px 1px 1px);clip: rect(1px, 1px, 1px, 1px);height: 1px;margin: -1px;overflow: hidden;padding: 0;position: absolute;width: 1px;}#sk-88893421-56c8-4d9a-9266-ccfe3c284370 div.sk-estimator {font-family: monospace;background-color: #f0f8ff;border: 1px dotted black;border-radius: 0.25em;box-sizing: border-box;margin-bottom: 0.5em;}#sk-88893421-56c8-4d9a-9266-ccfe3c284370 div.sk-estimator:hover {background-color: #d4ebff;}#sk-88893421-56c8-4d9a-9266-ccfe3c284370 div.sk-parallel-item::after {content: \"\";width: 100%;border-bottom: 1px solid gray;flex-grow: 1;}#sk-88893421-56c8-4d9a-9266-ccfe3c284370 div.sk-label:hover label.sk-toggleable__label {background-color: #d4ebff;}#sk-88893421-56c8-4d9a-9266-ccfe3c284370 div.sk-serial::before {content: \"\";position: absolute;border-left: 1px solid gray;box-sizing: border-box;top: 2em;bottom: 0;left: 50%;}#sk-88893421-56c8-4d9a-9266-ccfe3c284370 div.sk-serial {display: flex;flex-direction: column;align-items: center;background-color: white;padding-right: 0.2em;padding-left: 0.2em;}#sk-88893421-56c8-4d9a-9266-ccfe3c284370 div.sk-item {z-index: 1;}#sk-88893421-56c8-4d9a-9266-ccfe3c284370 div.sk-parallel {display: flex;align-items: stretch;justify-content: center;background-color: white;}#sk-88893421-56c8-4d9a-9266-ccfe3c284370 div.sk-parallel::before {content: \"\";position: absolute;border-left: 1px solid gray;box-sizing: border-box;top: 2em;bottom: 0;left: 50%;}#sk-88893421-56c8-4d9a-9266-ccfe3c284370 div.sk-parallel-item {display: flex;flex-direction: column;position: relative;background-color: white;}#sk-88893421-56c8-4d9a-9266-ccfe3c284370 div.sk-parallel-item:first-child::after {align-self: flex-end;width: 50%;}#sk-88893421-56c8-4d9a-9266-ccfe3c284370 div.sk-parallel-item:last-child::after {align-self: flex-start;width: 50%;}#sk-88893421-56c8-4d9a-9266-ccfe3c284370 div.sk-parallel-item:only-child::after {width: 0;}#sk-88893421-56c8-4d9a-9266-ccfe3c284370 div.sk-dashed-wrapped {border: 1px dashed gray;margin: 0 0.4em 0.5em 0.4em;box-sizing: border-box;padding-bottom: 0.4em;background-color: white;position: relative;}#sk-88893421-56c8-4d9a-9266-ccfe3c284370 div.sk-label label {font-family: monospace;font-weight: bold;background-color: white;display: inline-block;line-height: 1.2em;}#sk-88893421-56c8-4d9a-9266-ccfe3c284370 div.sk-label-container {position: relative;z-index: 2;text-align: center;}#sk-88893421-56c8-4d9a-9266-ccfe3c284370 div.sk-container {/* jupyter's `normalize.less` sets `[hidden] { display: none; }` but bootstrap.min.css set `[hidden] { display: none !important; }` so we also need the `!important` here to be able to override the default hidden behavior on the sphinx rendered scikit-learn.org. See: https://github.com/scikit-learn/scikit-learn/issues/21755 */display: inline-block !important;position: relative;}#sk-88893421-56c8-4d9a-9266-ccfe3c284370 div.sk-text-repr-fallback {display: none;}</style><div id=\"sk-88893421-56c8-4d9a-9266-ccfe3c284370\" class=\"sk-top-container\"><div class=\"sk-text-repr-fallback\"><pre>RandomForestRegressor(random_state=42)</pre><b>Please rerun this cell to show the HTML repr or trust the notebook.</b></div><div class=\"sk-container\" hidden><div class=\"sk-item\"><div class=\"sk-estimator sk-toggleable\"><input class=\"sk-toggleable__control sk-hidden--visually\" id=\"671af7c3-d434-4961-bf2d-049c743e93be\" type=\"checkbox\" checked><label for=\"671af7c3-d434-4961-bf2d-049c743e93be\" class=\"sk-toggleable__label sk-toggleable__label-arrow\">RandomForestRegressor</label><div class=\"sk-toggleable__content\"><pre>RandomForestRegressor(random_state=42)</pre></div></div></div></div></div>"
            ],
            "text/plain": [
              "RandomForestRegressor(random_state=42)"
            ]
          },
          "execution_count": 42,
          "metadata": {},
          "output_type": "execute_result"
        }
      ],
      "source": [
        "# Fit our model.\n",
        "rf.fit(X_train_processed, y_train)"
      ]
    },
    {
      "cell_type": "code",
      "execution_count": 43,
      "metadata": {
        "colab": {
          "base_uri": "https://localhost:8080/"
        },
        "id": "sdjWqo50-vlh",
        "outputId": "908a1925-c065-4ee4-c683-37e1db0e0b4b"
      },
      "outputs": [
        {
          "data": {
            "text/plain": [
              "array([ 720.149254,  806.41696 ,  622.030308, ..., 4558.705968,\n",
              "       2147.824194, 2302.849066])"
            ]
          },
          "execution_count": 43,
          "metadata": {},
          "output_type": "execute_result"
        }
      ],
      "source": [
        "# Predict the values for y.\n",
        "rf.predict(X_test_processed)"
      ]
    },
    {
      "cell_type": "code",
      "execution_count": 44,
      "metadata": {
        "colab": {
          "base_uri": "https://localhost:8080/"
        },
        "id": "a_02Wzk7_Wbr",
        "outputId": "97b04dbf-1ab9-4d17-e0a5-12fe9432d5f9"
      },
      "outputs": [
        {
          "data": {
            "text/plain": [
              "array([1800.443044, 3066.721406, 2013.439122, ..., 5308.85617 ,\n",
              "       1530.587646, 1083.170046])"
            ]
          },
          "execution_count": 44,
          "metadata": {},
          "output_type": "execute_result"
        }
      ],
      "source": [
        "rf.predict(X_train_processed)"
      ]
    },
    {
      "cell_type": "markdown",
      "metadata": {
        "id": "-_nnOHwB80hZ"
      },
      "source": [
        "###7.2.- Evaluate our Random Forests model"
      ]
    },
    {
      "cell_type": "code",
      "execution_count": 45,
      "metadata": {
        "id": "FF090x7v_Jpe"
      },
      "outputs": [],
      "source": [
        "# Let's create a function to take the true and predicted labels and print MAE, MSE, RMSE, and R2 metrics.\n",
        "def evaluate_regression(y_true, y_pred):\n",
        "  mse = mean_squared_error(y_true, y_pred)\n",
        "  rmse = np.sqrt(mse)\n",
        "  r2 = r2_score(y_true, y_pred)\n",
        "\n",
        "  print(f'MSE: {mse:,.2f} \\nRMSE: {rmse:,.2f} \\nR^2: {r2:.2f}')"
      ]
    },
    {
      "cell_type": "code",
      "execution_count": 46,
      "metadata": {
        "colab": {
          "base_uri": "https://localhost:8080/"
        },
        "id": "pQ4PZinoADAA",
        "outputId": "3554253c-c22e-4f38-f0c1-0961fe147dfd"
      },
      "outputs": [
        {
          "name": "stdout",
          "output_type": "stream",
          "text": [
            "\u001b[1mMetrics from training set:\u001b[0;0m\n",
            "MSE: 185,754.36 \n",
            "RMSE: 430.99 \n",
            "R^2: 0.94\n",
            "\n",
            "\u001b[1mMetrics from testing set:\u001b[0;0m\n",
            "MSE: 1,222,180.38 \n",
            "RMSE: 1,105.52 \n",
            "R^2: 0.56\n"
          ]
        }
      ],
      "source": [
        "# Let's call 'evaluate_regression' function to display MSE, RMSE, and R2.\n",
        "print('\\033[1mMetrics from training set:\\033[0;0m')\n",
        "evaluate_regression(y_train, rf.predict(X_train_processed))\n",
        "print('\\n\\033[1mMetrics from testing set:\\033[0;0m')\n",
        "evaluate_regression(y_test, rf.predict(X_test_processed))"
      ]
    },
    {
      "cell_type": "markdown",
      "metadata": {
        "id": "95O3f9tCWk24"
      },
      "source": [
        "*Notes:*\n",
        "- Having a R^2 in training set higher than test model is another indication of overfitting (High Variance).\n",
        "- This model has higher R^2 in our training set, so this one is higher capable to explain more percentage of the variance of data."
      ]
    },
    {
      "cell_type": "markdown",
      "metadata": {
        "id": "VDgNXkUO-9Al"
      },
      "source": [
        "###7.3.- Tune our Random Forest model\n",
        "- The idea about this tuning, is looking for improve our metrics."
      ]
    },
    {
      "cell_type": "code",
      "execution_count": 47,
      "metadata": {
        "colab": {
          "base_uri": "https://localhost:8080/"
        },
        "id": "5zkn4nLWA6ZX",
        "outputId": "eb21f680-15ce-4406-dd1d-e2929247ac1c"
      },
      "outputs": [
        {
          "data": {
            "text/plain": [
              "{'bootstrap': True,\n",
              " 'ccp_alpha': 0.0,\n",
              " 'criterion': 'squared_error',\n",
              " 'max_depth': None,\n",
              " 'max_features': 'auto',\n",
              " 'max_leaf_nodes': None,\n",
              " 'max_samples': None,\n",
              " 'min_impurity_decrease': 0.0,\n",
              " 'min_samples_leaf': 1,\n",
              " 'min_samples_split': 2,\n",
              " 'min_weight_fraction_leaf': 0.0,\n",
              " 'n_estimators': 100,\n",
              " 'n_jobs': None,\n",
              " 'oob_score': False,\n",
              " 'random_state': 42,\n",
              " 'verbose': 0,\n",
              " 'warm_start': False}"
            ]
          },
          "execution_count": 47,
          "metadata": {},
          "output_type": "execute_result"
        }
      ],
      "source": [
        "# Looking at some hyperparameters that seem tunable.\n",
        "rf.get_params()"
      ]
    },
    {
      "cell_type": "code",
      "execution_count": 48,
      "metadata": {
        "colab": {
          "base_uri": "https://localhost:8080/"
        },
        "id": "hzLgZky9BU2-",
        "outputId": "e8ded2e6-0903-4bea-e2d8-76fbfaebad4f"
      },
      "outputs": [
        {
          "data": {
            "text/plain": [
              "44"
            ]
          },
          "execution_count": 48,
          "metadata": {},
          "output_type": "execute_result"
        }
      ],
      "source": [
        "# Tuning the Max Depth.\n",
        "\n",
        "# Let's see what the depth of each tree in our random forest is when the Max Depth is unlimited.\n",
        "est_depths = [estimator.get_depth() for estimator in rf.estimators_]\n",
        "max(est_depths)"
      ]
    },
    {
      "cell_type": "code",
      "execution_count": 49,
      "metadata": {
        "id": "1Ca1rMSOBVq3"
      },
      "outputs": [],
      "source": [
        "# Finding the optimal max_depth (hyperparameter tuning).\n",
        "\n",
        "# List of values to try for Max Depth.\n",
        "depths_forest = range(1, max(est_depths))\n",
        "scores_forest = pd.DataFrame(index=depths_forest, columns=['Test Score'])"
      ]
    },
    {
      "cell_type": "code",
      "execution_count": 50,
      "metadata": {
        "id": "PpxW0ucLBVxE"
      },
      "outputs": [],
      "source": [
        "# Let's create our loop.\n",
        "for depth in depths_forest:    \n",
        "   model = RandomForestRegressor(max_depth=depth)\n",
        "   model.fit(X_train_processed, y_train)\n",
        "   scores_forest.loc[depth, 'Train Score'] = model.score(X_train_processed, y_train)\n",
        "   scores_forest.loc[depth, 'Test Score'] = model.score(X_test_processed, y_test)"
      ]
    },
    {
      "cell_type": "code",
      "execution_count": 51,
      "metadata": {
        "colab": {
          "base_uri": "https://localhost:8080/",
          "height": 265
        },
        "id": "9RweETCDBV3U",
        "outputId": "93205029-1807-4b18-ad26-ac05ee5a1a0f"
      },
      "outputs": [
        {
          "data": {
            "image/png": "[encoded data removed]",
            "text/plain": [
              "<Figure size 432x288 with 1 Axes>"
            ]
          },
          "metadata": {
            "needs_background": "light"
          },
          "output_type": "display_data"
        }
      ],
      "source": [
        "# Let's plot the scores.\n",
        "plt.plot(scores_forest['Test Score']);"
      ]
    },
    {
      "cell_type": "code",
      "execution_count": 52,
      "metadata": {
        "colab": {
          "base_uri": "https://localhost:8080/",
          "height": 1000
        },
        "id": "1o_vTL-6BeEO",
        "outputId": "53bf1664-2b73-4f4c-b5f8-48f73f05a9c3"
      },
      "outputs": [
        {
          "data": {
            "text/html": [
              "\n",
              "  <div id=\"df-73de82d9-1a2a-45b1-897c-efa1aa30d9a6\">\n",
              "    <div class=\"colab-df-container\">\n",
              "      <div>\n",
              "<style scoped>\n",
              "    .dataframe tbody tr th:only-of-type {\n",
              "        vertical-align: middle;\n",
              "    }\n",
              "\n",
              "    .dataframe tbody tr th {\n",
              "        vertical-align: top;\n",
              "    }\n",
              "\n",
              "    .dataframe thead th {\n",
              "        text-align: right;\n",
              "    }\n",
              "</style>\n",
              "<table border=\"1\" class=\"dataframe\">\n",
              "  <thead>\n",
              "    <tr style=\"text-align: right;\">\n",
              "      <th></th>\n",
              "      <th>Test Score</th>\n",
              "      <th>Train Score</th>\n",
              "    </tr>\n",
              "  </thead>\n",
              "  <tbody>\n",
              "    <tr>\n",
              "      <th>5</th>\n",
              "      <td>0.602779</td>\n",
              "      <td>0.610367</td>\n",
              "    </tr>\n",
              "    <tr>\n",
              "      <th>6</th>\n",
              "      <td>0.600855</td>\n",
              "      <td>0.623665</td>\n",
              "    </tr>\n",
              "    <tr>\n",
              "      <th>7</th>\n",
              "      <td>0.597917</td>\n",
              "      <td>0.641287</td>\n",
              "    </tr>\n",
              "    <tr>\n",
              "      <th>4</th>\n",
              "      <td>0.596835</td>\n",
              "      <td>0.595590</td>\n",
              "    </tr>\n",
              "    <tr>\n",
              "      <th>8</th>\n",
              "      <td>0.595232</td>\n",
              "      <td>0.662809</td>\n",
              "    </tr>\n",
              "    <tr>\n",
              "      <th>9</th>\n",
              "      <td>0.593017</td>\n",
              "      <td>0.688016</td>\n",
              "    </tr>\n",
              "    <tr>\n",
              "      <th>10</th>\n",
              "      <td>0.588431</td>\n",
              "      <td>0.716327</td>\n",
              "    </tr>\n",
              "    <tr>\n",
              "      <th>11</th>\n",
              "      <td>0.586833</td>\n",
              "      <td>0.742824</td>\n",
              "    </tr>\n",
              "    <tr>\n",
              "      <th>12</th>\n",
              "      <td>0.582966</td>\n",
              "      <td>0.774812</td>\n",
              "    </tr>\n",
              "    <tr>\n",
              "      <th>13</th>\n",
              "      <td>0.576319</td>\n",
              "      <td>0.799759</td>\n",
              "    </tr>\n",
              "    <tr>\n",
              "      <th>14</th>\n",
              "      <td>0.572069</td>\n",
              "      <td>0.824291</td>\n",
              "    </tr>\n",
              "    <tr>\n",
              "      <th>15</th>\n",
              "      <td>0.571126</td>\n",
              "      <td>0.845587</td>\n",
              "    </tr>\n",
              "    <tr>\n",
              "      <th>16</th>\n",
              "      <td>0.568329</td>\n",
              "      <td>0.867837</td>\n",
              "    </tr>\n",
              "    <tr>\n",
              "      <th>17</th>\n",
              "      <td>0.566777</td>\n",
              "      <td>0.882259</td>\n",
              "    </tr>\n",
              "    <tr>\n",
              "      <th>18</th>\n",
              "      <td>0.560262</td>\n",
              "      <td>0.895503</td>\n",
              "    </tr>\n",
              "    <tr>\n",
              "      <th>20</th>\n",
              "      <td>0.558633</td>\n",
              "      <td>0.914178</td>\n",
              "    </tr>\n",
              "    <tr>\n",
              "      <th>19</th>\n",
              "      <td>0.558071</td>\n",
              "      <td>0.905692</td>\n",
              "    </tr>\n",
              "    <tr>\n",
              "      <th>23</th>\n",
              "      <td>0.55602</td>\n",
              "      <td>0.928727</td>\n",
              "    </tr>\n",
              "    <tr>\n",
              "      <th>22</th>\n",
              "      <td>0.554954</td>\n",
              "      <td>0.925094</td>\n",
              "    </tr>\n",
              "    <tr>\n",
              "      <th>39</th>\n",
              "      <td>0.552939</td>\n",
              "      <td>0.937394</td>\n",
              "    </tr>\n",
              "    <tr>\n",
              "      <th>36</th>\n",
              "      <td>0.552674</td>\n",
              "      <td>0.937877</td>\n",
              "    </tr>\n",
              "    <tr>\n",
              "      <th>24</th>\n",
              "      <td>0.552319</td>\n",
              "      <td>0.931569</td>\n",
              "    </tr>\n",
              "    <tr>\n",
              "      <th>28</th>\n",
              "      <td>0.55194</td>\n",
              "      <td>0.936672</td>\n",
              "    </tr>\n",
              "    <tr>\n",
              "      <th>34</th>\n",
              "      <td>0.551128</td>\n",
              "      <td>0.936641</td>\n",
              "    </tr>\n",
              "    <tr>\n",
              "      <th>43</th>\n",
              "      <td>0.551022</td>\n",
              "      <td>0.937068</td>\n",
              "    </tr>\n",
              "    <tr>\n",
              "      <th>27</th>\n",
              "      <td>0.550549</td>\n",
              "      <td>0.936019</td>\n",
              "    </tr>\n",
              "    <tr>\n",
              "      <th>31</th>\n",
              "      <td>0.550179</td>\n",
              "      <td>0.937258</td>\n",
              "    </tr>\n",
              "    <tr>\n",
              "      <th>37</th>\n",
              "      <td>0.549731</td>\n",
              "      <td>0.937691</td>\n",
              "    </tr>\n",
              "    <tr>\n",
              "      <th>21</th>\n",
              "      <td>0.549365</td>\n",
              "      <td>0.922489</td>\n",
              "    </tr>\n",
              "    <tr>\n",
              "      <th>25</th>\n",
              "      <td>0.549055</td>\n",
              "      <td>0.934062</td>\n",
              "    </tr>\n",
              "    <tr>\n",
              "      <th>30</th>\n",
              "      <td>0.549048</td>\n",
              "      <td>0.936924</td>\n",
              "    </tr>\n",
              "    <tr>\n",
              "      <th>38</th>\n",
              "      <td>0.549027</td>\n",
              "      <td>0.937248</td>\n",
              "    </tr>\n",
              "    <tr>\n",
              "      <th>32</th>\n",
              "      <td>0.548165</td>\n",
              "      <td>0.937626</td>\n",
              "    </tr>\n",
              "    <tr>\n",
              "      <th>41</th>\n",
              "      <td>0.54815</td>\n",
              "      <td>0.937435</td>\n",
              "    </tr>\n",
              "    <tr>\n",
              "      <th>42</th>\n",
              "      <td>0.547966</td>\n",
              "      <td>0.937159</td>\n",
              "    </tr>\n",
              "    <tr>\n",
              "      <th>29</th>\n",
              "      <td>0.54794</td>\n",
              "      <td>0.936325</td>\n",
              "    </tr>\n",
              "    <tr>\n",
              "      <th>33</th>\n",
              "      <td>0.547742</td>\n",
              "      <td>0.937320</td>\n",
              "    </tr>\n",
              "    <tr>\n",
              "      <th>35</th>\n",
              "      <td>0.547126</td>\n",
              "      <td>0.937314</td>\n",
              "    </tr>\n",
              "    <tr>\n",
              "      <th>40</th>\n",
              "      <td>0.547049</td>\n",
              "      <td>0.937218</td>\n",
              "    </tr>\n",
              "    <tr>\n",
              "      <th>26</th>\n",
              "      <td>0.546361</td>\n",
              "      <td>0.934364</td>\n",
              "    </tr>\n",
              "    <tr>\n",
              "      <th>3</th>\n",
              "      <td>0.545307</td>\n",
              "      <td>0.544073</td>\n",
              "    </tr>\n",
              "    <tr>\n",
              "      <th>2</th>\n",
              "      <td>0.46408</td>\n",
              "      <td>0.460795</td>\n",
              "    </tr>\n",
              "    <tr>\n",
              "      <th>1</th>\n",
              "      <td>0.242658</td>\n",
              "      <td>0.252546</td>\n",
              "    </tr>\n",
              "  </tbody>\n",
              "</table>\n",
              "</div>\n",
              "      <button class=\"colab-df-convert\" onclick=\"convertToInteractive('df-73de82d9-1a2a-45b1-897c-efa1aa30d9a6')\"\n",
              "              title=\"Convert this dataframe to an interactive table.\"\n",
              "              style=\"display:none;\">\n",
              "        \n",
              "  <svg xmlns=\"http://www.w3.org/2000/svg\" height=\"24px\"viewBox=\"0 0 24 24\"\n",
              "       width=\"24px\">\n",
              "    <path d=\"M0 0h24v24H0V0z\" fill=\"none\"/>\n",
              "    <path d=\"M18.56 5.44l.94 2.06.94-2.06 2.06-.94-2.06-.94-.94-2.06-.94 2.06-2.06.94zm-11 1L8.5 8.5l.94-2.06 2.06-.94-2.06-.94L8.5 2.5l-.94 2.06-2.06.94zm10 10l.94 2.06.94-2.06 2.06-.94-2.06-.94-.94-2.06-.94 2.06-2.06.94z\"/><path d=\"M17.41 7.96l-1.37-1.37c-.4-.4-.92-.59-1.43-.59-.52 0-1.04.2-1.43.59L10.3 9.45l-7.72 7.72c-.78.78-.78 2.05 0 2.83L4 21.41c.39.39.9.59 1.41.59.51 0 1.02-.2 1.41-.59l7.78-7.78 2.81-2.81c.8-.78.8-2.07 0-2.86zM5.41 20L4 18.59l7.72-7.72 1.47 1.35L5.41 20z\"/>\n",
              "  </svg>\n",
              "      </button>\n",
              "      \n",
              "  <style>\n",
              "    .colab-df-container {\n",
              "      display:flex;\n",
              "      flex-wrap:wrap;\n",
              "      gap: 12px;\n",
              "    }\n",
              "\n",
              "    .colab-df-convert {\n",
              "      background-color: #E8F0FE;\n",
              "      border: none;\n",
              "      border-radius: 50%;\n",
              "      cursor: pointer;\n",
              "      display: none;\n",
              "      fill: #1967D2;\n",
              "      height: 32px;\n",
              "      padding: 0 0 0 0;\n",
              "      width: 32px;\n",
              "    }\n",
              "\n",
              "    .colab-df-convert:hover {\n",
              "      background-color: #E2EBFA;\n",
              "      box-shadow: 0px 1px 2px rgba(60, 64, 67, 0.3), 0px 1px 3px 1px rgba(60, 64, 67, 0.15);\n",
              "      fill: #174EA6;\n",
              "    }\n",
              "\n",
              "    [theme=dark] .colab-df-convert {\n",
              "      background-color: #3B4455;\n",
              "      fill: #D2E3FC;\n",
              "    }\n",
              "\n",
              "    [theme=dark] .colab-df-convert:hover {\n",
              "      background-color: #434B5C;\n",
              "      box-shadow: 0px 1px 3px 1px rgba(0, 0, 0, 0.15);\n",
              "      filter: drop-shadow(0px 1px 2px rgba(0, 0, 0, 0.3));\n",
              "      fill: #FFFFFF;\n",
              "    }\n",
              "  </style>\n",
              "\n",
              "      <script>\n",
              "        const buttonEl =\n",
              "          document.querySelector('#df-73de82d9-1a2a-45b1-897c-efa1aa30d9a6 button.colab-df-convert');\n",
              "        buttonEl.style.display =\n",
              "          google.colab.kernel.accessAllowed ? 'block' : 'none';\n",
              "\n",
              "        async function convertToInteractive(key) {\n",
              "          const element = document.querySelector('#df-73de82d9-1a2a-45b1-897c-efa1aa30d9a6');\n",
              "          const dataTable =\n",
              "            await google.colab.kernel.invokeFunction('convertToInteractive',\n",
              "                                                     [key], {});\n",
              "          if (!dataTable) return;\n",
              "\n",
              "          const docLinkHtml = 'Like what you see? Visit the ' +\n",
              "            '<a target=\"_blank\" href=https://colab.research.google.com/notebooks/data_table.ipynb>data table notebook</a>'\n",
              "            + ' to learn more about interactive tables.';\n",
              "          element.innerHTML = '';\n",
              "          dataTable['output_type'] = 'display_data';\n",
              "          await google.colab.output.renderOutput(dataTable, element);\n",
              "          const docLink = document.createElement('div');\n",
              "          docLink.innerHTML = docLinkHtml;\n",
              "          element.appendChild(docLink);\n",
              "        }\n",
              "      </script>\n",
              "    </div>\n",
              "  </div>\n",
              "  "
            ],
            "text/plain": [
              "   Test Score  Train Score\n",
              "5    0.602779     0.610367\n",
              "6    0.600855     0.623665\n",
              "7    0.597917     0.641287\n",
              "4    0.596835     0.595590\n",
              "8    0.595232     0.662809\n",
              "9    0.593017     0.688016\n",
              "10   0.588431     0.716327\n",
              "11   0.586833     0.742824\n",
              "12   0.582966     0.774812\n",
              "13   0.576319     0.799759\n",
              "14   0.572069     0.824291\n",
              "15   0.571126     0.845587\n",
              "16   0.568329     0.867837\n",
              "17   0.566777     0.882259\n",
              "18   0.560262     0.895503\n",
              "20   0.558633     0.914178\n",
              "19   0.558071     0.905692\n",
              "23    0.55602     0.928727\n",
              "22   0.554954     0.925094\n",
              "39   0.552939     0.937394\n",
              "36   0.552674     0.937877\n",
              "24   0.552319     0.931569\n",
              "28    0.55194     0.936672\n",
              "34   0.551128     0.936641\n",
              "43   0.551022     0.937068\n",
              "27   0.550549     0.936019\n",
              "31   0.550179     0.937258\n",
              "37   0.549731     0.937691\n",
              "21   0.549365     0.922489\n",
              "25   0.549055     0.934062\n",
              "30   0.549048     0.936924\n",
              "38   0.549027     0.937248\n",
              "32   0.548165     0.937626\n",
              "41    0.54815     0.937435\n",
              "42   0.547966     0.937159\n",
              "29    0.54794     0.936325\n",
              "33   0.547742     0.937320\n",
              "35   0.547126     0.937314\n",
              "40   0.547049     0.937218\n",
              "26   0.546361     0.934364\n",
              "3    0.545307     0.544073\n",
              "2     0.46408     0.460795\n",
              "1    0.242658     0.252546"
            ]
          },
          "execution_count": 52,
          "metadata": {},
          "output_type": "execute_result"
        }
      ],
      "source": [
        "# Let's check by sorting our dataframe to find the depth for the best score.\n",
        "sorted_forest = scores_forest.sort_values(by='Test Score', ascending=False)\n",
        "sorted_forest"
      ]
    },
    {
      "cell_type": "code",
      "execution_count": 53,
      "metadata": {
        "id": "iglbsHVQBeK0"
      },
      "outputs": [],
      "source": [
        "# Let's see if we can improve our score by tuning the number of estimators, finding the optimal Max Depth (hyperparameter tuning).\n",
        "\n",
        "# List of estimator values.\n",
        "n_ests = [25, 50, 75, 100, 125, 150, 175, 200, 225, 250]"
      ]
    },
    {
      "cell_type": "code",
      "execution_count": 54,
      "metadata": {
        "id": "3D1dLLlHBeQ7"
      },
      "outputs": [],
      "source": [
        "# Dataframe to store the scores.\n",
        "scores_forest1 = pd.DataFrame(index=n_ests, columns=['Test Score', 'Train Score'])"
      ]
    },
    {
      "cell_type": "code",
      "execution_count": 55,
      "metadata": {
        "id": "YoV0jTNSBegw"
      },
      "outputs": [],
      "source": [
        "# Let's create our loop.\n",
        "for n in n_ests:\n",
        "   model = RandomForestRegressor(max_depth=max(est_depths), n_estimators=n)\n",
        "   model.fit(X_train_processed, y_train)\n",
        "   scores_forest1.loc[n, 'Train Score'] = model.score(X_train_processed, y_train)\n",
        "   scores_forest1.loc[n, 'Test Score'] = model.score(X_test_processed, y_test)"
      ]
    },
    {
      "cell_type": "code",
      "execution_count": 56,
      "metadata": {
        "colab": {
          "base_uri": "https://localhost:8080/",
          "height": 267
        },
        "id": "P0Ymvo21Bp8f",
        "outputId": "40056fb0-01ca-420b-9a06-8c4beeac86b9"
      },
      "outputs": [
        {
          "data": {
            "image/png": "[encoded data removed]",
            "text/plain": [
              "<Figure size 432x288 with 1 Axes>"
            ]
          },
          "metadata": {
            "needs_background": "light"
          },
          "output_type": "display_data"
        }
      ],
      "source": [
        "# Let's plot the results.\n",
        "plt.plot(scores_forest1['Test Score'])\n",
        "plt.xticks(n_ests);"
      ]
    },
    {
      "cell_type": "code",
      "execution_count": 57,
      "metadata": {
        "colab": {
          "base_uri": "https://localhost:8080/",
          "height": 359
        },
        "id": "SEAe0S9eBqEx",
        "outputId": "4d9655c7-3c66-49ab-8970-8768d8abfae8"
      },
      "outputs": [
        {
          "data": {
            "text/html": [
              "\n",
              "  <div id=\"df-d78cb69b-0fab-46af-b3eb-8f7bd1b1c0ff\">\n",
              "    <div class=\"colab-df-container\">\n",
              "      <div>\n",
              "<style scoped>\n",
              "    .dataframe tbody tr th:only-of-type {\n",
              "        vertical-align: middle;\n",
              "    }\n",
              "\n",
              "    .dataframe tbody tr th {\n",
              "        vertical-align: top;\n",
              "    }\n",
              "\n",
              "    .dataframe thead th {\n",
              "        text-align: right;\n",
              "    }\n",
              "</style>\n",
              "<table border=\"1\" class=\"dataframe\">\n",
              "  <thead>\n",
              "    <tr style=\"text-align: right;\">\n",
              "      <th></th>\n",
              "      <th>Test Score</th>\n",
              "      <th>Train Score</th>\n",
              "    </tr>\n",
              "  </thead>\n",
              "  <tbody>\n",
              "    <tr>\n",
              "      <th>100</th>\n",
              "      <td>0.554067</td>\n",
              "      <td>0.936835</td>\n",
              "    </tr>\n",
              "    <tr>\n",
              "      <th>175</th>\n",
              "      <td>0.553817</td>\n",
              "      <td>0.938646</td>\n",
              "    </tr>\n",
              "    <tr>\n",
              "      <th>200</th>\n",
              "      <td>0.552591</td>\n",
              "      <td>0.938261</td>\n",
              "    </tr>\n",
              "    <tr>\n",
              "      <th>150</th>\n",
              "      <td>0.551847</td>\n",
              "      <td>0.938096</td>\n",
              "    </tr>\n",
              "    <tr>\n",
              "      <th>225</th>\n",
              "      <td>0.55073</td>\n",
              "      <td>0.93836</td>\n",
              "    </tr>\n",
              "    <tr>\n",
              "      <th>250</th>\n",
              "      <td>0.549904</td>\n",
              "      <td>0.938344</td>\n",
              "    </tr>\n",
              "    <tr>\n",
              "      <th>75</th>\n",
              "      <td>0.548933</td>\n",
              "      <td>0.936497</td>\n",
              "    </tr>\n",
              "    <tr>\n",
              "      <th>125</th>\n",
              "      <td>0.548178</td>\n",
              "      <td>0.938326</td>\n",
              "    </tr>\n",
              "    <tr>\n",
              "      <th>50</th>\n",
              "      <td>0.543064</td>\n",
              "      <td>0.93454</td>\n",
              "    </tr>\n",
              "    <tr>\n",
              "      <th>25</th>\n",
              "      <td>0.528701</td>\n",
              "      <td>0.930981</td>\n",
              "    </tr>\n",
              "  </tbody>\n",
              "</table>\n",
              "</div>\n",
              "      <button class=\"colab-df-convert\" onclick=\"convertToInteractive('df-d78cb69b-0fab-46af-b3eb-8f7bd1b1c0ff')\"\n",
              "              title=\"Convert this dataframe to an interactive table.\"\n",
              "              style=\"display:none;\">\n",
              "        \n",
              "  <svg xmlns=\"http://www.w3.org/2000/svg\" height=\"24px\"viewBox=\"0 0 24 24\"\n",
              "       width=\"24px\">\n",
              "    <path d=\"M0 0h24v24H0V0z\" fill=\"none\"/>\n",
              "    <path d=\"M18.56 5.44l.94 2.06.94-2.06 2.06-.94-2.06-.94-.94-2.06-.94 2.06-2.06.94zm-11 1L8.5 8.5l.94-2.06 2.06-.94-2.06-.94L8.5 2.5l-.94 2.06-2.06.94zm10 10l.94 2.06.94-2.06 2.06-.94-2.06-.94-.94-2.06-.94 2.06-2.06.94z\"/><path d=\"M17.41 7.96l-1.37-1.37c-.4-.4-.92-.59-1.43-.59-.52 0-1.04.2-1.43.59L10.3 9.45l-7.72 7.72c-.78.78-.78 2.05 0 2.83L4 21.41c.39.39.9.59 1.41.59.51 0 1.02-.2 1.41-.59l7.78-7.78 2.81-2.81c.8-.78.8-2.07 0-2.86zM5.41 20L4 18.59l7.72-7.72 1.47 1.35L5.41 20z\"/>\n",
              "  </svg>\n",
              "      </button>\n",
              "      \n",
              "  <style>\n",
              "    .colab-df-container {\n",
              "      display:flex;\n",
              "      flex-wrap:wrap;\n",
              "      gap: 12px;\n",
              "    }\n",
              "\n",
              "    .colab-df-convert {\n",
              "      background-color: #E8F0FE;\n",
              "      border: none;\n",
              "      border-radius: 50%;\n",
              "      cursor: pointer;\n",
              "      display: none;\n",
              "      fill: #1967D2;\n",
              "      height: 32px;\n",
              "      padding: 0 0 0 0;\n",
              "      width: 32px;\n",
              "    }\n",
              "\n",
              "    .colab-df-convert:hover {\n",
              "      background-color: #E2EBFA;\n",
              "      box-shadow: 0px 1px 2px rgba(60, 64, 67, 0.3), 0px 1px 3px 1px rgba(60, 64, 67, 0.15);\n",
              "      fill: #174EA6;\n",
              "    }\n",
              "\n",
              "    [theme=dark] .colab-df-convert {\n",
              "      background-color: #3B4455;\n",
              "      fill: #D2E3FC;\n",
              "    }\n",
              "\n",
              "    [theme=dark] .colab-df-convert:hover {\n",
              "      background-color: #434B5C;\n",
              "      box-shadow: 0px 1px 3px 1px rgba(0, 0, 0, 0.15);\n",
              "      filter: drop-shadow(0px 1px 2px rgba(0, 0, 0, 0.3));\n",
              "      fill: #FFFFFF;\n",
              "    }\n",
              "  </style>\n",
              "\n",
              "      <script>\n",
              "        const buttonEl =\n",
              "          document.querySelector('#df-d78cb69b-0fab-46af-b3eb-8f7bd1b1c0ff button.colab-df-convert');\n",
              "        buttonEl.style.display =\n",
              "          google.colab.kernel.accessAllowed ? 'block' : 'none';\n",
              "\n",
              "        async function convertToInteractive(key) {\n",
              "          const element = document.querySelector('#df-d78cb69b-0fab-46af-b3eb-8f7bd1b1c0ff');\n",
              "          const dataTable =\n",
              "            await google.colab.kernel.invokeFunction('convertToInteractive',\n",
              "                                                     [key], {});\n",
              "          if (!dataTable) return;\n",
              "\n",
              "          const docLinkHtml = 'Like what you see? Visit the ' +\n",
              "            '<a target=\"_blank\" href=https://colab.research.google.com/notebooks/data_table.ipynb>data table notebook</a>'\n",
              "            + ' to learn more about interactive tables.';\n",
              "          element.innerHTML = '';\n",
              "          dataTable['output_type'] = 'display_data';\n",
              "          await google.colab.output.renderOutput(dataTable, element);\n",
              "          const docLink = document.createElement('div');\n",
              "          docLink.innerHTML = docLinkHtml;\n",
              "          element.appendChild(docLink);\n",
              "        }\n",
              "      </script>\n",
              "    </div>\n",
              "  </div>\n",
              "  "
            ],
            "text/plain": [
              "    Test Score Train Score\n",
              "100   0.554067    0.936835\n",
              "175   0.553817    0.938646\n",
              "200   0.552591    0.938261\n",
              "150   0.551847    0.938096\n",
              "225    0.55073     0.93836\n",
              "250   0.549904    0.938344\n",
              "75    0.548933    0.936497\n",
              "125   0.548178    0.938326\n",
              "50    0.543064     0.93454\n",
              "25    0.528701    0.930981"
            ]
          },
          "execution_count": 57,
          "metadata": {},
          "output_type": "execute_result"
        }
      ],
      "source": [
        "# Let's sort the scores dataframe by 'Test Score'.\n",
        "sorted_scores_forest1 = scores_forest1.sort_values(by='Test Score', ascending=False)\n",
        "sorted_scores_forest1"
      ]
    },
    {
      "cell_type": "code",
      "execution_count": 58,
      "metadata": {
        "colab": {
          "base_uri": "https://localhost:8080/"
        },
        "id": "yWI6Gd34BqLs",
        "outputId": "95a2198e-27f5-4e11-e147-695a218bb9d1"
      },
      "outputs": [
        {
          "name": "stdout",
          "output_type": "stream",
          "text": [
            "0.94\n",
            "0.56\n"
          ]
        }
      ],
      "source": [
        "# Let's run the model with our optimized value for Max Depth.\n",
        "forest_tree_250 = RandomForestRegressor(max_depth=250, random_state=42)\n",
        "forest_tree_250.fit(X_train_processed, y_train)\n",
        "train_250_score_forest = forest_tree_250.score(X_train_processed, y_train)\n",
        "test_250_score_forest = forest_tree_250.score(X_test_processed, y_test)\n",
        "print(train_250_score_forest.round(2))\n",
        "print(test_250_score_forest.round(2))"
      ]
    },
    {
      "cell_type": "code",
      "execution_count": 59,
      "metadata": {
        "colab": {
          "base_uri": "https://localhost:8080/"
        },
        "id": "4dotO7wRBqT2",
        "outputId": "6bad5943-74d7-4336-a683-6678e9d4325e"
      },
      "outputs": [
        {
          "name": "stdout",
          "output_type": "stream",
          "text": [
            "\u001b[1mMetrics from training set:\u001b[0;0m\n",
            "MSE: 185,754.36 \n",
            "RMSE: 430.99 \n",
            "R^2: 0.94\n",
            "\n",
            "\u001b[1mMetrics from testing set:\u001b[0;0m\n",
            "MSE: 1,222,180.38 \n",
            "RMSE: 1,105.52 \n",
            "R^2: 0.56\n"
          ]
        }
      ],
      "source": [
        "# Let's call again 'evaluate_regression' function to to compare the results.\n",
        "print('\\033[1mMetrics from training set:\\033[0;0m')\n",
        "evaluate_regression(y_train, rf.predict(X_train_processed))\n",
        "print('\\n\\033[1mMetrics from testing set:\\033[0;0m')\n",
        "evaluate_regression(y_test, rf.predict(X_test_processed))"
      ]
    },
    {
      "cell_type": "markdown",
      "metadata": {
        "id": "yIzacvp4Xmw_"
      },
      "source": [
        "*Notes:*\n",
        "- After tuning the model we didn't improve our model."
      ]
    },
    {
      "cell_type": "markdown",
      "metadata": {
        "id": "Uak8u1dAN6-9"
      },
      "source": [
        "##Section 8: Conclusions"
      ]
    },
    {
      "cell_type": "markdown",
      "metadata": {
        "id": "AAKyDpkNHjez"
      },
      "source": [
        "- Let's display a summary table to display the results:\n",
        "\n",
        "![1.png](data:image/png;base64,iVBORw0KGgoAAAANSUhEUgAAAkgAAAEdCAIAAAB41w8hAAAAAXNSR0IArs4c6QAAAARnQU1BAACxjwv8YQUAAAAJcEhZcwAADsMAAA7DAcdvqGQAACEpSURBVHhe7d1vTxxXgu/xw74AXsF47Kgb+4ogZLDEg7Yd3ygWCUSRoxhxI1uOzcZpdtnZNA/MjD2D5npXeMLYftBkd9HA/MFOZMtr4chWZEi4npvxhvAAKWAhYl0b0MbjeQX9BrjnVJ36001VdTV0Q/fh+xEiXaf+NNTxqV/VOadD3fr6ugAAwBR/p/8LAIARCDYAgFEINgCAUQg2AIBRCDYAgFEINgCAUQg2AIBRCDYAgFEINgCAUQg2AIBRCDYAgFEINgCAUfifIJugrq5OvwJQeYGXTZphpcVPK57YAABG4YnNBPat4tPVv9mLqBWNyZ9Qa7VFVpn8HvHE9uxFzl5EGR3YWy+/88QGANilCDYAgFEINgCAUQg2AIBRCDYAgFEINgCAUQg2AIBRCDYAgFEINgCAUQg2AIBRCDYAgFEINgCAUQg2AIBRCDYAgFEINgCAUQg2AIBRCDYAgFEINgCAUQg2AAG+HfxJ4+A3egHV7b8u1R/Yq75+bdVYweIuRLDtOuqC1f2Hv+ol24+fd+/AVUz9JEnv6/SNH/WKqrAz56Qk1X0Co/z1xgn/T96YPPH5C70KNjec9Nd7o74ztHbzvfoDl2b00o+jo7fbfvk49+xF7l9f37C4KxFs2FGtl79a/dtT+fXny2LoSA1dmqtF7Z5A9ydXXw/O7NXFlfL4F7UXn4eGZ16ofHr2YvGX4mL73uM3g6r3xf/9YlG8+sq+4MXdiWCDtO/M3b89HdrRu7u95//hfbE49Sj/UXIHVcE5KUnVnUCUUeLsF4u/PDT/mzH7KU0u5p590m69RgCCDYp/QEW+ljf+XjdXfnecr/vrF9/qMumby7owr58z71AldusVfyPry35GCXyj4CO8+MNpZ9/Lj3VZYKHa3fcz5/We+crz3jp/1Y6KUSMbftqI3yL61/fWWu/lLZZ+NmKdZ6fc+4Ejq1gd88NbQnz/yRteYa1JnP3nHnH7qv3QpjoqVVek6pNs/5d5ISY+Ut2VmV/nLereS1+vZua/rBJJFr7/pzW9yunVLL6lb2Nb2C4bC7cTwYYAi0NHfpectTu4Wu6ckRcUu1xeR3rF53b30dj7t3r1FfPHz7uziT/bfUqzl8Tlt3zXI+9Q0U8/j3/Re0d0/9P5n1pLIW8kL9ZnVgato61+3i1Ey+DsrXO6z6XgjUKP8Mblhj/aP+rn4j8iCvPIK+NbQ/9jzDqaeus7Z/zX3LDTta3yTmC8GtlYuXdO27/jmDgjj+Yq+uu/tdqvD7hw+a3kT7zFO2dKSpG457nEKv7puQdP/3haiEOXrHNy+Zjarva8cqBFzK/9t16yqEe3mf/dJkTP71/knn0x8q95i317rYz5SExa/Zm535+a+Mg3Vrf4Ly2jDYtqlfXwF2vLx8Mtt7tkztnlapdnTn/pDTFqlUccZ9sQbAjy/uc6MOwOrlWrMb34w+/uHLr0kc6nox/Jq9iXj9W/2X1n7rpjJPv27Rfi+ZqXDa2XP3GyJ4B1HVQ31x/+P3nR0VecsDd6sbYiDr31un20199wfzCb/42ijuB6/fJdKwYCC/N886eh77v/+NujevH1y/IqeSfrDdgEnq7tEXgCo2sk+Kf95s935I3CP9q/49EhGRXWK6X4r6/vWqwDFize/T9eMuVxf3L55WRSkTfadBXvWvZEkl7dafla73DL91/8xb3vOjT8279P6NfRW56avGNvua+v75RYXLGCTe0i/tc/q/hUXh9R20QfZ7sQbIjtx5VFpzNHfb1xeVGvkLyOL/+dvrI/EXVl0TMIZi+1fv/JgPOoFPZGexMN4vuvvrFbiXUhTr5ivbb43yj0CNal9kNZ6JtHEFjoZwVqwrmiKvsaWsT3a9veXAMEnkAlvEYCWXnQEDjloEK/vn/yiHeHEflGm65ic7QlfP/ki/vvZ4ti/jfHnI7BYxd9bVaIA0lvyk70loHULht+nk0cpwIINpREd+Y4X/Zjgb+H0H+nH9++M/90Wt7C/8nrtgp8o1cSrao/yrqWnbnrPnkECzyCehaRi2PvW9dE/aAQXFhTCk7g1mukJpRQxSZQmbGJ6Y566r/z9ehs6BHibxmtXMfZPIINsYXdpz/+6q7XQ7hZx/7xUqvTbRX2Ri8efbWgB4HUV8SgXbFHCnXtswaEfFEaXOjIP5p6XDj9RlUN1fhP4CZqRD0NR9i2Xz/2G5VaxWr7mrZ2898mxKm3X9OL8QQMy4WIv6UrcJdNHKcCCDbEtvf4W/LS6c2tkI8F1lQ0/yXGmsKwKfuOdR4Sd75SBwx7I+VWr9PDJr9Cp2mEHeHxL7zJCOqiaXV8BRb66d4t92f45vKHt8T7bzlDQVXCdwI3UyNqzNL9Ha2JJNYradt+/ZLeqKQq1qKCsLqt3Xyv5Tff9/y+1Cn++97sOCT+89/c6Rszvw6bphh/S1fBLt9k1ITJTRynAgi2Xck/bu+fJ13EvjN3rSl2esds4s/WOP/e858MHrJGNX7S+KG4NHjI3rpUP339nRZx63cqq8LeSD5V+HqfrI8kh0y6CznCsd+OiTNWifxRb3X/0eq8CizMJ2//1bw7exu7ly/ieXGHeCdwUzVydGj2Uqv+HX+XnP3Kt9e2/fqlvFEpVSx5Y2+1M93/+4vt9kjV3pbfHJh89mKktMc1xfoAnPpwt32cq4nHYQeJv6Urf5dzwsrdTRyn/OrW19f1S9Ssuro6+V1e6+1FU6m54FPvfOXNc9MjSZEjbVVNXmSNrzXDyCqT3wMvm3YzfPYiZy+ijGRGyu/x04onNtQU/QED5a83smUY2wNgHJ7YTLBLntikvLEf1S0Z0G1YQ3hiqzk8se2IUp/YCDYT7J5gMwzBVnMIth1BVyQAYFcj2AAARiHYAABGIdgAAEYh2AAARiHYAABGIdgAAEYh2AAARiHYAABGIdgAAEYh2AAARiHYAABGIdgAAEYh2AAARiHYAABGifv32Ow/NQQAiPh7bKgc/h4bAGCXKu2J7cnCgr1Yiw62tuZyxv5x2/r6+vi3M6gSsllRa7XFvhJGPLFRoZVQ6rnliQ0AYBSCDQBgFIINAGAUgg0AYBSCDQBgFIINAGAUgg0AYBSCDQBgFIINAGAUgg0AYBSCDQBgFIINAGAUgg0AYBSCDQBgFIINAGAUgg0AYBSCDQBgFIINAGAUgg0AYBSCLY6ZTH2gzIzeII610eMl7gEAKB3BFkf7SE6b7BGiZ1Iv5Eba9QYoanXkcJ2jd1oX5pnu1atth0dW9QrJv7e3IuSYwRujjIrXZl59BtSCvZbqKZcYNRLYLvyFDmdlUA1GbV9FCLZtk+h7tHujcLq3oV9kV9aVqfR4Z1hTSE9ZmyjfZZK6ULalhv4md42zIuSYqyNn73bbpbJ4rv9s9bW6WhejNuU1sXNZb7KSFf0N+Rfb1ZGh8VQqpZewVTFqJKRdJDPf2WW2lWxKpLrfli0spAZDt68uBNtWzWTqj4+u6c5K3dPo67qU66wiSZU6XZF5e0lmd1Fal7HsTR1IHQPZ1Nzdh7HjZvpa/1x6aqxDL2qhx5Qtz83EjnfTYu7pir2A8ohTm9P3x0V6UG+SzAymxfh9/yP1WXkZHuzWi9iiWO0rVruw2ppVb9E16PC2rzIEWxnMX2y5emDR6ZtcGz2ul3K5xWFxsSUktLy9FofbJrp8CWicladzomm/+68/ub+phLixWti7BbEW75iqwQfti63YRG02NKbE8nPnUiuvhkJehhv0Iraq1BoJaxcR7SW/BrUqbl8EWzm0DY/1JfRr1eX4yFlKJF8V4ofV4MjqmdTbJfp+3iPmnxkbbKvPl/UrLbCVWMY7C7vt1c4pcb9wdCDqmO4wgNWBWfioh62JVZuqbHzI7Q9TV16HuhpW5U1+zYrbvoq1i9WHd+dS2QG7PKIGHXnbVxmCrRxeTbqxZvG6GLsmdBGK6hjT/fa6T98bJ5hbbryp18QZNfOGAaaEDMqwyQ2oHFkFqqYa7Atp3dCyM5xm90JW58XQdEXaRX63YmgNuqq2G1Ih2MpOplrXD8O6L1LNotz1VNdInoKuk42sPn3fOIG3sTM6EO+YHWNTwWMD2LS4tem7T1kfbNKb6F7IiKpHcf6ZiTKeSm9fAe0ioFsxsAYdVdwNqRBs5TbzcEK0vfdm/iPcLlfQNWL1LjYWH2KxGpLVagP6VTZ5TGxZ6WfeHSZVL9yngIb+OXuBR+oSeY9e61aPYhnagnr8iuhW3DDQXWT7HUewlVviQJs7XjaToStSSb7dnZrrv6avX74uDOvW0+5ynO71XeCmezvdhmQ9ozkPb959Ytgx5SG9Pswqv62sTXFq009Vpr4G+p8B7Jniaj45o6BbFKdGotuFCq7wWfu+GtSit68CBFu5JfrG1CRHe4RNDA+36fJdzeqwdyaGqE/HbLyWdQxkl/UG9ibu9a5jzBpys1b4hr1DjpnMDDa5IwPMHqmEGLUpr4X2aklt4X0oERUQo0ai2oWdcwXDZRE1GLh9damTd076ZST528nvTxYW7MVadLC1NZfL6QXjyBiNWZWoHrJZUWu1xb4SBtZaxCpsUannlic2AIBRCDYAgFEINgCAUQg2AIBRCDYAgFEINgCAUQg2AIBRCDYAgFEINgCAUQg2AIBRCDYAgFEINgCAUQg2AIBRCDYAgFG2L9hmr7QebPW+Prj9Uq/QXt46J8vP3cornh3ydilYBQBAgO19Ymu+8OXCwhP59eCCuH4iL9tefvv10smuk0vXPpvVJSrqPhafWtsvPBhoXrp24oq7DgCAQDvUFbnnVPqkWJr51k222c+uL508NnjspLj32EmvPadvLAwecV6fPynEvb+QbACASNUxxvby9vi95oEPjogjHww03xsv7KW07H2lWTS/slcvAQAQaIeCbfbKz+6JrvOn9thL8nGtuf01tbDntfbmpeted6Tr5bczS6Jhr70DAAAh6tbX1/XLSHV1dfL7k4UFe3ETZq+0yjBzNA88uHFap9TsUKsaS3N6HdXi8wsPPtOpZwssLM3B1lb53f597V/HpNf24ub25TWveR3/tbtYwF0rlXpMXke/ttklcWxvsK1c+PKGjKaXt86duCbs13GUun0wGWy5XE4vGKe+vj5+raNKyGZFrdUW/zW3QMQqbFGp53ZHuiKtmSBL12/Gmwkye+XEtaWT/761VAMA7BI7NMamJomISXf+Y7iXt8/97F7zwINf6X5KAAAi7dSsSDVJxDezP5hMtXeuC99oHAAARezYdP89R1WyBc/s12ZvXl8SYunaCfd/PtJ68FzUDgAAbN/kkR3H5BFUGyaP1Bwmj+yImpg8AgBApRBsAACjEGwAAKMQbAAAoxBsAACjEGwAAKMQbAAAoxBsAACjEGwAAKMQbAAAoxBsAACjEGwAAKMQbAAAoxBsAACjEGwlmcnUB8rM6A0AADuMYCtJ+0hOm+wRomdSL+RG2vUGsamIPD66ppd2gdWRw3WO3mldmGe6V6+2HR5Z1Ssk/97+FYHlxd8KW1SZ2sRmxPnnHrZN+L6BdRTnraoDwYbtMN3b0C+yK+vKVHq8M+xylp6yNlG+yyR1oWxODf1N7hp3RXC5fKung3bJSjYV/lbYtIrUJjYlTl2EbRO6b+23LIKtnHw9lb7OybXR47pQl6qCrgkh5i+2eIUmWx0ZGk9lb+pLWMdANjV392HsRjF9rX8uPTXWoRddIeUdY+tOWTIzmBZzT1fsJZRHZWoTmxGnLsK2Cd/XgJZFsJWNTLUuoTsnJ3smunRH40ym5eKrTrG4qgoTfY+srsy24UVVWno/Zq1ZeTonmvbbDUhK7m8qoVFM3x8X6Xc3XgjDylFhFalNbEqcugjbJnRfE+qIYCuTtdGrE23DH+uMav94uG3+i69liK2t/mAXKe0jj/oS+vUusvp8Wb/SGhpTYvl50E3+eKfuwfd6ReTOKXF/Q4d/WLmfuiflMlpmFalNbEqcugjbJnTfOHVU9S2LYCuTtWfzTtei0nJx3i5P9P28R0x0yaJdNVVkMzrG7P57aSUr+hu89jS33HhTr5lKz/WfdVaEldtWR87S67VjSq9NVI+ab1kEWxnprkWHfjqzZ1JO9lixtyvTTXVy5CnoBNnI7sL3Rgu8jTve9ffth5VLemCcWCu3ytUmShWnLsK2id43oo5qomURbGWSONAm5p+Fp5aKt8XhtvmLn9pTRdT2u0ZBB4nV19HYoJfCWY3Lan8BPV1h5Zbp3rrO8fQUM+4qoRK1ic2JUxdh24SVG9GyCLYySbz5XpuYsOaGWGYy9mxH57+K6q5sO+ANskUFoVGSb3en5vqv6Q++WHOuBq2WYX0uxu6kki3G+2TMdG+n24Vv3TE6t/u+vv2wcqftuTO4UF4VqU1sSpy6CNsmdF8TWhbBVi6JvkeLw8IdZbt6YNGa7dg+MinUCJvSNdEz6cwe8cbedsF0f5HMfKc+J2OPRXcuB/VjdAxkl525BtYmbvPpGLMGaawV1qdr9Irgcqsh+uYtSN7wDsqhIrWJTYlRF6HbhO5rQMuqW19f1y8jyV9Cfn+ysGAv1qKDra25XE4vGEcGZMyqRPWQzYpaqy32lTCw1iJWYYtKPbc8sQEAjEKwAQCMQrABAIxCsAEAjEKwAQCMQrABAIxCsAEAjEKwAQCMQrABAIxCsAEAjEKwAQCMQrABAIxCsAEAjEKwAQCMQrABAIxCsAEAjEKwAQCMQrABAIwS9y/T23+ZGwAQeNnkIllpMdNK4okNAGCU0p7Yniws2Iu16GBray6X0wvGqa+vj387gyohmxW1VlvsK2HEExsVWgmlnlue2AAARiHYAABGIdgAAEYh2AAARiHYAABGIdgAAEYh2AAARiHYAABGIdgAAEYh2AAARiHYAABGIdgAAEYh2AAARiHYAABGIdgAAEYh2AAARiHYAABGIdgAAEYh2AAARiHY4pjJ1AfKzOgN4lgbPV7iHgCA0hFscbSP5LTJHiF6JvVCbqRdb4AA0711dXW903opWPg21pq6wyOrelmI1ZHDqsgSflj/Vt7e9tFsRX4kbLChLoJPshSnjnx1kbdvWDnC+c+3wzl5YXUR7zwXbUfVXUcE27ZJ9D3aPVGoGkDnuF4IEbXN6sjQeCqV0kvKdG9Dv8iurCtT6fHOwHYlW2NDf9OUtZH0XSapSzvH07o0dF+E2FAXqyNn73bbNSFP51z/Wed0xqgjWemdy3qTlazob9CX3LByREpmvrNOmbaSTYlU99vqX31IXcQ7z8HtqJbqiGDbqplM/fHRNd1ZqXsafV2Xcp1VJKlSpysyby/JrC7K6d7O8VR2ZSqtl4NEbSOvnLJRDnbrRcm6uGZv2g1MdAxkU3N3H268al7rn0tPjXXoRcfK0zmRfleXdrybFnNPV+wFFLWxLtTVVF/q8k5nnDqavj8u0oN6k2RmMC3G76urY1g5SmH9+7fOYlhdxDvPwe2opuqIYCuD+YstVw8sOn2Ta6PH9VIutzgsLraEhJa31+Jw20SXLwFrXseYe5cXKmIb2a6EbJQNelFR2dS03906ub8pIJ2slucEmE9DY0qMD9l3rKrFB26EQAF14ec/nbHqKJ+qmeXnG25QQssRYRN1EXyew9pRvuquI4KtHNqGx/oS+rXqcnzkLCWSrwrxw2pwZPVM6u0SfT/vEfPPzAm2LVHt070x1FafL+tXWlCrUhulxP2NQwPyCcPqOVFlDaoTbcMzHYIF1YXiDsBYHVb26YxVR6rMuceQ1PXXElaO2FYf3p1LZQei6yLOeQ5rRzVVRwRbObyadGPN4nUxdk3oIsRj93zZzXMT5pYbb1pjAGpgwRv9UY1eiHQ2mxJzDN/EFV4X3tDOlOgsZTqO3FHVi3WPIQ0t66G7sHLE5XVDRol7noPaUU3VEcFWdjLVun4Y1n2RahYl4tM9X4XNU3Wl5CnoavF4he7ojzsSPpZR12Nmj8QUUhf5Osam9FhL3DpSfdCOwSZvk7ByxFDQwx5VF/HOs1fqH5SunToi2Mpt5uGEaHvvzfxHOMSjevfde8KG/jl7QT4QOF0pmtVb0lgw8GO15oBef9WofUMGzB6JJ7QuwsSpo3xhgznxBnngUo9rTjekJV5dBJ/nsHaUr8rriGArt8SBNne8bCZDV6SfmuAf+bDkvyO05y6r2cVjHSL5dndqrv+avqr6ul2s0R59TCuynIl43j2sNTbgzt+yyotccCGF1oU85V4l+h4VYtWRjz0vdmNPZ1g5wqiQ0bP8tdC68Mk7zzHakV/V1xHBVm6JvjE1ydEeYRPDw226fDdRASapD6mNd6pXAWkWZxsfq4Pf3lDutJxdCZoA0jHmThLxTWvI21WWi+xKsSmbiJDMDDY5T3K+0xyvjnS1K2oLtyLCylGUHT0FuRVWF7HOc3A7qqk6qpN3Y/plJPm7yO9PFhbsxVp0sLU1l8vpBePIGI1ZlTtHNoyhRq5ZPrJZVX2tIY99JQystYhV2KJSzy1PbNgm8sZyuehcBADYMoIN2yTp+/9VAEDlEGwAAKMQbAAAoxBsAACjEGwAAKMQbAAAoxBsAACjEGwAAKMQbAAAoxBsAACjEGwAAKMQbAAAoxBsAACjVCTYZq+0Hmz1vj64/VKvEOLl7XNW4ZVZXeD38ta5gu11ScEuBceXX0NBhwMA7EIVe2JrvvDlwsIT+fXggrh+wp9torm5Wdwb95fYZj+7tqTWOWSqnbgmnON8Kn52zrePe3zra/CILgYA7HKV74rccyp9UizNfOvLsfb0heb8EunlrT/ca75w/k29KAu+/XpJdJ0/tcdePPKrJzec1wAAhNiZMba9R9ubl67f9PcfqhhrfvPoXr0o7fnpfiEmH9PJCAAoQeWDbfbKz+75Hrxse46+2ZwXWrOfXV86ef503kZHzl5oFvc+DhmQAwAgQN36+rp+Gamurk5+f7KwYC9Gm73SKsPM0Tzw4IabWC9vn3tnpv3LG6f2zF45+PGKs2p2qPVj8enC4BE1rvZ1+4PP3Bx8efuDE9eX1KuT/77wK3soLf/4cs2nT/SaKAdbW+V3+/e1fx2TXtuLm9uX17zmdfzX7mIBd61U6jF5Hf3aZpfEUbFgW7mg0sudAOIMj3nBZoXZ8wsqw3yFG4LNpuNNZ5vv+CWQwZbL5fSCcerr6+PXOqqEbFbUWm3xX3MLRKzCFpV6bivdFbnn9PmTomA4TVM9jUvXP5sVszevLzW3H41KqT2nPnug+iX/QqckACBS5cfYjnwwkD+c5tpztF1l1ZXHk+JkurSnLwAAgm3DrMg9r6n8Ck42NYXk3j1x8ljAENnslYO+D66p2SXi5P/k82oAgEjbMd3ffjIL+ES23VEpmgc+CMqrI7/6sn3mHef/LaIG1ZzJI8rSdXeV/Mr7ADgAYBeryOSR6iTzj8kjqCpMHqk5TB7ZEdU2eQQAgG1FsAEAjEKwAQCMQrABAIxCsAEAjEKwAQCMQrABAIxCsAEAjEKwAQCMQrABAIxCsAEAjEKwAQCMQrABAIxCsAEAjEKwlWQmUx8oM6M3AADsMIKtJO0jOW2yR4ieSb2QG2nXG8SmIvL46JpeMtJ0b11dXe+0XtpodeSw3MDm38zaz3Z4ZFUX5m/uL88Tsq+/POpHQtFaU4K2Ca5N/3mXgust7B9CWDliCKvHIvVb5Jzb9Rna/KoHwYZKUA2gc1wvBJrubegX2ZV1ZSo93qkbi9yxc1kXr2RFf4NuXasjZ+9228Vy87n+swFtK3zfw53j6Smr3P9eKFC81sK2CalNi3Pmpe8ySV3okbs+HbRXr2RT3q5h5SgqrB6L1m+Rc746MjSeSqX0UlUj2MrJ11Pp65xcGz2uC3WpKuiaEGL+YotXaJLp3s7xVHZlKq2XN7KaSPamvs51DGRTc3cfykY0fX9cpAd1cTIzmBbj9610Sma+c6+KHe+mxdzTFXvBE7rvytM5kX63wyoP2xkxai1sm7DajKVjbH1M141VaU7lhJWjiLB6jFG/kedc3lvKm5fBbr1Y3Qi2spGp1iV05+Rkz0SX7micybRcfNUpFldVYaLvkdWV2Ta8qEpL78esdrJ9BN6ce1TWNO13t0jubwq8cDU0psTy84JLpLqMekEVyttXvRofsm8+Y+68GxWvtbBtYtYmtkVYPcap3wjT12Ss3cw06MUqR7CVydro1Ym24Y91RrV/PNw2/8XXMsTWVn+wi5T2kUd9Cf16V1t9vqxfaU4K+TNIUldMh9v739DfNOXeWPqE7iuf9qyeSWtn1aEZsDM2L7Q2beOdVrXFGJoJu+vgbmT7FZxzteh2h9QAgq1M1p7NO12LSsvFebs80ffzHjHRJYsMnypSHjKD1AialUHS0LLXoS9X2b3/61NCXio3jmxH7Lv68K5MuXQ2mxJyg/Chc5SZekrQrHuLqGxTXV1z6akNdx1h5aicgnNu90IO1FANEGxlpLsWHfrpzJ5JOdljxR7pZlGdVXl8nVm+a+H6YFNeH5fWMTbljp/lC9xXPupZD3nrYxmVjcweKbeo2vTYgzahY296+smG+Aorh60SU0cLz7nuhayZxzWJYCuTxIE2Mf8sPLVUvC0Ot81f/NSeKqK238XyO6uszqxU44bue2s6yCZ7oLx91WXWdxRmj5RdvNq0bLxNUdR81vH01IYRoLByuLyODHnnVo7033jOVVNye0Ia+ufsheru9yDYyiTx5nttYsKaG2KZydizHZ3/Kqq7su2AN8gWFYRGUtON7Yel5Nvdqbn+a7ptyDvCuY0d+PYsLrv/Q96Xek9Z/u5/64Z14wOYf19r7M19vrN2DrvsIoBXa2HCalPu6V3+VJUE1pq+km64LIeVo6yK14W/H0R9DECk1Ac7qrtaCLZySfQ9WhwW7ijb1QOL1mzH9pFJoUbYlK6Jnkln9og39mbkdH/r5k59ZMaeObDxumgNiDnTCtSnz3Q70bsqqtS5b0xmBpvc0bOw2SOh+/reSu4svFXwiVFrYduE1GbHQHbZOe9WcUCtWTcavhkmknXMsHIUE1aPxevXoHNeJzNYv4wkf0X5/cnCgr1Yiw62tuZyOb1gHBmQMaty58iWNdRIqPjIZkWt1Rb7ShhYaxGrsEWlnlue2LBN5O3gco2NQINaQ03iic0QtfDEhkK18MSGPDyx7Qie2AAAuxrBBgAwCsEGADAKwQYAMArBBgAwCsEGADAKwQYAMArBBgAwCsEGADAKwQYAMArBBgAwCsEGADAKwQYAMArBBgAwCsEGADAKwQYAMEppf2gUABDxh0ZROfyhUQDALsVfpgcAGIUnNgCAUQg2AIBRCDYAgFEINgCAUQg2AIBRCDYAgFEINgCAUQg2AIBRCDYAgEGE+P9gIh8ZoehtpAAAAABJRU5ErkJggg==)\n",
        "\n",
        "- According to this, our Random Forest model is more able to explain how much variance we have, but both models could predict about 56% of the sales.\n",
        "- About RMSE, the train set from our second model indicates less difference which is good.\n",
        "- For those reasons, we recommend considering the Random Forest model."
      ]
    }
  ],
  "metadata": {
    "colab": {
      "include_colab_link": true,
      "provenance": []
    },
    "kernelspec": {
      "display_name": "Python 3",
      "name": "python3"
    },
    "language_info": {
      "name": "python"
    }
  },
  "nbformat": 4,
  "nbformat_minor": 0
}
