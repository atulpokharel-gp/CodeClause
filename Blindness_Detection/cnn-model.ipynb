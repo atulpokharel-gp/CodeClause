{
 "cells": [
  {
   "cell_type": "code",
   "execution_count": 1,
   "id": "688bdb1c",
   "metadata": {
    "execution": {
     "iopub.execute_input": "2022-12-27T07:14:26.215291Z",
     "iopub.status.busy": "2022-12-27T07:14:26.214200Z",
     "iopub.status.idle": "2022-12-27T07:14:33.335476Z",
     "shell.execute_reply": "2022-12-27T07:14:33.334528Z"
    },
    "papermill": {
     "duration": 7.134276,
     "end_time": "2022-12-27T07:14:33.338185",
     "exception": false,
     "start_time": "2022-12-27T07:14:26.203909",
     "status": "completed"
    },
    "tags": []
   },
   "outputs": [],
   "source": [
    "\n",
    "import numpy as np \n",
    "import pandas as pd \n",
    "import cv2\n",
    "import os\n",
    "from zipfile import ZipFile\n",
    "from tqdm import tqdm\n",
    "import matplotlib.pyplot as plt\n",
    "from keras.preprocessing.image import img_to_array\n",
    "from keras.utils import np_utils\n",
    "from keras.layers import Conv2D, MaxPooling2D, Flatten, Dense, Dropout\n",
    "from keras.models import Sequential\n",
    "\n"
   ]
  },
  {
   "cell_type": "code",
   "execution_count": 2,
   "id": "a2867d6c",
   "metadata": {
    "execution": {
     "iopub.execute_input": "2022-12-27T07:14:33.352660Z",
     "iopub.status.busy": "2022-12-27T07:14:33.351713Z",
     "iopub.status.idle": "2022-12-27T07:14:33.356013Z",
     "shell.execute_reply": "2022-12-27T07:14:33.355252Z"
    },
    "papermill": {
     "duration": 0.013812,
     "end_time": "2022-12-27T07:14:33.358163",
     "exception": false,
     "start_time": "2022-12-27T07:14:33.344351",
     "status": "completed"
    },
    "tags": []
   },
   "outputs": [],
   "source": [
    "dataset = []\n",
    "labels = []"
   ]
  },
  {
   "cell_type": "code",
   "execution_count": 3,
   "id": "67beb4cd",
   "metadata": {
    "execution": {
     "iopub.execute_input": "2022-12-27T07:14:33.372045Z",
     "iopub.status.busy": "2022-12-27T07:14:33.371377Z",
     "iopub.status.idle": "2022-12-27T07:14:33.377633Z",
     "shell.execute_reply": "2022-12-27T07:14:33.376765Z"
    },
    "papermill": {
     "duration": 0.015877,
     "end_time": "2022-12-27T07:14:33.380018",
     "exception": false,
     "start_time": "2022-12-27T07:14:33.364141",
     "status": "completed"
    },
    "tags": []
   },
   "outputs": [],
   "source": [
    "def prepare_Images(label,path):\n",
    "    img=cv2.imread(path,cv2.IMREAD_COLOR)\n",
    "    img_res=cv2.resize(img,(224,224))\n",
    "    img_array = img_to_array(img_res)\n",
    "    img_array = img_array/255.0\n",
    "    dataset.append(img_array)\n",
    "    labels.append(str(label))"
   ]
  },
  {
   "cell_type": "code",
   "execution_count": 4,
   "id": "6d1f159a",
   "metadata": {
    "execution": {
     "iopub.execute_input": "2022-12-27T07:14:33.393999Z",
     "iopub.status.busy": "2022-12-27T07:14:33.393336Z",
     "iopub.status.idle": "2022-12-27T07:14:33.429164Z",
     "shell.execute_reply": "2022-12-27T07:14:33.428107Z"
    },
    "papermill": {
     "duration": 0.04645,
     "end_time": "2022-12-27T07:14:33.432562",
     "exception": false,
     "start_time": "2022-12-27T07:14:33.386112",
     "status": "completed"
    },
    "tags": []
   },
   "outputs": [
    {
     "data": {
      "text/html": [
       "<div>\n",
       "<style scoped>\n",
       "    .dataframe tbody tr th:only-of-type {\n",
       "        vertical-align: middle;\n",
       "    }\n",
       "\n",
       "    .dataframe tbody tr th {\n",
       "        vertical-align: top;\n",
       "    }\n",
       "\n",
       "    .dataframe thead th {\n",
       "        text-align: right;\n",
       "    }\n",
       "</style>\n",
       "<table border=\"1\" class=\"dataframe\">\n",
       "  <thead>\n",
       "    <tr style=\"text-align: right;\">\n",
       "      <th></th>\n",
       "      <th>id_code</th>\n",
       "      <th>diagnosis</th>\n",
       "    </tr>\n",
       "  </thead>\n",
       "  <tbody>\n",
       "    <tr>\n",
       "      <th>0</th>\n",
       "      <td>000c1434d8d7</td>\n",
       "      <td>2</td>\n",
       "    </tr>\n",
       "    <tr>\n",
       "      <th>1</th>\n",
       "      <td>001639a390f0</td>\n",
       "      <td>4</td>\n",
       "    </tr>\n",
       "    <tr>\n",
       "      <th>2</th>\n",
       "      <td>0024cdab0c1e</td>\n",
       "      <td>1</td>\n",
       "    </tr>\n",
       "    <tr>\n",
       "      <th>3</th>\n",
       "      <td>002c21358ce6</td>\n",
       "      <td>0</td>\n",
       "    </tr>\n",
       "    <tr>\n",
       "      <th>4</th>\n",
       "      <td>005b95c28852</td>\n",
       "      <td>0</td>\n",
       "    </tr>\n",
       "  </tbody>\n",
       "</table>\n",
       "</div>"
      ],
      "text/plain": [
       "        id_code  diagnosis\n",
       "0  000c1434d8d7          2\n",
       "1  001639a390f0          4\n",
       "2  0024cdab0c1e          1\n",
       "3  002c21358ce6          0\n",
       "4  005b95c28852          0"
      ]
     },
     "execution_count": 4,
     "metadata": {},
     "output_type": "execute_result"
    }
   ],
   "source": [
    "train_Data = pd.read_csv(\"../input/aptos2019-blindness-detection/train.csv\")\n",
    "train_Data.head()"
   ]
  },
  {
   "cell_type": "code",
   "execution_count": 5,
   "id": "0622499a",
   "metadata": {
    "execution": {
     "iopub.execute_input": "2022-12-27T07:14:33.446273Z",
     "iopub.status.busy": "2022-12-27T07:14:33.445601Z",
     "iopub.status.idle": "2022-12-27T07:14:33.454085Z",
     "shell.execute_reply": "2022-12-27T07:14:33.452868Z"
    },
    "papermill": {
     "duration": 0.017642,
     "end_time": "2022-12-27T07:14:33.456199",
     "exception": false,
     "start_time": "2022-12-27T07:14:33.438557",
     "status": "completed"
    },
    "tags": []
   },
   "outputs": [],
   "source": [
    "id_code_Data = train_Data['id_code']\n",
    "diagnosis_Data = train_Data['diagnosis']"
   ]
  },
  {
   "cell_type": "code",
   "execution_count": 6,
   "id": "4ea45753",
   "metadata": {
    "execution": {
     "iopub.execute_input": "2022-12-27T07:14:33.470081Z",
     "iopub.status.busy": "2022-12-27T07:14:33.469106Z",
     "iopub.status.idle": "2022-12-27T07:21:43.349811Z",
     "shell.execute_reply": "2022-12-27T07:21:43.348357Z"
    },
    "papermill": {
     "duration": 429.891847,
     "end_time": "2022-12-27T07:21:43.353977",
     "exception": false,
     "start_time": "2022-12-27T07:14:33.462130",
     "status": "completed"
    },
    "tags": []
   },
   "outputs": [
    {
     "name": "stderr",
     "output_type": "stream",
     "text": [
      "3662it [07:09,  8.52it/s]\n"
     ]
    }
   ],
   "source": [
    "for id_code,diagnosis in tqdm(zip(id_code_Data,diagnosis_Data)):\n",
    "    path = os.path.join('../input/aptos2019-blindness-detection/train_images','{}.png'.format(id_code))\n",
    "    prepare_Images(diagnosis,path)"
   ]
  },
  {
   "cell_type": "code",
   "execution_count": 7,
   "id": "9910e47a",
   "metadata": {
    "execution": {
     "iopub.execute_input": "2022-12-27T07:21:43.612422Z",
     "iopub.status.busy": "2022-12-27T07:21:43.611977Z",
     "iopub.status.idle": "2022-12-27T07:21:44.582131Z",
     "shell.execute_reply": "2022-12-27T07:21:44.580810Z"
    },
    "papermill": {
     "duration": 1.102239,
     "end_time": "2022-12-27T07:21:44.584892",
     "exception": false,
     "start_time": "2022-12-27T07:21:43.482653",
     "status": "completed"
    },
    "tags": []
   },
   "outputs": [],
   "source": [
    "images = np.array(dataset)\n",
    "label_arr = np.array(labels)"
   ]
  },
  {
   "cell_type": "code",
   "execution_count": 8,
   "id": "202a78b1",
   "metadata": {
    "execution": {
     "iopub.execute_input": "2022-12-27T07:21:44.844062Z",
     "iopub.status.busy": "2022-12-27T07:21:44.843611Z",
     "iopub.status.idle": "2022-12-27T07:21:47.033550Z",
     "shell.execute_reply": "2022-12-27T07:21:47.032264Z"
    },
    "papermill": {
     "duration": 2.321108,
     "end_time": "2022-12-27T07:21:47.036517",
     "exception": false,
     "start_time": "2022-12-27T07:21:44.715409",
     "status": "completed"
    },
    "tags": []
   },
   "outputs": [],
   "source": [
    "\n",
    "from sklearn.model_selection import train_test_split\n",
    "x_train,x_test,y_train,y_test = train_test_split(images,label_arr,stratify=label_arr,test_size=0.20,random_state=44)"
   ]
  },
  {
   "cell_type": "code",
   "execution_count": 9,
   "id": "5c9bd8df",
   "metadata": {
    "execution": {
     "iopub.execute_input": "2022-12-27T07:21:47.429464Z",
     "iopub.status.busy": "2022-12-27T07:21:47.428808Z",
     "iopub.status.idle": "2022-12-27T07:21:47.438904Z",
     "shell.execute_reply": "2022-12-27T07:21:47.437398Z"
    },
    "papermill": {
     "duration": 0.1429,
     "end_time": "2022-12-27T07:21:47.441510",
     "exception": false,
     "start_time": "2022-12-27T07:21:47.298610",
     "status": "completed"
    },
    "tags": []
   },
   "outputs": [
    {
     "data": {
      "text/plain": [
       "(2929, 224, 224, 3)"
      ]
     },
     "execution_count": 9,
     "metadata": {},
     "output_type": "execute_result"
    }
   ],
   "source": [
    "x_train.shape"
   ]
  },
  {
   "cell_type": "code",
   "execution_count": 10,
   "id": "92ca461b",
   "metadata": {
    "execution": {
     "iopub.execute_input": "2022-12-27T07:21:47.714941Z",
     "iopub.status.busy": "2022-12-27T07:21:47.714422Z",
     "iopub.status.idle": "2022-12-27T07:21:47.723577Z",
     "shell.execute_reply": "2022-12-27T07:21:47.721566Z"
    },
    "papermill": {
     "duration": 0.153412,
     "end_time": "2022-12-27T07:21:47.726522",
     "exception": false,
     "start_time": "2022-12-27T07:21:47.573110",
     "status": "completed"
    },
    "tags": []
   },
   "outputs": [
    {
     "data": {
      "text/plain": [
       "(733, 224, 224, 3)"
      ]
     },
     "execution_count": 10,
     "metadata": {},
     "output_type": "execute_result"
    }
   ],
   "source": [
    "x_test.shape"
   ]
  },
  {
   "cell_type": "code",
   "execution_count": 11,
   "id": "2fb195fd",
   "metadata": {
    "execution": {
     "iopub.execute_input": "2022-12-27T07:21:48.004389Z",
     "iopub.status.busy": "2022-12-27T07:21:48.003434Z",
     "iopub.status.idle": "2022-12-27T07:21:48.012991Z",
     "shell.execute_reply": "2022-12-27T07:21:48.011369Z"
    },
    "papermill": {
     "duration": 0.15608,
     "end_time": "2022-12-27T07:21:48.016443",
     "exception": false,
     "start_time": "2022-12-27T07:21:47.860363",
     "status": "completed"
    },
    "tags": []
   },
   "outputs": [
    {
     "data": {
      "text/plain": [
       "(2929,)"
      ]
     },
     "execution_count": 11,
     "metadata": {},
     "output_type": "execute_result"
    }
   ],
   "source": [
    "y_train.shape"
   ]
  },
  {
   "cell_type": "code",
   "execution_count": 12,
   "id": "da498678",
   "metadata": {
    "execution": {
     "iopub.execute_input": "2022-12-27T07:21:48.290906Z",
     "iopub.status.busy": "2022-12-27T07:21:48.289838Z",
     "iopub.status.idle": "2022-12-27T07:21:48.297814Z",
     "shell.execute_reply": "2022-12-27T07:21:48.296692Z"
    },
    "papermill": {
     "duration": 0.143021,
     "end_time": "2022-12-27T07:21:48.300263",
     "exception": false,
     "start_time": "2022-12-27T07:21:48.157242",
     "status": "completed"
    },
    "tags": []
   },
   "outputs": [
    {
     "data": {
      "text/plain": [
       "(733,)"
      ]
     },
     "execution_count": 12,
     "metadata": {},
     "output_type": "execute_result"
    }
   ],
   "source": [
    "y_test.shape"
   ]
  },
  {
   "cell_type": "code",
   "execution_count": 13,
   "id": "75ce80b4",
   "metadata": {
    "execution": {
     "iopub.execute_input": "2022-12-27T07:21:48.563858Z",
     "iopub.status.busy": "2022-12-27T07:21:48.563114Z",
     "iopub.status.idle": "2022-12-27T07:21:48.570721Z",
     "shell.execute_reply": "2022-12-27T07:21:48.569626Z"
    },
    "papermill": {
     "duration": 0.145169,
     "end_time": "2022-12-27T07:21:48.573866",
     "exception": false,
     "start_time": "2022-12-27T07:21:48.428697",
     "status": "completed"
    },
    "tags": []
   },
   "outputs": [],
   "source": [
    "y_train= np_utils.to_categorical(y_train, num_classes=5)\n",
    "y_test = np_utils.to_categorical(y_test, num_classes=5)"
   ]
  },
  {
   "cell_type": "code",
   "execution_count": 14,
   "id": "640bdd59",
   "metadata": {
    "execution": {
     "iopub.execute_input": "2022-12-27T07:21:48.830729Z",
     "iopub.status.busy": "2022-12-27T07:21:48.830003Z",
     "iopub.status.idle": "2022-12-27T07:21:49.251769Z",
     "shell.execute_reply": "2022-12-27T07:21:49.250782Z"
    },
    "papermill": {
     "duration": 0.553213,
     "end_time": "2022-12-27T07:21:49.254905",
     "exception": false,
     "start_time": "2022-12-27T07:21:48.701692",
     "status": "completed"
    },
    "tags": []
   },
   "outputs": [
    {
     "name": "stderr",
     "output_type": "stream",
     "text": [
      "2022-12-27 07:21:48.897801: I tensorflow/core/common_runtime/process_util.cc:146] Creating new thread pool with default inter op setting: 2. Tune using inter_op_parallelism_threads for best performance.\n"
     ]
    },
    {
     "name": "stdout",
     "output_type": "stream",
     "text": [
      "Model: \"sequential\"\n",
      "_________________________________________________________________\n",
      "Layer (type)                 Output Shape              Param #   \n",
      "=================================================================\n",
      "conv2d (Conv2D)              (None, 224, 224, 16)      208       \n",
      "_________________________________________________________________\n",
      "max_pooling2d (MaxPooling2D) (None, 112, 112, 16)      0         \n",
      "_________________________________________________________________\n",
      "conv2d_1 (Conv2D)            (None, 112, 112, 32)      2080      \n",
      "_________________________________________________________________\n",
      "max_pooling2d_1 (MaxPooling2 (None, 56, 56, 32)        0         \n",
      "_________________________________________________________________\n",
      "conv2d_2 (Conv2D)            (None, 56, 56, 64)        8256      \n",
      "_________________________________________________________________\n",
      "max_pooling2d_2 (MaxPooling2 (None, 28, 28, 64)        0         \n",
      "_________________________________________________________________\n",
      "conv2d_3 (Conv2D)            (None, 28, 28, 128)       32896     \n",
      "_________________________________________________________________\n",
      "max_pooling2d_3 (MaxPooling2 (None, 14, 14, 128)       0         \n",
      "_________________________________________________________________\n",
      "dropout (Dropout)            (None, 14, 14, 128)       0         \n",
      "_________________________________________________________________\n",
      "flatten (Flatten)            (None, 25088)             0         \n",
      "_________________________________________________________________\n",
      "dense (Dense)                (None, 512)               12845568  \n",
      "_________________________________________________________________\n",
      "dropout_1 (Dropout)          (None, 512)               0         \n",
      "_________________________________________________________________\n",
      "dense_1 (Dense)              (None, 5)                 2565      \n",
      "=================================================================\n",
      "Total params: 12,891,573\n",
      "Trainable params: 12,891,573\n",
      "Non-trainable params: 0\n",
      "_________________________________________________________________\n"
     ]
    }
   ],
   "source": [
    "model=Sequential()\n",
    "model.add(Conv2D(filters=16,kernel_size=2,padding=\"same\",activation=\"relu\",input_shape=(224,224,3)))\n",
    "model.add(MaxPooling2D(pool_size=2))\n",
    "model.add(Conv2D(filters=32,kernel_size=2,padding=\"same\",activation=\"relu\"))\n",
    "model.add(MaxPooling2D(pool_size=2))\n",
    "model.add(Conv2D(filters=64,kernel_size=2,padding=\"same\",activation=\"relu\"))\n",
    "model.add(MaxPooling2D(pool_size=2))\n",
    "model.add(Conv2D(filters=128,kernel_size=2,padding=\"same\",activation=\"relu\"))\n",
    "model.add(MaxPooling2D(pool_size=2))\n",
    "model.add(Dropout(0.2))\n",
    "model.add(Flatten())\n",
    "model.add(Dense(512,activation=\"relu\"))\n",
    "model.add(Dropout(0.2))\n",
    "model.add(Dense(5,activation=\"softmax\"))\n",
    "model.summary()"
   ]
  },
  {
   "cell_type": "code",
   "execution_count": 15,
   "id": "e1e0cf21",
   "metadata": {
    "execution": {
     "iopub.execute_input": "2022-12-27T07:21:49.526121Z",
     "iopub.status.busy": "2022-12-27T07:21:49.525151Z",
     "iopub.status.idle": "2022-12-27T07:35:30.662733Z",
     "shell.execute_reply": "2022-12-27T07:35:30.661395Z"
    },
    "papermill": {
     "duration": 821.27418,
     "end_time": "2022-12-27T07:35:30.666002",
     "exception": false,
     "start_time": "2022-12-27T07:21:49.391822",
     "status": "completed"
    },
    "tags": []
   },
   "outputs": [
    {
     "name": "stderr",
     "output_type": "stream",
     "text": [
      "2022-12-27 07:21:52.573967: I tensorflow/compiler/mlir/mlir_graph_optimization_pass.cc:185] None of the MLIR Optimization Passes are enabled (registered 2)\n"
     ]
    },
    {
     "name": "stdout",
     "output_type": "stream",
     "text": [
      "Epoch 1/30\n",
      "46/46 [==============================] - 29s 595ms/step - loss: 0.9419 - accuracy: 0.6514\n",
      "Epoch 2/30\n",
      "46/46 [==============================] - 27s 595ms/step - loss: 0.7703 - accuracy: 0.7228\n",
      "Epoch 3/30\n",
      "46/46 [==============================] - 27s 588ms/step - loss: 0.7423 - accuracy: 0.7255\n",
      "Epoch 4/30\n",
      "46/46 [==============================] - 27s 595ms/step - loss: 0.7099 - accuracy: 0.7398\n",
      "Epoch 5/30\n",
      "46/46 [==============================] - 27s 583ms/step - loss: 0.6855 - accuracy: 0.7429\n",
      "Epoch 6/30\n",
      "46/46 [==============================] - 27s 580ms/step - loss: 0.6551 - accuracy: 0.7525\n",
      "Epoch 7/30\n",
      "46/46 [==============================] - 27s 590ms/step - loss: 0.6088 - accuracy: 0.7736\n",
      "Epoch 8/30\n",
      "46/46 [==============================] - 27s 591ms/step - loss: 0.5719 - accuracy: 0.7822\n",
      "Epoch 9/30\n",
      "46/46 [==============================] - 27s 585ms/step - loss: 0.5317 - accuracy: 0.8030\n",
      "Epoch 10/30\n",
      "46/46 [==============================] - 27s 583ms/step - loss: 0.4866 - accuracy: 0.8156\n",
      "Epoch 11/30\n",
      "46/46 [==============================] - 27s 584ms/step - loss: 0.4355 - accuracy: 0.8382\n",
      "Epoch 12/30\n",
      "46/46 [==============================] - 26s 573ms/step - loss: 0.3926 - accuracy: 0.8535\n",
      "Epoch 13/30\n",
      "46/46 [==============================] - 27s 577ms/step - loss: 0.3349 - accuracy: 0.8812\n",
      "Epoch 14/30\n",
      "46/46 [==============================] - 27s 585ms/step - loss: 0.2872 - accuracy: 0.8952\n",
      "Epoch 15/30\n",
      "46/46 [==============================] - 27s 585ms/step - loss: 0.2656 - accuracy: 0.9058\n",
      "Epoch 16/30\n",
      "46/46 [==============================] - 27s 581ms/step - loss: 0.2145 - accuracy: 0.9242\n",
      "Epoch 17/30\n",
      "46/46 [==============================] - 27s 592ms/step - loss: 0.1755 - accuracy: 0.9389\n",
      "Epoch 18/30\n",
      "46/46 [==============================] - 27s 591ms/step - loss: 0.1598 - accuracy: 0.9437\n",
      "Epoch 19/30\n",
      "46/46 [==============================] - 27s 581ms/step - loss: 0.1273 - accuracy: 0.9611\n",
      "Epoch 20/30\n",
      "46/46 [==============================] - 27s 593ms/step - loss: 0.1056 - accuracy: 0.9693\n",
      "Epoch 21/30\n",
      "46/46 [==============================] - 29s 643ms/step - loss: 0.1101 - accuracy: 0.9710\n",
      "Epoch 22/30\n",
      "46/46 [==============================] - 30s 639ms/step - loss: 0.1139 - accuracy: 0.9655\n",
      "Epoch 23/30\n",
      "46/46 [==============================] - 27s 593ms/step - loss: 0.1114 - accuracy: 0.9693\n",
      "Epoch 24/30\n",
      "46/46 [==============================] - 27s 597ms/step - loss: 0.0871 - accuracy: 0.9751\n",
      "Epoch 25/30\n",
      "46/46 [==============================] - 27s 587ms/step - loss: 0.0622 - accuracy: 0.9802\n",
      "Epoch 26/30\n",
      "46/46 [==============================] - 27s 590ms/step - loss: 0.0710 - accuracy: 0.9829\n",
      "Epoch 27/30\n",
      "46/46 [==============================] - 27s 583ms/step - loss: 0.0574 - accuracy: 0.9819\n",
      "Epoch 28/30\n",
      "46/46 [==============================] - 27s 588ms/step - loss: 0.0690 - accuracy: 0.9775\n",
      "Epoch 29/30\n",
      "46/46 [==============================] - 27s 592ms/step - loss: 0.0626 - accuracy: 0.9833\n",
      "Epoch 30/30\n",
      "46/46 [==============================] - 27s 597ms/step - loss: 0.0523 - accuracy: 0.9863\n"
     ]
    }
   ],
   "source": [
    "import tensorflow\n",
    "model.compile(loss='categorical_crossentropy',\n",
    "              optimizer='adam', metrics=['accuracy'])\n",
    "hist = model.fit(x_train,y_train,batch_size=64,epochs=30,verbose=1)"
   ]
  },
  {
   "cell_type": "code",
   "execution_count": 16,
   "id": "d333a201",
   "metadata": {
    "execution": {
     "iopub.execute_input": "2022-12-27T07:35:31.152721Z",
     "iopub.status.busy": "2022-12-27T07:35:31.152311Z",
     "iopub.status.idle": "2022-12-27T07:35:33.150085Z",
     "shell.execute_reply": "2022-12-27T07:35:33.148761Z"
    },
    "papermill": {
     "duration": 2.212647,
     "end_time": "2022-12-27T07:35:33.152859",
     "exception": false,
     "start_time": "2022-12-27T07:35:30.940212",
     "status": "completed"
    },
    "tags": []
   },
   "outputs": [],
   "source": [
    "pred = model.predict(x_test)"
   ]
  },
  {
   "cell_type": "code",
   "execution_count": 17,
   "id": "89fe6608",
   "metadata": {
    "execution": {
     "iopub.execute_input": "2022-12-27T07:35:33.574418Z",
     "iopub.status.busy": "2022-12-27T07:35:33.573909Z",
     "iopub.status.idle": "2022-12-27T07:35:35.682489Z",
     "shell.execute_reply": "2022-12-27T07:35:35.681278Z"
    },
    "papermill": {
     "duration": 2.322138,
     "end_time": "2022-12-27T07:35:35.684844",
     "exception": false,
     "start_time": "2022-12-27T07:35:33.362706",
     "status": "completed"
    },
    "tags": []
   },
   "outputs": [
    {
     "name": "stdout",
     "output_type": "stream",
     "text": [
      "23/23 [==============================] - 2s 73ms/step - loss: 1.2823 - accuracy: 0.7517\n"
     ]
    },
    {
     "data": {
      "text/plain": [
       "[1.2822548151016235, 0.7517053484916687]"
      ]
     },
     "execution_count": 17,
     "metadata": {},
     "output_type": "execute_result"
    }
   ],
   "source": [
    "model.evaluate(x_test,y_test)"
   ]
  },
  {
   "cell_type": "code",
   "execution_count": 18,
   "id": "dc17f0cf",
   "metadata": {
    "execution": {
     "iopub.execute_input": "2022-12-27T07:35:36.123222Z",
     "iopub.status.busy": "2022-12-27T07:35:36.122745Z",
     "iopub.status.idle": "2022-12-27T07:35:36.131099Z",
     "shell.execute_reply": "2022-12-27T07:35:36.129747Z"
    },
    "papermill": {
     "duration": 0.235022,
     "end_time": "2022-12-27T07:35:36.133474",
     "exception": false,
     "start_time": "2022-12-27T07:35:35.898452",
     "status": "completed"
    },
    "tags": []
   },
   "outputs": [
    {
     "name": "stdout",
     "output_type": "stream",
     "text": [
      "0.75\n"
     ]
    }
   ],
   "source": [
    "from sklearn.metrics import accuracy_score, classification_report,confusion_matrix\n",
    "score = round(accuracy_score(y_test.argmax(axis=1), pred.argmax(axis=1)),2)\n",
    "print(score)\n"
   ]
  },
  {
   "cell_type": "code",
   "execution_count": 19,
   "id": "93daaa78",
   "metadata": {
    "execution": {
     "iopub.execute_input": "2022-12-27T07:35:36.561996Z",
     "iopub.status.busy": "2022-12-27T07:35:36.561199Z",
     "iopub.status.idle": "2022-12-27T07:35:36.572489Z",
     "shell.execute_reply": "2022-12-27T07:35:36.571348Z"
    },
    "papermill": {
     "duration": 0.226284,
     "end_time": "2022-12-27T07:35:36.574839",
     "exception": false,
     "start_time": "2022-12-27T07:35:36.348555",
     "status": "completed"
    },
    "tags": []
   },
   "outputs": [
    {
     "name": "stdout",
     "output_type": "stream",
     "text": [
      "              precision    recall  f1-score   support\n",
      "\n",
      "           0       0.94      0.96      0.95       361\n",
      "           1       0.48      0.45      0.46        74\n",
      "           2       0.64      0.69      0.66       200\n",
      "           3       0.47      0.23      0.31        39\n",
      "           4       0.40      0.39      0.39        59\n",
      "\n",
      "    accuracy                           0.75       733\n",
      "   macro avg       0.58      0.54      0.56       733\n",
      "weighted avg       0.74      0.75      0.74       733\n",
      "\n"
     ]
    }
   ],
   "source": [
    "\n",
    "report = classification_report(y_test.argmax(axis=1), pred.argmax(axis=1))\n",
    "print(report)\n"
   ]
  },
  {
   "cell_type": "code",
   "execution_count": 20,
   "id": "857a9edb",
   "metadata": {
    "execution": {
     "iopub.execute_input": "2022-12-27T07:35:37.068567Z",
     "iopub.status.busy": "2022-12-27T07:35:37.067581Z",
     "iopub.status.idle": "2022-12-27T07:35:37.077209Z",
     "shell.execute_reply": "2022-12-27T07:35:37.075645Z"
    },
    "papermill": {
     "duration": 0.225586,
     "end_time": "2022-12-27T07:35:37.080070",
     "exception": false,
     "start_time": "2022-12-27T07:35:36.854484",
     "status": "completed"
    },
    "tags": []
   },
   "outputs": [
    {
     "name": "stdout",
     "output_type": "stream",
     "text": [
      "[[348   7   6   0   0]\n",
      " [  9  33  23   1   8]\n",
      " [ 12  21 138   6  23]\n",
      " [  1   1  24   9   4]\n",
      " [  0   7  26   3  23]]\n"
     ]
    }
   ],
   "source": [
    "conMat = confusion_matrix(y_test.argmax(axis=1),pred.argmax(axis=1))\n",
    "print(conMat)"
   ]
  },
  {
   "cell_type": "code",
   "execution_count": 21,
   "id": "e86301c9",
   "metadata": {
    "execution": {
     "iopub.execute_input": "2022-12-27T07:35:37.511421Z",
     "iopub.status.busy": "2022-12-27T07:35:37.510927Z",
     "iopub.status.idle": "2022-12-27T07:35:37.695749Z",
     "shell.execute_reply": "2022-12-27T07:35:37.694776Z"
    },
    "papermill": {
     "duration": 0.405443,
     "end_time": "2022-12-27T07:35:37.698686",
     "exception": false,
     "start_time": "2022-12-27T07:35:37.293243",
     "status": "completed"
    },
    "tags": []
   },
   "outputs": [
    {
     "data": {
      "text/plain": [
       "<matplotlib.image.AxesImage at 0x7f6bda7e2cd0>"
      ]
     },
     "execution_count": 21,
     "metadata": {},
     "output_type": "execute_result"
    },
    {
     "data": {
      "image/png": "[encoded data removed]",
      "text/plain": [
       "<Figure size 432x288 with 1 Axes>"
      ]
     },
     "metadata": {
      "needs_background": "light"
     },
     "output_type": "display_data"
    }
   ],
   "source": [
    "plt.axis('off')\n",
    "plt.imshow(x_train[0])"
   ]
  },
  {
   "cell_type": "code",
   "execution_count": 22,
   "id": "bc5c8b9d",
   "metadata": {
    "execution": {
     "iopub.execute_input": "2022-12-27T07:35:38.130923Z",
     "iopub.status.busy": "2022-12-27T07:35:38.130506Z",
     "iopub.status.idle": "2022-12-27T07:35:38.138351Z",
     "shell.execute_reply": "2022-12-27T07:35:38.137040Z"
    },
    "papermill": {
     "duration": 0.226324,
     "end_time": "2022-12-27T07:35:38.140675",
     "exception": false,
     "start_time": "2022-12-27T07:35:37.914351",
     "status": "completed"
    },
    "tags": []
   },
   "outputs": [
    {
     "data": {
      "text/plain": [
       "array([0., 0., 1., 0., 0.], dtype=float32)"
      ]
     },
     "execution_count": 22,
     "metadata": {},
     "output_type": "execute_result"
    }
   ],
   "source": [
    "y_train[0]"
   ]
  }
 ],
 "metadata": {
  "kernelspec": {
   "display_name": "Python 3",
   "language": "python",
   "name": "python3"
  },
  "language_info": {
   "codemirror_mode": {
    "name": "ipython",
    "version": 3
   },
   "file_extension": ".py",
   "mimetype": "text/x-python",
   "name": "python",
   "nbconvert_exporter": "python",
   "pygments_lexer": "ipython3",
   "version": "3.7.12"
  },
  "papermill": {
   "default_parameters": {},
   "duration": 1284.57472,
   "end_time": "2022-12-27T07:35:41.639808",
   "environment_variables": {},
   "exception": null,
   "input_path": "__notebook__.ipynb",
   "output_path": "__notebook__.ipynb",
   "parameters": {},
   "start_time": "2022-12-27T07:14:17.065088",
   "version": "2.3.4"
  }
 },
 "nbformat": 4,
 "nbformat_minor": 5
}
